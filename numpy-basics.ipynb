{
 "cells": [
  {
   "cell_type": "code",
   "execution_count": 2,
   "id": "552eae28-2e8c-47be-a30f-e53133bb4a36",
   "metadata": {},
   "outputs": [],
   "source": [
    "# Importing the Numpy library with an alias 'np' to use in all the numpy problems.\n",
    "import numpy as np"
   ]
  },
  {
   "cell_type": "markdown",
   "id": "74fe4bac-8cf7-485e-b76e-1e43eaeddbca",
   "metadata": {},
   "source": [
    "1. Write a Numpy program to get Numpy version and build configuration."
   ]
  },
  {
   "cell_type": "code",
   "execution_count": 3,
   "id": "65d05b08-e3b3-4f9c-b945-3864ee7b98b2",
   "metadata": {},
   "outputs": [
    {
     "name": "stdout",
     "output_type": "stream",
     "text": [
      "1.26.4\n",
      "Build Dependencies:\n",
      "  blas:\n",
      "    detection method: pkgconfig\n",
      "    found: true\n",
      "    include directory: C:/Users/Madhavz/anaconda3/Library/include\n",
      "    lib directory: C:/Users/Madhavz/anaconda3/Library/lib\n",
      "    name: mkl-sdl\n",
      "    openblas configuration: unknown\n",
      "    pc file directory: C:\\b\\abs_c1ywpu18ar\\croot\\numpy_and_numpy_base_1708638681471\\_h_env\\Library\\lib\\pkgconfig\n",
      "    version: '2023.1'\n",
      "  lapack:\n",
      "    detection method: internal\n",
      "    found: true\n",
      "    include directory: unknown\n",
      "    lib directory: unknown\n",
      "    name: dep1868282989520\n",
      "    openblas configuration: unknown\n",
      "    pc file directory: unknown\n",
      "    version: 1.26.4\n",
      "Compilers:\n",
      "  c:\n",
      "    commands: cl.exe\n",
      "    linker: link\n",
      "    name: msvc\n",
      "    version: 19.29.30154\n",
      "  c++:\n",
      "    commands: cl.exe\n",
      "    linker: link\n",
      "    name: msvc\n",
      "    version: 19.29.30154\n",
      "  cython:\n",
      "    commands: cython\n",
      "    linker: cython\n",
      "    name: cython\n",
      "    version: 3.0.8\n",
      "Machine Information:\n",
      "  build:\n",
      "    cpu: x86_64\n",
      "    endian: little\n",
      "    family: x86_64\n",
      "    system: windows\n",
      "  host:\n",
      "    cpu: x86_64\n",
      "    endian: little\n",
      "    family: x86_64\n",
      "    system: windows\n",
      "Python Information:\n",
      "  path: C:\\b\\abs_c1ywpu18ar\\croot\\numpy_and_numpy_base_1708638681471\\_h_env\\python.exe\n",
      "  version: '3.11'\n",
      "SIMD Extensions:\n",
      "  baseline:\n",
      "  - SSE\n",
      "  - SSE2\n",
      "  - SSE3\n",
      "  found:\n",
      "  - SSSE3\n",
      "  - SSE41\n",
      "  - POPCNT\n",
      "  - SSE42\n",
      "  - AVX\n",
      "  - F16C\n",
      "  - FMA3\n",
      "  - AVX2\n",
      "  - AVX512F\n",
      "  - AVX512CD\n",
      "  - AVX512_SKX\n",
      "  - AVX512_CLX\n",
      "  - AVX512_CNL\n",
      "  - AVX512_ICL\n",
      "\n",
      "None\n"
     ]
    }
   ],
   "source": [
    "# np.__version__ : this will give us the version installed in our system\n",
    "print(np.__version__)\n",
    "\n",
    "# np.show_config() : this method is used to get the configuration of numpy\n",
    "print(np.show_config())"
   ]
  },
  {
   "cell_type": "markdown",
   "id": "cbf27416-5448-462d-8aec-1f55915084b7",
   "metadata": {},
   "source": [
    "2. Write a NumPy program to get help with the add function."
   ]
  },
  {
   "cell_type": "code",
   "execution_count": 4,
   "id": "d889a754-999a-4588-9605-90adf04f66ca",
   "metadata": {},
   "outputs": [
    {
     "name": "stdout",
     "output_type": "stream",
     "text": [
      "add(x1, x2, /, out=None, *, where=True, casting='same_kind', order='K', dtype=None, subok=True[, signature, extobj])\n",
      "\n",
      "Add arguments element-wise.\n",
      "\n",
      "Parameters\n",
      "----------\n",
      "x1, x2 : array_like\n",
      "    The arrays to be added.\n",
      "    If ``x1.shape != x2.shape``, they must be broadcastable to a common\n",
      "    shape (which becomes the shape of the output).\n",
      "out : ndarray, None, or tuple of ndarray and None, optional\n",
      "    A location into which the result is stored. If provided, it must have\n",
      "    a shape that the inputs broadcast to. If not provided or None,\n",
      "    a freshly-allocated array is returned. A tuple (possible only as a\n",
      "    keyword argument) must have length equal to the number of outputs.\n",
      "where : array_like, optional\n",
      "    This condition is broadcast over the input. At locations where the\n",
      "    condition is True, the `out` array will be set to the ufunc result.\n",
      "    Elsewhere, the `out` array will retain its original value.\n",
      "    Note that if an uninitialized `out` array is created via the default\n",
      "    ``out=None``, locations within it where the condition is False will\n",
      "    remain uninitialized.\n",
      "**kwargs\n",
      "    For other keyword-only arguments, see the\n",
      "    :ref:`ufunc docs <ufuncs.kwargs>`.\n",
      "\n",
      "Returns\n",
      "-------\n",
      "add : ndarray or scalar\n",
      "    The sum of `x1` and `x2`, element-wise.\n",
      "    This is a scalar if both `x1` and `x2` are scalars.\n",
      "\n",
      "Notes\n",
      "-----\n",
      "Equivalent to `x1` + `x2` in terms of array broadcasting.\n",
      "\n",
      "Examples\n",
      "--------\n",
      ">>> np.add(1.0, 4.0)\n",
      "5.0\n",
      ">>> x1 = np.arange(9.0).reshape((3, 3))\n",
      ">>> x2 = np.arange(3.0)\n",
      ">>> np.add(x1, x2)\n",
      "array([[  0.,   2.,   4.],\n",
      "       [  3.,   5.,   7.],\n",
      "       [  6.,   8.,  10.]])\n",
      "\n",
      "The ``+`` operator can be used as a shorthand for ``np.add`` on ndarrays.\n",
      "\n",
      ">>> x1 = np.arange(9.0).reshape((3, 3))\n",
      ">>> x2 = np.arange(3.0)\n",
      ">>> x1 + x2\n",
      "array([[ 0.,  2.,  4.],\n",
      "       [ 3.,  5.,  7.],\n",
      "       [ 6.,  8., 10.]])\n"
     ]
    }
   ],
   "source": [
    "# np.info(argument) : this method is used to get information about the argument that we pass to it\n",
    "np.info(np.add)"
   ]
  },
  {
   "cell_type": "markdown",
   "id": "acd8cbbc-90fd-409a-9516-a3e450e6d811",
   "metadata": {},
   "source": [
    "3. Write a NumPy program to test whether none of the elements of a given array are zero."
   ]
  },
  {
   "cell_type": "code",
   "execution_count": 5,
   "id": "f80fac49-a0ad-4f17-b114-476e301469d3",
   "metadata": {},
   "outputs": [
    {
     "name": "stdout",
     "output_type": "stream",
     "text": [
      "True\n",
      "False\n"
     ]
    }
   ],
   "source": [
    "# np.array(iterable) : this method is used to create an array of elements passed in the iterable\n",
    "arr1 = np.array([1, 2, 3, 4])\n",
    "\n",
    "# np.all(array) : this method returns true if all the elements in the array are non-zero else returns false.\n",
    "print(np.all(arr1))\n",
    "\n",
    "# take another array 'arr2' containing elements 0, 1, 2, and 3\n",
    "arr2 = np.array([0, 1, 2, 3])\n",
    "\n",
    "print(np.all(arr2))"
   ]
  },
  {
   "cell_type": "markdown",
   "id": "0a489a14-cb03-4975-84a2-f555f7258ba4",
   "metadata": {},
   "source": [
    "4. Write a Numpy program to test if any of the elements of a given array are non-zero."
   ]
  },
  {
   "cell_type": "code",
   "execution_count": 6,
   "id": "e9a58ca9-a91e-475f-83a3-55b986ced9ea",
   "metadata": {},
   "outputs": [
    {
     "name": "stdout",
     "output_type": "stream",
     "text": [
      "True\n",
      "False\n"
     ]
    }
   ],
   "source": [
    "# Creating an array 'arr1' containing elements 1, 2, 3, and 4\n",
    "arr1 = np.array([1, 2, 3, 4])\n",
    "\n",
    "# np.any(array) : this method returns true if any element in the arrray is non-zero else returns false.\n",
    "print(np.any(arr1))\n",
    "\n",
    "# another array with 4 elements as zero\n",
    "print(np.any([0, 0, 0, 0]))"
   ]
  },
  {
   "cell_type": "markdown",
   "id": "4c22d597-ed8b-4927-8710-6bf5215b9e21",
   "metadata": {},
   "source": [
    "5. Write a NumPy program to test a given array element-wise for finiteness (not infinity or not a number)."
   ]
  },
  {
   "cell_type": "code",
   "execution_count": 7,
   "id": "13d4dd74-d7a2-4377-9abc-1cfa61dee01d",
   "metadata": {},
   "outputs": [
    {
     "name": "stdout",
     "output_type": "stream",
     "text": [
      "[ True  True False False]\n"
     ]
    }
   ],
   "source": [
    "# create an array containing 12, 22, NaN and Infinity\n",
    "# np.nan: it produces not a number (NaN)\n",
    "# np.inf: it produces infinity \n",
    "arr = np.array([12, 22, np.nan, np.inf])\n",
    "\n",
    "# np.isfinite(array) : Returns an array containing true for the corresponding element if the element is finite else false.\n",
    "print(np.isfinite(arr))"
   ]
  },
  {
   "cell_type": "markdown",
   "id": "8de3866a-0139-499f-acab-1e8559d2b090",
   "metadata": {},
   "source": [
    "6. Write a NumPy program to test elements-wise for positive or negative infinity. "
   ]
  },
  {
   "cell_type": "code",
   "execution_count": 8,
   "id": "55677401-7839-448f-b0b7-409172af0138",
   "metadata": {},
   "outputs": [
    {
     "name": "stdout",
     "output_type": "stream",
     "text": [
      "Positive Infinity Checking:  [ True False False False False  True]\n",
      "Negative Infinity Checking:  [False  True False False False False]\n"
     ]
    }
   ],
   "source": [
    "# creating an array containing positive infinity, negative infinity and some integers\n",
    "# np.inf: it produces infinity \n",
    "arr = np.array([np.inf, -np.inf, 0, 12, 22, np.inf])\n",
    "\n",
    "# np.isposinf(array) : this method checks for positive infinities in the array and returns true for it if found else false as an array\n",
    "print('Positive Infinity Checking: ', np.isposinf(arr))\n",
    "\n",
    "# np.isneginf(array) : this method checks for negative infinities in the array and returns true for it if found else false as an array\n",
    "print('Negative Infinity Checking: ', np.isneginf(arr))"
   ]
  },
  {
   "cell_type": "markdown",
   "id": "a000147b-10fe-41ca-9533-18879d397722",
   "metadata": {},
   "source": [
    "7. Write a NumPy program to test element-wise for NaN of a given array."
   ]
  },
  {
   "cell_type": "code",
   "execution_count": 9,
   "id": "3c25e051-edcb-4214-b989-6fc09441939d",
   "metadata": {},
   "outputs": [
    {
     "name": "stdout",
     "output_type": "stream",
     "text": [
      "Original Array:  [nan 22. 12. nan inf]\n",
      "NaN Checking:  [ True False False  True False]\n"
     ]
    }
   ],
   "source": [
    "# creating an array containing NaN and some integers\n",
    "# np.nan: it produces not a number (NaN)\n",
    "arr = np.array([np.nan, 22, 12, np.nan, np.inf])\n",
    "\n",
    "# np.isnan(array) : this method checks for NaN and returns a boolean array\n",
    "print('Original Array: ', arr)\n",
    "print('NaN Checking: ', np.isnan(arr))"
   ]
  },
  {
   "cell_type": "markdown",
   "id": "cab15273-3978-4bd0-b3d1-e8f7b523a4dd",
   "metadata": {},
   "source": [
    "8. Write a NumPy program to test element-wise for complex numbers, real numbers in a given array. Also test if a given number is of a scalar type or not. "
   ]
  },
  {
   "cell_type": "code",
   "execution_count": 10,
   "id": "eb93ebd1-6894-483d-ad06-f608e25136dc",
   "metadata": {},
   "outputs": [
    {
     "name": "stdout",
     "output_type": "stream",
     "text": [
      "Original Array:  [12.+22.j 22. +0.j 12. +0.j 22.+12.j]\n",
      "Complex Number Checking:  [ True False False  True]\n",
      "Real Number Checking:  [False  True  True False]\n",
      "Scalars Checking:  True\n"
     ]
    }
   ],
   "source": [
    "# create an array with elements containing complex, real and integer numbers.\n",
    "arr = np.array([complex(12, 22), 22, 12, complex(22, 12)])\n",
    "\n",
    "# np.iscomplex(array) : This method checks for complex number elements in an array. Return a boolean array.\n",
    "# np.isreal(array) : This method checks for real number elements in an array. Return a boolean array.\n",
    "# np.isscalar(array) : This method checks a number and returns true if it is a number else false.\n",
    "print('Original Array: ', arr)\n",
    "print('Complex Number Checking: ', np.iscomplex(arr))\n",
    "print('Real Number Checking: ', np.isreal(arr))\n",
    "print('Scalars Checking: ', np.isscalar(25.5))"
   ]
  },
  {
   "cell_type": "markdown",
   "id": "e15d5c30-dd89-4622-8753-5799dd9c4601",
   "metadata": {},
   "source": [
    "9. Write a NumPy program to test whether two arrays are element-wise equal within a tolerance."
   ]
  },
  {
   "cell_type": "code",
   "execution_count": 11,
   "id": "e4d9af60-6b2b-442d-8866-36ae2eb70339",
   "metadata": {},
   "outputs": [
    {
     "name": "stdout",
     "output_type": "stream",
     "text": [
      "Identical Arrays:  True\n",
      "False\n",
      "True\n",
      "False\n",
      "Equal arrays with NaN:  False\n",
      "Equal arrays with NaN, with \"equal_nan=True\" argument:  True\n"
     ]
    }
   ],
   "source": [
    "# create two identical arrays with four elements each\n",
    "arr1 = np.array([1, 2, 3, 4])\n",
    "arr2 = np.array([1, 2, 3, 4])\n",
    "\n",
    "# np.allclose(array1, array2) : This method returns True if the specified arrays are element-wise equal within a tolerance.\n",
    "print('Identical Arrays: ',np.allclose(arr1, arr2))\n",
    "\n",
    "# lets go with multiple type of arrays with different tolerance: \n",
    "print(np.allclose([1e10,1e-7], [1.00001e10,1e-8]))\n",
    "print(np.allclose([1e10,1e-8], [1.00001e10,1e-9]))\n",
    "print(np.allclose([1e10,1e-8], [1.0001e10,1e-9]))\n",
    "\n",
    "print('Equal arrays with NaN: ',np.allclose([1.0, np.nan], [1.0, np.nan]))\n",
    "print('Equal arrays with NaN, with \"equal_nan=True\" argument: ', np.allclose([1.0, np.nan], [1.0, np.nan], equal_nan=True)) "
   ]
  },
  {
   "cell_type": "markdown",
   "id": "e285b06e-dd30-44ef-89fc-c9bcffcd1a72",
   "metadata": {},
   "source": [
    "10. Write a NumPy program to create an element-wise comparison (greater, greater_equal, less and less_equal) of two given arrays."
   ]
  },
  {
   "cell_type": "code",
   "execution_count": 12,
   "id": "f63d8734-b90e-48fe-8cbf-f82df58306e9",
   "metadata": {},
   "outputs": [
    {
     "name": "stdout",
     "output_type": "stream",
     "text": [
      "Array 1:  [ 12  22  32  34  55 838]\n",
      "Array 2:  [ 22  34  35 235  44 893]\n",
      "greater Array:  [False False False False  True False]\n",
      "greater_equal:  [False False False False  True False]\n",
      "less:  [ True  True  True  True False  True]\n",
      "less_equal:  [ True  True  True  True False  True]\n"
     ]
    }
   ],
   "source": [
    "# create two arrays of same size with different elements\n",
    "arr1 = np.array([12, 22, 32, 34, 55, 838])\n",
    "arr2 = np.array([22, 34, 35, 235, 44, 893])\n",
    "\n",
    "# np.greater(array1, array2) is same as array1 > array2 \n",
    "# np.greater_equal(array1, array2) is same as array1 >= array2\n",
    "# np.less(array1, array2) is same as array1 < array2\n",
    "# np.less_equal(array1, array2) is same as array1 <= array2\n",
    "\n",
    "print('Array 1: ', arr1)\n",
    "print('Array 2: ', arr2)\n",
    "print('greater Array: ', np.greater(arr1, arr2))\n",
    "print('greater_equal: ', np.greater_equal(arr1, arr2))\n",
    "print('less: ', np.less(arr1, arr2))\n",
    "print('less_equal: ', np.less_equal(arr1, arr2))"
   ]
  },
  {
   "cell_type": "markdown",
   "id": "3e372898-6a3b-4310-b9e3-ac4797373ac9",
   "metadata": {},
   "source": [
    "11. Write a NumPy program to create an element-wise comparison (equal, equal within a tolerance) of two given arrays."
   ]
  },
  {
   "cell_type": "code",
   "execution_count": 13,
   "id": "5756adcd-3d1c-4986-b7a3-cc8de35fb1b2",
   "metadata": {},
   "outputs": [
    {
     "name": "stdout",
     "output_type": "stream",
     "text": [
      "Array 1:  [ 12  22  32  34  22 838]\n",
      "Array 2:  [ 12  34  32 235  22 893]\n",
      "equal:  [ True False  True False  True False]\n",
      "equal with tolerance:  False\n"
     ]
    }
   ],
   "source": [
    "# create two arrays of same size with different elements\n",
    "arr1 = np.array([12, 22, 32, 34, 22, 838])\n",
    "arr2 = np.array([12, 34, 32, 235, 22, 893])\n",
    "\n",
    "# np.equal(array1, arra2) is same as array1 == array2\n",
    "# np.allclose(array1, array2) : This method checks if two arrays are equal with some tolerance.\n",
    "print('Array 1: ', arr1)\n",
    "print('Array 2: ', arr2)\n",
    "print('equal: ',np.equal(arr1, arr2))\n",
    "print('equal with tolerance: ', np.allclose(arr1, arr2))"
   ]
  },
  {
   "cell_type": "markdown",
   "id": "303e2997-feae-4290-86e3-1b687516a296",
   "metadata": {},
   "source": [
    "12. Write a NumPy program to create an array with the values 1, 7, 13, 105 and determine the size of the memory occupied by the array."
   ]
  },
  {
   "cell_type": "code",
   "execution_count": 14,
   "id": "323b8b3a-9aac-47ba-ab25-0dc1fa613f74",
   "metadata": {},
   "outputs": [
    {
     "name": "stdout",
     "output_type": "stream",
     "text": [
      "Size of the array:  16\n"
     ]
    }
   ],
   "source": [
    "# Create an array with elements as 1, 7, 13 and 105\n",
    "arr = np.array([1,7,13,105])\n",
    "\n",
    "# array.size : this gives the number of elements in the array\n",
    "# array.itemsize : this gives the size of an element in the array\n",
    "print('Size of the array: ', arr.size * arr.itemsize)"
   ]
  },
  {
   "cell_type": "markdown",
   "id": "6fb7f201-da81-4c0b-b946-ee7600b0ecc8",
   "metadata": {},
   "source": [
    "13. Write a NumPy program to create an array of 10 zeros, 10 ones, and 10 fives"
   ]
  },
  {
   "cell_type": "code",
   "execution_count": 15,
   "id": "808ee37c-dad7-4549-b652-683c797d94c3",
   "metadata": {},
   "outputs": [
    {
     "name": "stdout",
     "output_type": "stream",
     "text": [
      "Array of zeros:  [0. 0. 0. 0. 0. 0. 0. 0. 0. 0.]\n",
      "Array of ones:  [1. 1. 1. 1. 1. 1. 1. 1. 1. 1.]\n",
      "Array of fives:  [5. 5. 5. 5. 5. 5. 5. 5. 5. 5.]\n"
     ]
    }
   ],
   "source": [
    "# create an array of 10 zeros\n",
    "# np.zeros(shape) : This method is used to create an array of zeros of specified shape \n",
    "print('Array of zeros: ', np.zeros(10))\n",
    "\n",
    "# np.ones(shape) : This method is used to create an array of ones of specified shape\n",
    "print('Array of ones: ', np.ones(10))\n",
    "\n",
    "# Array of 10 fives\n",
    "print('Array of fives: ', np.ones(10) * 5)"
   ]
  },
  {
   "cell_type": "markdown",
   "id": "7a2debd7-bbc2-4f58-84f8-f1ecd1807e19",
   "metadata": {},
   "source": [
    "14. Write a NumPy program to create an array of integers from 30 to 70."
   ]
  },
  {
   "cell_type": "code",
   "execution_count": 16,
   "id": "21bb96b7-2503-46a9-953b-29d5e0b06759",
   "metadata": {},
   "outputs": [
    {
     "name": "stdout",
     "output_type": "stream",
     "text": [
      "Array from 30 to 70:  [30 31 32 33 34 35 36 37 38 39 40 41 42 43 44 45 46 47 48 49 50 51 52 53\n",
      " 54 55 56 57 58 59 60 61 62 63 64 65 66 67 68 69]\n"
     ]
    }
   ],
   "source": [
    "# np.arange(start, stop, step) : This method is used create an array starting from the 'start' argument to 'stop' argument with 'step' as mentioned\n",
    "print('Array from 30 to 70: ', np.arange(30, 70))"
   ]
  },
  {
   "cell_type": "markdown",
   "id": "4aaed439-cca5-40a6-b826-f7140206b747",
   "metadata": {},
   "source": [
    "15. Write a NumPy program to create an array of all even integers from 30 to 70."
   ]
  },
  {
   "cell_type": "code",
   "execution_count": 17,
   "id": "7b0fa919-1831-4865-ba17-78e8c6de6d9f",
   "metadata": {},
   "outputs": [
    {
     "name": "stdout",
     "output_type": "stream",
     "text": [
      "Even Integer Array from 30 to 70:  [30 32 34 36 38 40 42 44 46 48 50 52 54 56 58 60 62 64 66 68]\n"
     ]
    }
   ],
   "source": [
    "# when we pass step = 2 automatically even integers become the array\n",
    "print('Even Integer Array from 30 to 70: ', np.arange(30, 70, 2))"
   ]
  },
  {
   "cell_type": "markdown",
   "id": "41433ca2-c612-4ee1-9f13-59a61b669f89",
   "metadata": {},
   "source": [
    "16. Write a NumPy program to create a 3x3 identity matrix."
   ]
  },
  {
   "cell_type": "code",
   "execution_count": 18,
   "id": "fe969afa-48ff-4070-a827-8947f3f12ae0",
   "metadata": {},
   "outputs": [
    {
     "name": "stdout",
     "output_type": "stream",
     "text": [
      "Identity Matrix:  [[1. 0. 0.]\n",
      " [0. 1. 0.]\n",
      " [0. 0. 1.]]\n"
     ]
    }
   ],
   "source": [
    "# np.identity(size) : Create an identity matrix of size * size\n",
    "identity_matrix = np.identity(3)\n",
    "print('Identity Matrix: ', identity_matrix)"
   ]
  },
  {
   "cell_type": "markdown",
   "id": "c71a30e1-f4ab-4b1f-bb7c-b556de2ddda5",
   "metadata": {},
   "source": [
    "17. Write a NumPy program to generate a random number between 0 and 1."
   ]
  },
  {
   "cell_type": "code",
   "execution_count": 19,
   "id": "fdfa4093-edac-43d2-8e65-a06b255b227f",
   "metadata": {},
   "outputs": [
    {
     "name": "stdout",
     "output_type": "stream",
     "text": [
      "Random Number between 0 and 1:  0.8517551952801795\n"
     ]
    }
   ],
   "source": [
    "# np.random.rand(n) : This method will return n random numbers between 0 and 1, default n = 1\n",
    "print('Random Number between 0 and 1: ', np.random.rand())"
   ]
  },
  {
   "cell_type": "markdown",
   "id": "cb312024-8bff-457e-9067-3b731b22fde4",
   "metadata": {},
   "source": [
    "18. Write a NumPy program to generate an array of 15 random numbers from a standard normal distribution."
   ]
  },
  {
   "cell_type": "code",
   "execution_count": 20,
   "id": "4c8142a8-67b1-4bc2-b9da-b2d613eecf54",
   "metadata": {},
   "outputs": [
    {
     "name": "stdout",
     "output_type": "stream",
     "text": [
      "Random Numbers from a Normal Dist:  [ 0.70499951  1.66839763  1.72660481 -0.5220189   0.08080955  1.66791143\n",
      "  0.06157087  0.91116444 -0.42145854 -0.72732239  0.1785792  -1.84818704\n",
      "  0.76170383 -0.85255384 -0.73314773]\n"
     ]
    }
   ],
   "source": [
    "# np.random.normal(mean, std, size) : This method generates an of specified size from a normal distribution with specified mean and standard deviation\n",
    "print('Random Numbers from a Normal Dist: ', np.random.normal(0, 1, 15))"
   ]
  },
  {
   "cell_type": "markdown",
   "id": "654e9c3b-1633-4996-8f89-3dee731fb2cb",
   "metadata": {},
   "source": [
    "19. Write a NumPy program to create a vector with values ranging from 15 to 55 and print all values except the first and last."
   ]
  },
  {
   "cell_type": "code",
   "execution_count": 21,
   "id": "413a79da-99ae-4212-8b5a-51023abf08e2",
   "metadata": {},
   "outputs": [
    {
     "name": "stdout",
     "output_type": "stream",
     "text": [
      "Vector ranging from 15 to 55:  [16 17 18 19 20 21 22 23 24 25 26 27 28 29 30 31 32 33 34 35 36 37 38 39\n",
      " 40 41 42 43 44 45 46 47 48 49 50 51 52 53]\n"
     ]
    }
   ],
   "source": [
    "# Vector : a 1 dimensional array is called Vector.\n",
    "arr = np.arange(15, 55)[1:-1]\n",
    "print('Vector ranging from 15 to 55: ', arr)"
   ]
  },
  {
   "cell_type": "markdown",
   "id": "f2976b40-c0dd-4e05-a283-8f200b3f364f",
   "metadata": {},
   "source": [
    "20.  Write a NumPy program to create a 3X4 array and iterate over it."
   ]
  },
  {
   "cell_type": "code",
   "execution_count": 22,
   "id": "4062cb88-599c-4115-b3c5-9dc111c4b4fe",
   "metadata": {},
   "outputs": [
    {
     "name": "stdout",
     "output_type": "stream",
     "text": [
      "1 2 3 4 5 6 7 8 9 10 11 12 "
     ]
    }
   ],
   "source": [
    "# array.reshape(shape) : This method is used to reshape an array to the specified shape.\n",
    "arr = np.arange(1, 13).reshape((3,4))\n",
    "\n",
    "# np.nditer(array) : This method will iterate over all the elements of the specified array.\n",
    "for i in np.nditer(arr):\n",
    "    print(i, end=' ')"
   ]
  },
  {
   "cell_type": "markdown",
   "id": "1fbcce91-20fc-4d39-85e7-71804e2fd9d7",
   "metadata": {},
   "source": [
    "21. Write a NumPy program to create a vector of length 10 with values evenly distributed between 5 and 50."
   ]
  },
  {
   "cell_type": "code",
   "execution_count": 23,
   "id": "cc8f7720-3d1c-4da2-885b-944f8f266713",
   "metadata": {},
   "outputs": [
    {
     "name": "stdout",
     "output_type": "stream",
     "text": [
      "Vector between 5 and 50:  [ 5.   9.5 14.  18.5 23.  27.5 32.  36.5 41.  45.5]\n"
     ]
    }
   ],
   "source": [
    "# Vector : a 1 dimensional array is called a vector\n",
    "# np.linspace(start, stop, size, endpint=True) : This method returns an array of specified 'size' from range 'start' to 'stop'. if endpoint=True, the 'stop' is last element. By default endpoint=True\n",
    "print('Vector between 5 and 50: ', np.linspace(5, 50, 10, endpoint=False))"
   ]
  },
  {
   "cell_type": "markdown",
   "id": "ab6c2c45-d582-4151-ab3a-1daee21f3c37",
   "metadata": {},
   "source": [
    "22. Write a NumPy program to create a vector with values from 0 to 20 and change the sign of the numbers in the range from 9 to 15."
   ]
  },
  {
   "cell_type": "code",
   "execution_count": 24,
   "id": "aec643a1-2cb2-4382-b927-84378c307d92",
   "metadata": {},
   "outputs": [
    {
     "name": "stdout",
     "output_type": "stream",
     "text": [
      "Original Vector:  [ 0  1  2  3  4  5  6  7  8  9 10 11 12 13 14 15 16 17 18 19 20]\n",
      "Changed Vector:  [  0   1   2   3   4   5   6   7   8  -9 -10 -11 -12 -13 -14 -15  16  17\n",
      "  18  19  20]\n"
     ]
    }
   ],
   "source": [
    "# Vector with values from 0 to 20.\n",
    "arr = np.arange(21)\n",
    "print('Original Vector: ', arr)\n",
    "\n",
    "# we can go with conditional and arithmetic operations within an array\n",
    "# this filters elements greater than 8 and less than 16 which are multiplied with -1\n",
    "arr[(arr > 8) & (arr < 16)] *= -1\n",
    "print('Changed Vector: ', arr)"
   ]
  },
  {
   "cell_type": "markdown",
   "id": "9a6f03c6-fea6-4627-a15f-ba9714ee0342",
   "metadata": {},
   "source": [
    "23. Write a NumPy program to create a vector of length 5 filled with arbitrary integers from 0 to 10."
   ]
  },
  {
   "cell_type": "code",
   "execution_count": 25,
   "id": "3abaed43-09c6-433f-8da2-2540f6af205e",
   "metadata": {},
   "outputs": [
    {
     "name": "stdout",
     "output_type": "stream",
     "text": [
      "Arbitrary Integers from 0 to 10:  [4 4 9 9 1]\n"
     ]
    }
   ],
   "source": [
    "# np.random.randint(start, stop, size) : This method returns a vector of specified size with integers ranging from start to stop\n",
    "print('Arbitrary Integers from 0 to 10: ', np.random.randint(0, 11, 5))"
   ]
  },
  {
   "cell_type": "markdown",
   "id": "d815065e-562d-4c3d-84cc-4758b03476ae",
   "metadata": {},
   "source": [
    "24. Write a NumPy program to multiply the values of two given vectors."
   ]
  },
  {
   "cell_type": "code",
   "execution_count": 26,
   "id": "e1833958-98ac-4552-96e9-18136fe4d787",
   "metadata": {},
   "outputs": [
    {
     "name": "stdout",
     "output_type": "stream",
     "text": [
      "Array1:  [1 2 3 4 5 6 7 8 9]\n",
      "Array2:  [11 12 13 14 15 16 17 18 19]\n",
      "Product of 2 Vectors:  [ 11  24  39  56  75  96 119 144 171]\n"
     ]
    }
   ],
   "source": [
    "# multiplication between values of two given vectors are done with '*' (asterisk)\n",
    "arr1 = np.arange(1, 10)\n",
    "arr2 = np.arange(11, 20)\n",
    "print('Array1: ', arr1)\n",
    "print('Array2: ', arr2)\n",
    "print('Product of 2 Vectors: ', arr1*arr2)"
   ]
  },
  {
   "cell_type": "markdown",
   "id": "bf28552c-190a-49ea-80d4-7de6a3641364",
   "metadata": {},
   "source": [
    "25. Write a NumPy program to create a 3x4 matrix filled with values from 10 to 21."
   ]
  },
  {
   "cell_type": "code",
   "execution_count": 27,
   "id": "eadd1d93-0542-4512-b5d6-33100ea54971",
   "metadata": {},
   "outputs": [
    {
     "name": "stdout",
     "output_type": "stream",
     "text": [
      "3x4 matrix with values 10 to 21:  [[10 11 12 13]\n",
      " [14 15 16 17]\n",
      " [18 19 20 21]]\n"
     ]
    }
   ],
   "source": [
    "# array.reshape(shape): This method is used to change the current shape of the array to the specified shape.\n",
    "print('3x4 matrix with values 10 to 21: ', np.arange(10, 22).reshape((3, 4)))"
   ]
  },
  {
   "cell_type": "markdown",
   "id": "9fe7dbf1-b681-4274-a255-7f58f243fc83",
   "metadata": {},
   "source": [
    "26. Write a NumPy program to find the number of rows and columns in a given matrix."
   ]
  },
  {
   "cell_type": "code",
   "execution_count": 28,
   "id": "d267b2b3-218a-44ed-b2c9-a19b3a09df73",
   "metadata": {},
   "outputs": [
    {
     "name": "stdout",
     "output_type": "stream",
     "text": [
      "Shape of the array:  (4, 5)\n"
     ]
    }
   ],
   "source": [
    "# array.shape : This method returns the shape of an array which suggest the number of rows and cols\n",
    "arr = np.arange(20).reshape((4,5))\n",
    "print('Shape of the array: ', arr.shape)"
   ]
  },
  {
   "cell_type": "markdown",
   "id": "ec82a94f-cc8e-4651-aaf1-9ee42c94d0eb",
   "metadata": {},
   "source": [
    "27. Write a NumPy program to create a 3x3 identity matrix, i.e. the diagonal elements are 1, the rest are 0."
   ]
  },
  {
   "cell_type": "code",
   "execution_count": 29,
   "id": "d6d32eca-1a3c-4516-9962-e8319aabcd1d",
   "metadata": {},
   "outputs": [
    {
     "name": "stdout",
     "output_type": "stream",
     "text": [
      "Identity Matrix:  [[1. 0. 0.]\n",
      " [0. 1. 0.]\n",
      " [0. 0. 1.]]\n",
      "Identity Matrix:  [[1. 0. 0.]\n",
      " [0. 1. 0.]\n",
      " [0. 0. 1.]\n",
      " [0. 0. 0.]]\n"
     ]
    }
   ],
   "source": [
    "# np.identity(size) : This method returns an identity matrix of specified 'size'\n",
    "# np.eye(shape) : This method returns a diagonal matrix with values 1 in diagonals of specified shape.\n",
    "print('Identity Matrix: ', np.identity(3))\n",
    "\n",
    "print('Identity Matrix: ', np.eye(4,3))"
   ]
  },
  {
   "cell_type": "markdown",
   "id": "4b46031c-dfa3-49be-96f8-1231f6bbd01e",
   "metadata": {},
   "source": [
    "28. Write a NumPy program to create a 10x10 matrix, in which the elements on the borders will be equal to 1, and inside 0."
   ]
  },
  {
   "cell_type": "code",
   "execution_count": 30,
   "id": "336508c5-6fda-4865-bac8-7f8cace18121",
   "metadata": {},
   "outputs": [
    {
     "name": "stdout",
     "output_type": "stream",
     "text": [
      "10x10 matrix with borders 1 and inside 0:  [[1. 1. 1. 1. 1. 1. 1. 1. 1. 1.]\n",
      " [1. 0. 0. 0. 0. 0. 0. 0. 0. 1.]\n",
      " [1. 0. 0. 0. 0. 0. 0. 0. 0. 1.]\n",
      " [1. 0. 0. 0. 0. 0. 0. 0. 0. 1.]\n",
      " [1. 0. 0. 0. 0. 0. 0. 0. 0. 1.]\n",
      " [1. 0. 0. 0. 0. 0. 0. 0. 0. 1.]\n",
      " [1. 0. 0. 0. 0. 0. 0. 0. 0. 1.]\n",
      " [1. 0. 0. 0. 0. 0. 0. 0. 0. 1.]\n",
      " [1. 0. 0. 0. 0. 0. 0. 0. 0. 1.]\n",
      " [1. 1. 1. 1. 1. 1. 1. 1. 1. 1.]]\n"
     ]
    }
   ],
   "source": [
    "# np.ones(shape) : This method creates a matrix with specified shape\n",
    "arr = np.ones((10,10))\n",
    "\n",
    "# array[row, col] is used here..!\n",
    "# rows range from 1 to -2 and cols range from 1 to -2 are filtered out and assigned value = 0\n",
    "arr[1:-1,1:-1] = 0\n",
    "\n",
    "print('10x10 matrix with borders 1 and inside 0: ', arr)"
   ]
  },
  {
   "cell_type": "markdown",
   "id": "2b580bdd-a33c-4549-9b01-09f5b4cdde68",
   "metadata": {},
   "source": [
    "29. Write a NumPy program to create a 5x5 zero matrix with elements on the main diagonal equal to 1, 2, 3, 4, 5."
   ]
  },
  {
   "cell_type": "code",
   "execution_count": 31,
   "id": "fea56711-bcb0-455f-9543-fbd6df5b0c0e",
   "metadata": {},
   "outputs": [
    {
     "name": "stdout",
     "output_type": "stream",
     "text": [
      "Diagonal Matrix:  [[1 0 0 0 0]\n",
      " [0 2 0 0 0]\n",
      " [0 0 3 0 0]\n",
      " [0 0 0 4 0]\n",
      " [0 0 0 0 5]]\n"
     ]
    }
   ],
   "source": [
    "# np.diag(array) : This method returns a diagonal matrix with diagonal elements as the elements from array specified and remaining elements are 0.\n",
    "print('Diagonal Matrix: ', np.diag([1,2,3,4,5]))"
   ]
  },
  {
   "cell_type": "markdown",
   "id": "ae3c12f0-c142-4ba3-a9a4-8f6d07b2a372",
   "metadata": {},
   "source": [
    "30. Write a NumPy program to create a 4x4 matrix in which 0 and 1 are staggered, with zeros on the main diagonal.\n",
    "    "
   ]
  },
  {
   "cell_type": "code",
   "execution_count": 32,
   "id": "512efba6-e6d7-47af-973e-edde8cd906b3",
   "metadata": {},
   "outputs": [
    {
     "name": "stdout",
     "output_type": "stream",
     "text": [
      "Staggered Matrix:  [[0. 1. 0. 1.]\n",
      " [1. 0. 1. 0.]\n",
      " [0. 1. 0. 1.]\n",
      " [1. 0. 1. 0.]]\n"
     ]
    }
   ],
   "source": [
    "# create an array of zeros\n",
    "# np.zeros(shape) : This will create an array with specified Shape\n",
    "arr = np.zeros((4,4))\n",
    "\n",
    "# this filters odd rows, sets the value = 1 in all the cols with step = 2\n",
    "arr[1::2, ::2] = 1\n",
    "\n",
    "# this filters odd cols, sets the value = 1 in all the rows with step = 2\n",
    "arr[::2, 1::2] = 1\n",
    "\n",
    "print('Staggered Matrix: ', arr)"
   ]
  },
  {
   "cell_type": "markdown",
   "id": "d3c46db5-4de0-4bf2-9b7e-e0b541089beb",
   "metadata": {},
   "source": [
    "31. Write a NumPy program to create a 3x3x3 array filled with arbitrary values.\r\n"
   ]
  },
  {
   "cell_type": "code",
   "execution_count": 33,
   "id": "cb44c832-6251-4ea4-833c-d8acbcee0936",
   "metadata": {},
   "outputs": [
    {
     "name": "stdout",
     "output_type": "stream",
     "text": [
      "Array:  [[[0.61026108 0.072974   0.07603634]\n",
      "  [0.2962262  0.86661282 0.60658154]\n",
      "  [0.35033709 0.69666342 0.25055452]]\n",
      "\n",
      " [[0.63674373 0.89132889 0.47941299]\n",
      "  [0.70211422 0.4299569  0.30661499]\n",
      "  [0.29809732 0.12613752 0.28179186]]\n",
      "\n",
      " [[0.28290064 0.11096405 0.71882367]\n",
      "  [0.14537186 0.59824869 0.76261307]\n",
      "  [0.58955799 0.35247152 0.19515145]]]\n"
     ]
    }
   ],
   "source": [
    "# np.random.rand(shape) : This method returns an array of specified shape with random values between 0 and 1\n",
    "arr = np.random.random((3, 3, 3))\n",
    "print('Array: ', arr)"
   ]
  },
  {
   "cell_type": "markdown",
   "id": "5619ccf9-18b2-4ed5-b4db-1f99463f7b91",
   "metadata": {},
   "source": [
    "32. Write a NumPy program to compute the sum of all elements, the sum of each column and the sum of each row in a given array.\r\n"
   ]
  },
  {
   "cell_type": "code",
   "execution_count": 34,
   "id": "3f3692ae-32a7-4ebd-a0a5-4789d1ffc5ee",
   "metadata": {},
   "outputs": [
    {
     "name": "stdout",
     "output_type": "stream",
     "text": [
      "Original Array:  [[50 18 49 59 64]\n",
      " [24 58 41 65 68]\n",
      " [70 26 18 73 49]\n",
      " [51 43 17 18 24]]\n",
      "Sum of Elements:  885\n",
      "Sum of cols:  [195 145 125 215 205]\n",
      "Sum of rows:  [240 256 236 153]\n"
     ]
    }
   ],
   "source": [
    "# creating 20 random integers \n",
    "# np.random.randint(start, stop, size) : This method generates the specified size of random integers between the range start and stop\n",
    "arr = np.random.randint(15, 75, 20).reshape(4,5)\n",
    "print('Original Array: ', arr)\n",
    "\n",
    "# np.sum(array) : this method is used to compute the sum of all elements.\n",
    "print('Sum of Elements: ', np.sum(arr))\n",
    "\n",
    "# np.sum(array, axis=0) : when axis = 0, this method compute the sum of elements in column wise\n",
    "# np.sum(array, axis=1) : when axis = 1, this method compute the sum of elements in row wise\n",
    "print('Sum of cols: ', np.sum(arr, axis=0))\n",
    "print('Sum of rows: ', np.sum(arr, axis=1))"
   ]
  },
  {
   "cell_type": "markdown",
   "id": "2f67e6b2-796f-4e49-b96e-77c0426b494d",
   "metadata": {},
   "source": [
    "33. Write a NumPy program to compute the inner product of two given vectors.\r\n"
   ]
  },
  {
   "cell_type": "code",
   "execution_count": 35,
   "id": "2d48789f-4947-4100-8547-510d53be7af4",
   "metadata": {},
   "outputs": [
    {
     "name": "stdout",
     "output_type": "stream",
     "text": [
      "Array1:  [10  8  9 19]\n",
      "Array2:  [21 12 16 19]\n",
      "Inner Product:  811\n"
     ]
    }
   ],
   "source": [
    "# Create two random integer arrays of size 4\n",
    "arr1 = np.random.randint(1, 20, 4)\n",
    "arr2 = np.random.randint(12, 22, 4)\n",
    "\n",
    "print('Array1: ', arr1)\n",
    "print('Array2: ', arr2)\n",
    "\n",
    "# np.dot(array1, array2) : Returns the dot product of two specified arrays.\n",
    "print('Inner Product: ', np.dot(arr1, arr2))"
   ]
  },
  {
   "cell_type": "markdown",
   "id": "286cfb5b-532c-42da-9dcd-fc34c0795150",
   "metadata": {},
   "source": [
    "34. Write a NumPy program to add a vector to each row of a given matrix.\r\n"
   ]
  },
  {
   "cell_type": "code",
   "execution_count": 37,
   "id": "2d76a9eb-37bc-45fe-b2ac-1bef9eaf0d21",
   "metadata": {},
   "outputs": [
    {
     "name": "stdout",
     "output_type": "stream",
     "text": [
      "Vector:  [1 2 3]\n",
      "Matrix:  [[14 15 16]\n",
      " [20 17 12]\n",
      " [16 20 16]\n",
      " [13 16 21]]\n",
      "New Matrix:  [[15 17 19]\n",
      " [21 19 15]\n",
      " [17 22 19]\n",
      " [14 18 24]]\n"
     ]
    }
   ],
   "source": [
    "# create a vector\n",
    "vector = np.array([1,2,3])\n",
    "print('Vector: ', vector)\n",
    "\n",
    "# create a matrix\n",
    "matrix = np.random.randint(12, 22, 12).reshape(4,3)\n",
    "print('Matrix: ', matrix)\n",
    "\n",
    "# np.empty_like(array) : This method creates an empty array\n",
    "for i in range(4):\n",
    "    matrix[i,:] += vector\n",
    "\n",
    "print('New Matrix: ', matrix)"
   ]
  },
  {
   "cell_type": "markdown",
   "id": "e19880ad-6fab-4482-b064-6adc9dc67a59",
   "metadata": {},
   "source": [
    "35. Write a NumPy program to convert a given list into an array, then again convert it into a list. Check initial list and final list are equal or not.\r\n",
    "\n"
   ]
  },
  {
   "cell_type": "code",
   "execution_count": 38,
   "id": "bb67217d-1015-4509-aca4-16ee93b46893",
   "metadata": {},
   "outputs": [
    {
     "name": "stdout",
     "output_type": "stream",
     "text": [
      "List1 == List2:  True\n"
     ]
    }
   ],
   "source": [
    "# create a list\n",
    "list1 = [1, 2, 44, 22, 12]\n",
    "arr = np.array(list1)\n",
    "\n",
    "# array.tolist() : This method is used convert a ndarray into list\n",
    "list2 = arr.tolist()\n",
    "\n",
    "print('List1 == List2: ', list1==list2)"
   ]
  },
  {
   "cell_type": "markdown",
   "id": "e7ea847c-ca47-4e62-bbf4-234696cf1c43",
   "metadata": {},
   "source": [
    "36. Write a NumPy program to add elements to a matrix. If an element in the matrix is 0, we will not add the element below this element.\r\n"
   ]
  },
  {
   "cell_type": "code",
   "execution_count": 39,
   "id": "e49bcf5b-3128-4c40-89f6-df70d83d6aa7",
   "metadata": {},
   "outputs": [
    {
     "name": "stdout",
     "output_type": "stream",
     "text": [
      "Original Matrix:  [[8. 2. 3.]\n",
      " [7. 0. 4.]\n",
      " [0. 5. 1.]]\n",
      "Sum:  25.0\n"
     ]
    }
   ],
   "source": [
    "# create a matrix of shape (3, 3)\n",
    "matrix = np.floor((np.random.rand(9)*10).reshape(3,3))\n",
    "print('Original Matrix: ', matrix)\n",
    "\n",
    "# np.sum(array) : This returns the total sum of all elements\n",
    "\n",
    "for i in range(3):\n",
    "    for j in range(3):\n",
    "        if matrix[i,j] == 0 and i < 2:\n",
    "            matrix[i+1,j] = 0\n",
    "            \n",
    "print('Sum: ', np.sum(matrix))\n"
   ]
  },
  {
   "cell_type": "markdown",
   "id": "f05f5c10-7c83-40cd-b2e1-945d92fdce09",
   "metadata": {},
   "source": [
    "37. Write a NumPy program to find missing data in a given array.\r\n"
   ]
  },
  {
   "cell_type": "code",
   "execution_count": 40,
   "id": "94aff8a1-8689-4830-837e-a999bb1cd7e8",
   "metadata": {},
   "outputs": [
    {
     "name": "stdout",
     "output_type": "stream",
     "text": [
      "Missing Data:  [False  True False False  True]\n"
     ]
    }
   ],
   "source": [
    "# create an array\n",
    "arr = np.array([2, np.nan, 22, 12, np.nan])\n",
    "\n",
    "# np.isnan(array) : This checks if any data is not a number, if it finds returns True else false.\n",
    "print('Missing Data: ', np.isnan(arr))"
   ]
  },
  {
   "cell_type": "markdown",
   "id": "fad038d2-9241-4a5b-a8d3-ad7c468928ca",
   "metadata": {},
   "source": [
    "38. Write a NumPy program to check whether two arrays are equal (element wise) or not.\n"
   ]
  },
  {
   "cell_type": "code",
   "execution_count": 41,
   "id": "1683eba7-99fb-4a1a-a608-648fba6b0d4b",
   "metadata": {},
   "outputs": [
    {
     "name": "stdout",
     "output_type": "stream",
     "text": [
      "Array1:  [12 22 12 22]\n",
      "Array2:  [12 22 12 22]\n",
      "[ True  True  True  True]\n"
     ]
    }
   ],
   "source": [
    "# create 2 arrays of identical elements\n",
    "arr1 = np.array([12,22,12,22])\n",
    "arr2 = np.array([12,22,12,22])\n",
    "print('Array1: ', arr1)\n",
    "print('Array2: ', arr2)\n",
    "\n",
    "# np.equal(array1, array2) : This method checks whether two arrays specified are equal element wise or not\n",
    "# np.equal(array1, array2) is same as 'array1 == array2'\n",
    "print(arr1 == arr2)"
   ]
  },
  {
   "cell_type": "markdown",
   "id": "845bc15b-fbda-45a1-928c-2ddeee5b886c",
   "metadata": {},
   "source": [
    "39. Write a NumPy program to create a one-dimensional array of single, two and three-digit numbers.\r\n"
   ]
  },
  {
   "cell_type": "code",
   "execution_count": 42,
   "id": "8f81bc14-dbd9-483c-92d4-887e513ab097",
   "metadata": {},
   "outputs": [
    {
     "name": "stdout",
     "output_type": "stream",
     "text": [
      "Single-digit Numbers:  [0 1 2 3 4 5 6 7 8 9]\n",
      "Two-digit Numbers:  [27 50 76 73 66 87 11 20 95 49]\n",
      "Three-digit Numbers:  [315 691 950 970 554 690 316 397 173 673]\n"
     ]
    }
   ],
   "source": [
    "# Vector : A vector is an one-dimensional array\n",
    "# Single-digit numbers array\n",
    "arr1 = np.arange(10)\n",
    "\n",
    "# Two-digit numbers array\n",
    "arr2 = np.random.randint(10, 100, 10)\n",
    "\n",
    "# Three-digit numbers array\n",
    "arr3 = np.random.randint(100, 1000, 10)\n",
    "\n",
    "print('Single-digit Numbers: ', arr1)\n",
    "print('Two-digit Numbers: ', arr2)\n",
    "print('Three-digit Numbers: ', arr3)"
   ]
  },
  {
   "cell_type": "markdown",
   "id": "bf344d0f-93f4-4e9c-94c0-7b713d697c02",
   "metadata": {},
   "source": [
    "40. Write a NumPy program to create a one-dimensional array of forty pseudo-randomly generated values. Select random numbers from a uniform distribution between 0 and 1. \r\n"
   ]
  },
  {
   "cell_type": "code",
   "execution_count": 43,
   "id": "44bdae44-79bf-4a57-a890-64dad2bc5810",
   "metadata": {},
   "outputs": [
    {
     "name": "stdout",
     "output_type": "stream",
     "text": [
      "Array:  [0.77290144 0.47035132 0.30523044 0.62340722 0.45661865 0.34172024\n",
      " 0.40322505 0.31696693 0.12818247 0.08794418 0.75063521 0.75086829\n",
      " 0.9321494  0.33347446 0.03247628 0.36821679 0.26977975 0.64064653\n",
      " 0.50884462 0.02176668 0.46286518 0.6130549  0.89194476 0.96937347\n",
      " 0.36920283 0.23652618 0.93558391 0.29907084 0.97035775 0.45431138\n",
      " 0.45553317 0.50771772 0.60135231 0.4503333  0.68480679 0.34662174\n",
      " 0.02673659 0.73733264 0.53154005 0.64510179]\n"
     ]
    }
   ],
   "source": [
    "# np.random.uniform(start, stop, size) : This method returns a vector of random numbers of specified 'size' in the range of 'start' to 'stop'.\n",
    "# This method uses Uniform distribution between 0 and 1\n",
    "arr = np.random.uniform(0,1,40)\n",
    "print('Array: ', arr)"
   ]
  },
  {
   "cell_type": "markdown",
   "id": "df1c1a56-9a84-4d4a-9488-ea90f4c97073",
   "metadata": {},
   "source": [
    "41. Write a NumPy program to create a two-dimensional array with shape (8,5) of random numbers. Select random numbers from a normal distribution (200,7).\r\n"
   ]
  },
  {
   "cell_type": "code",
   "execution_count": 44,
   "id": "964af2aa-507b-4b61-ab7e-52327eb78fd4",
   "metadata": {},
   "outputs": [
    {
     "name": "stdout",
     "output_type": "stream",
     "text": [
      "Array:  [[208.83549457 201.82271798 209.55969326 188.78791042 208.93699004]\n",
      " [185.08441386 204.97529914 197.38344093 200.09980731 198.20100926]\n",
      " [198.26746055 207.84638881 203.78343287 208.31366861 192.20806192]\n",
      " [198.53410874 196.37073817 208.9071386  207.81609931 193.89380306]\n",
      " [197.9011078  207.24378232 191.76488649 195.40191318 201.21904953]\n",
      " [204.31504335 210.21378094 207.04727156 202.00790996 191.32134053]\n",
      " [196.30798206 207.48251235 193.72043446 204.04053295 203.40945045]\n",
      " [203.31289221 202.63307184 206.86601078 196.95748715 209.86625218]]\n"
     ]
    }
   ],
   "source": [
    "# np.random.normal(mean, std, size) : This method select the random numbers from the normal distribution with specified 'size'\n",
    "# array.reshape(shape) : This method allows us to reshape an array to specified 'shape'\n",
    "arr = np.random.normal(200, 7, 40).reshape(8, 5)\n",
    "print('Array: ', arr)"
   ]
  },
  {
   "cell_type": "markdown",
   "id": "2a2e7156-9e99-4eaf-8f5c-ee011a32236a",
   "metadata": {},
   "source": [
    "41. Write a NumPy program to generate a uniform, non-uniform random sample from a given 1-D array with and without replacement.\r\n",
    "\n"
   ]
  },
  {
   "cell_type": "code",
   "execution_count": 45,
   "id": "e207978f-5fde-4b16-88ec-4e6ebb590391",
   "metadata": {},
   "outputs": [
    {
     "name": "stdout",
     "output_type": "stream",
     "text": [
      "Uniform Random Sample With Replacement:  [6 9 3 8 8]\n",
      "Uniform Random Sample Without Replacement:  [3 8 5 0 4]\n",
      "Non-Uniform Random Sample With Replacement:  [7 1 0 6 4]\n",
      "Non-Uniform Random Sample Without Replacement:  [0 6 5 1 7]\n"
     ]
    }
   ],
   "source": [
    "# np.random.choice(range, size, replace=True, p) : This method creates Uniform random sample of specified 'size' when p (i.e. probabilities which should sum to 1) is not specified.\n",
    "# And creates Non-Uniform random sample if p is specified. The 'replace=True' is default for with replacement.\n",
    "\n",
    "# Uniform random sample with replacement\n",
    "arr1 = np.random.choice(10, 5, replace=True)\n",
    "\n",
    "# Uniform random sample without replacement\n",
    "arr2 = np.random.choice(10, 5, replace=False)\n",
    "\n",
    "# Non-Uniform random sample with replacement\n",
    "arr3 = np.random.choice(10, 5, replace=True, p=[0.1, 0.2, 0, 0.1, 0.1, 0.1, 0.2, 0.1, 0.1, 0])\n",
    "\n",
    "# Non-Uniform random sample without replacement\n",
    "arr4 = np.random.choice(10, 5, replace=False, p=[0.1, 0.2, 0, 0.1, 0.1, 0.1, 0.2, 0.1, 0.1, 0])\n",
    "\n",
    "print('Uniform Random Sample With Replacement: ', arr1)\n",
    "print('Uniform Random Sample Without Replacement: ', arr2)\n",
    "print('Non-Uniform Random Sample With Replacement: ', arr3)\n",
    "print('Non-Uniform Random Sample Without Replacement: ', arr4)"
   ]
  },
  {
   "cell_type": "markdown",
   "id": "7be4d8c8-1b4e-4612-a4a6-8dd9ff5ff44e",
   "metadata": {},
   "source": [
    "42. Write a NumPy program to create a 4x4 array with random values. Create an array from the said array swapping first and last rows.\r\n"
   ]
  },
  {
   "cell_type": "code",
   "execution_count": 46,
   "id": "e92d44b8-d853-4a12-a4cc-5d54e3537dbd",
   "metadata": {},
   "outputs": [
    {
     "name": "stdout",
     "output_type": "stream",
     "text": [
      "Original Array:  [[1683 1881 2075 1683]\n",
      " [1408 1448 2063 2204]\n",
      " [1857 1219 1284 1797]\n",
      " [1498 1270 1266 1395]]\n",
      "Swapped Array:  [[1498 1270 1266 1395]\n",
      " [1408 1448 2063 2204]\n",
      " [1857 1219 1284 1797]\n",
      " [1683 1881 2075 1683]]\n"
     ]
    }
   ],
   "source": [
    "# array.reshape(shape) : This method converts the array into specified shape.\n",
    "# np.random.randint(start, stop, size) : This method create a random integer array with specified 'size' ranging from 'start' to 'stop'.\n",
    "arr = np.random.randint(1206, 2209, 16).reshape(4, 4)\n",
    "print('Original Array: ', arr)\n",
    "\n",
    "# Swapping first and last row\n",
    "arr[[0, -1],:] = arr[[-1, 0],:]\n",
    "\n",
    "print('Swapped Array: ', arr)"
   ]
  },
  {
   "cell_type": "markdown",
   "id": "31830a9c-7da5-4158-8ab9-9c3f24cbffcb",
   "metadata": {},
   "source": [
    "43. Write a NumPy program to create a new array of given shape (5,6) and type, filled with zeros.\r\n"
   ]
  },
  {
   "cell_type": "code",
   "execution_count": 47,
   "id": "bcfbca72-7af0-4d2c-aad2-6fed259b13b2",
   "metadata": {},
   "outputs": [
    {
     "name": "stdout",
     "output_type": "stream",
     "text": [
      "Array:  [[0 0 0 0 0 0]\n",
      " [0 0 0 0 0 0]\n",
      " [0 0 0 0 0 0]\n",
      " [0 0 0 0 0 0]\n",
      " [0 0 0 0 0 0]]\n"
     ]
    }
   ],
   "source": [
    "# np.zeros(size) : This returns an array of zeros of specified size\n",
    "# given shape = (5, 6), therefor size = 5 * 6 i.e. 30.\n",
    "arr = np.zeros(shape=(5, 6), dtype='int')\n",
    "print('Array: ', arr)"
   ]
  },
  {
   "cell_type": "markdown",
   "id": "8897e747-09f9-4d35-87fd-b925238cae90",
   "metadata": {},
   "source": [
    "43. Write a NumPy program to sort a given array by row and column in ascending order.\r\n"
   ]
  },
  {
   "cell_type": "code",
   "execution_count": 48,
   "id": "01fc1820-2090-4e6d-bf43-919fb20e77f0",
   "metadata": {},
   "outputs": [
    {
     "name": "stdout",
     "output_type": "stream",
     "text": [
      "Original Array:  [[1792 1706 2028 1815 2160]\n",
      " [2139 1971 1472 1619 1476]\n",
      " [1573 1289 1965 1755 1679]\n",
      " [1567 1672 1719 1292 2119]\n",
      " [1413 1397 1562 1702 1529]]\n",
      "Row-wise Sorted:  [[1706 1792 1815 2028 2160]\n",
      " [1472 1476 1619 1971 2139]\n",
      " [1289 1573 1679 1755 1965]\n",
      " [1292 1567 1672 1719 2119]\n",
      " [1397 1413 1529 1562 1702]]\n",
      "Col-wise Sorted:  [[1413 1289 1472 1292 1476]\n",
      " [1567 1397 1562 1619 1529]\n",
      " [1573 1672 1719 1702 1679]\n",
      " [1792 1706 1965 1755 2119]\n",
      " [2139 1971 2028 1815 2160]]\n"
     ]
    }
   ],
   "source": [
    "# create a 2D array using np.random.randint(start, stop, size) method then reshape(shape) to it.\n",
    "arr = np.random.randint(1206, 2209, 25).reshape(5, 5)\n",
    "print('Original Array: ', arr)\n",
    "\n",
    "# np.sort(array, axis=1) : This method sorts the array in ascending order.\n",
    "# Row wise sorting is done if axis=1 (default).\n",
    "print('Row-wise Sorted: ', np.sort(arr))\n",
    "\n",
    "# Col wise sorting is done if axis=0.\n",
    "print('Col-wise Sorted: ', np.sort(arr, axis=0))"
   ]
  },
  {
   "cell_type": "markdown",
   "id": "f5af5431-0c8b-4a1a-a617-189f4b1090bf",
   "metadata": {},
   "source": [
    "44. Write a NumPy program to extract all numbers from a given array less and greater than a specified number.\r\n"
   ]
  },
  {
   "cell_type": "code",
   "execution_count": 49,
   "id": "44b7c98f-d09a-4232-9ca3-3c2a2a573bae",
   "metadata": {},
   "outputs": [
    {
     "name": "stdout",
     "output_type": "stream",
     "text": [
      "Original Array:  [1744 1505 1291 1289 1792 1279 1915 1840 1946 1398 1967 1381]\n",
      "Nums < 1800:  [1744 1505 1291 1289 1792 1279 1398 1381]\n",
      "Nums > 1800:  [1915 1840 1946 1967]\n"
     ]
    }
   ],
   "source": [
    "# create a vector using np.random.randint(start, stop, size)\n",
    "arr = np.random.randint(1206, 2209, 12)\n",
    "print('Original Array: ', arr)\n",
    "\n",
    "# for less than use '<' operator inside the array as below which extract values less than 1800 from the array.\n",
    "print('Nums < 1800: ', arr[arr < 1800])\n",
    "\n",
    "# for greater than use '>' operator inside the array as below which extract values greater than 1800 from the array.\n",
    "print('Nums > 1800: ', arr[arr > 1800])"
   ]
  },
  {
   "cell_type": "markdown",
   "id": "05fd0b6b-5baa-4843-99de-0382c65e0a11",
   "metadata": {},
   "source": [
    "45. Write a NumPy program to replace all numbers in a given array equal, less and greater than a given number.\r\n"
   ]
  },
  {
   "cell_type": "code",
   "execution_count": 50,
   "id": "6331b55e-79ad-4b7c-b035-e59cdbb6bda1",
   "metadata": {},
   "outputs": [
    {
     "name": "stdout",
     "output_type": "stream",
     "text": [
      "Original Array:  [1649 2039 1383 1290 1934 1927 1650 1321 1718 1308 1675 1998]\n",
      "Replace 1500 for arr == 1800:  [1649 2039 1383 1290 1934 1927 1650 1321 1718 1308 1675 1998]\n",
      "Replace 1500 for arr < 1800:  [1500 2039 1500 1500 1934 1927 1500 1500 1500 1500 1500 1998]\n",
      "Replace 1500 for arr > 1800:  [1649 1500 1383 1290 1500 1500 1650 1321 1718 1308 1675 1500]\n"
     ]
    }
   ],
   "source": [
    "# create a vector using np.random.randint(start, stop, size)\n",
    "arr = np.random.randint(1206, 2209, 12)\n",
    "print('Original Array: ', arr)\n",
    "\n",
    "# np.where(condition, substitute, array) : This method replaces those elements with substitute in the specified array where the condition is true.\n",
    "# replace 1500 if element equals to 1800\n",
    "print('Replace 1500 for arr == 1800: ', np.where(arr == 1800, 1500, arr))\n",
    "\n",
    "# replace1500 if element less than 1800\n",
    "print('Replace 1500 for arr < 1800: ', np.where(arr < 1800, 1500, arr))\n",
    "\n",
    "# replace 1500 if element greater than 1800\n",
    "print('Replace 1500 for arr > 1800: ', np.where(arr > 1800, 1500, arr))"
   ]
  },
  {
   "cell_type": "markdown",
   "id": "77995015-b0c5-4338-87fe-0377149ac55c",
   "metadata": {},
   "source": [
    "46. Write a NumPy program to create an array of equal shape and data type for a given array.\r\n"
   ]
  },
  {
   "cell_type": "code",
   "execution_count": 51,
   "id": "3aae4b20-06c4-428c-9d46-20be4d90cf09",
   "metadata": {},
   "outputs": [
    {
     "name": "stdout",
     "output_type": "stream",
     "text": [
      "Original Array:  [[11 12 13 14]\n",
      " [15 16 17 18]\n",
      " [19 20 21 22]]\n",
      "Equal Shape and dtype Array:  [[0 0 0 0]\n",
      " [0 0 0 0]\n",
      " [0 0 0 0]]\n"
     ]
    }
   ],
   "source": [
    "# create an array with np.arange(start, stop, dtype) then reshape(shape) it.\n",
    "arr = np.arange(11, 23, dtype='int').reshape(3, 4)\n",
    "print('Original Array: ', arr)\n",
    "\n",
    "# np.zeros_like(array) : This method creates an array with same shape and dtype\n",
    "# np.ones_like(array) : This method creates an array with same shape and dtype\n",
    "# np.empty_like(array) : This method creates an array with same shape and dtype\n",
    "print('Equal Shape and dtype Array: ', np.zeros_like(arr))"
   ]
  },
  {
   "cell_type": "markdown",
   "id": "54dff013-029e-45d6-9d2e-a0154adbcca5",
   "metadata": {},
   "source": [
    "47. Write a NumPy program to create a three-dimensional array with the shape (3,5,4) and set it to a variable.\r\n"
   ]
  },
  {
   "cell_type": "code",
   "execution_count": 52,
   "id": "939b33b1-cc69-41f3-a51a-1b51bca0550b",
   "metadata": {},
   "outputs": [
    {
     "name": "stdout",
     "output_type": "stream",
     "text": [
      "3D Array:  [[[1478 1789 1517 2142]\n",
      "  [1616 1827 2051 1869]\n",
      "  [1813 1565 1489 1453]\n",
      "  [1735 1980 2178 1823]\n",
      "  [1789 1572 2062 1460]]\n",
      "\n",
      " [[1453 1271 1817 2155]\n",
      "  [2203 2026 1808 2199]\n",
      "  [1332 1524 2055 1960]\n",
      "  [2014 2063 2072 2070]\n",
      "  [1360 1399 2144 1979]]\n",
      "\n",
      " [[2045 1650 1540 2089]\n",
      "  [1960 1450 2142 1475]\n",
      "  [1616 2117 2098 1853]\n",
      "  [2070 1298 1317 1321]\n",
      "  [1576 1839 1681 1558]]]\n"
     ]
    }
   ],
   "source": [
    "# Given Shape = (3, 5, 4), therefor size will be 3 * 5 * 4 equals to 60\n",
    "# create an array np.random.randint(start, stop, size).reshape(shape)\n",
    "\n",
    "arr = np.random.randint(1206, 2209, 60).reshape(3, 5, 4)\n",
    "print('3D Array: ', arr)"
   ]
  },
  {
   "cell_type": "markdown",
   "id": "79c20b4a-c3c7-4a46-8eff-a8b1b7720a9f",
   "metadata": {},
   "source": [
    "48. Write a NumPy program to create a 4x4 array. Create an array from said array by swapping first and last, second and third columns.\r\n"
   ]
  },
  {
   "cell_type": "code",
   "execution_count": 53,
   "id": "7bc3799e-8754-4542-a841-fd8613c53b2b",
   "metadata": {},
   "outputs": [
    {
     "name": "stdout",
     "output_type": "stream",
     "text": [
      "Original Array:  [[1529 1847 1417 2130]\n",
      " [1602 1429 1317 1616]\n",
      " [1384 1841 2053 1706]\n",
      " [2206 1222 1953 1802]]\n",
      "Swapped Array:  [[2130 1417 1847 1529]\n",
      " [1616 1317 1429 1602]\n",
      " [1706 2053 1841 1384]\n",
      " [1802 1953 1222 2206]]\n"
     ]
    }
   ],
   "source": [
    "# create an array with np.random.randint(start, stop, size).reshape(shape)\n",
    "# size = 4x4, therefor total elements equals to 16\n",
    "arr = np.random.randint(1206, 2209, 16).reshape(4, 4)\n",
    "print('Original Array: ', arr)\n",
    "\n",
    "# swapping first and last cols\n",
    "arr[:,[0, -1]] = arr[:,[-1, 0]]\n",
    "\n",
    "# swapping second and third cols\n",
    "arr[:,[1,2]] = arr[:,[2,1]]\n",
    "\n",
    "print('Swapped Array: ', arr)"
   ]
  },
  {
   "cell_type": "markdown",
   "id": "a205192f-f05c-4f87-b642-88e1dfa57561",
   "metadata": {},
   "source": [
    "49. Write a NumPy program to swap rows and columns of a given array in reverse order.\r\n"
   ]
  },
  {
   "cell_type": "code",
   "execution_count": 54,
   "id": "3c0e80a0-c249-4b02-b856-b7b86f66fc49",
   "metadata": {},
   "outputs": [
    {
     "name": "stdout",
     "output_type": "stream",
     "text": [
      "Original Array:  [[1911 1937 1564 1863]\n",
      " [1573 1420 2101 2004]\n",
      " [1817 1767 1958 1349]\n",
      " [1877 1279 1264 2186]]\n",
      "Swapped Array:  [[2186 1264 1279 1877]\n",
      " [1349 1958 1767 1817]\n",
      " [2004 2101 1420 1573]\n",
      " [1863 1564 1937 1911]]\n"
     ]
    }
   ],
   "source": [
    "# create an array with np.random.randint(start, stop, size).reshape(shape)\n",
    "arr = np.random.randint(1206, 2209, 16).reshape(4, 4)\n",
    "print('Original Array: ', arr)\n",
    "\n",
    "# Swap Rows and Cols in reverse order using arr[::-1, ::-1]\n",
    "print('Swapped Array: ', arr[::-1, ::-1])"
   ]
  },
  {
   "cell_type": "markdown",
   "id": "409f09d1-6778-46aa-a379-45b8f961eefc",
   "metadata": {},
   "source": [
    "50. Write a NumPy program to multiply two given arrays of the same size element-by-element.\r\n"
   ]
  },
  {
   "cell_type": "code",
   "execution_count": 55,
   "id": "99780728-e54e-42b7-abc4-12c493680c83",
   "metadata": {},
   "outputs": [
    {
     "name": "stdout",
     "output_type": "stream",
     "text": [
      "Array1:  [[1340 1468 1765 2020]\n",
      " [1750 1993 2098 1343]\n",
      " [1997 1548 1868 1485]]\n",
      "Array2:  [[1850 2034 1526 1967]\n",
      " [1297 1268 1281 2178]\n",
      " [1834 1430 1358 1890]]\n",
      "Product of Array1 and Array2:  [[2479000 2985912 2693390 3973340]\n",
      " [2269750 2527124 2687538 2925054]\n",
      " [3662498 2213640 2536744 2806650]]\n"
     ]
    }
   ],
   "source": [
    "# create two arrays using np.random.randint(start, stop, size).reshape(shape)\n",
    "arr1 = np.random.randint(1206, 2209, 12).reshape(3,4)\n",
    "print('Array1: ', arr1)\n",
    "\n",
    "arr2 = np.random.randint(1206, 2209, 12).reshape(3,4)\n",
    "print('Array2: ', arr2)\n",
    "\n",
    "# use '*' (asterisk) for multiplying two arrays element-by-element\n",
    "# np.multiply(array1, array2) : This method returns an array which is the product of two arrays element-wise\n",
    "print('Product of Array1 and Array2: ', np.multiply(arr1, arr2))"
   ]
  }
 ],
 "metadata": {
  "kernelspec": {
   "display_name": "Python 3 (ipykernel)",
   "language": "python",
   "name": "python3"
  },
  "language_info": {
   "codemirror_mode": {
    "name": "ipython",
    "version": 3
   },
   "file_extension": ".py",
   "mimetype": "text/x-python",
   "name": "python",
   "nbconvert_exporter": "python",
   "pygments_lexer": "ipython3",
   "version": "3.11.7"
  }
 },
 "nbformat": 4,
 "nbformat_minor": 5
}
