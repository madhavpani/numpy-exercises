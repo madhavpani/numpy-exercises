{
 "cells": [
  {
   "cell_type": "code",
   "execution_count": 18,
   "id": "0a0460fa-7d7c-441b-af0a-3074383f96c3",
   "metadata": {},
   "outputs": [],
   "source": [
    "# import the numpy with alias np\n",
    "import numpy as np"
   ]
  },
  {
   "cell_type": "markdown",
   "id": "6c88caea-2524-4f7d-929c-93ce0ad51e20",
   "metadata": {},
   "source": [
    "1. Write a NumPy program to add, subtract, multiply, divide, modulus arguments element-wise.\r\n"
   ]
  },
  {
   "cell_type": "code",
   "execution_count": 28,
   "id": "32e45c42-fdde-4d3b-9fb6-3fb8de141069",
   "metadata": {},
   "outputs": [
    {
     "name": "stdout",
     "output_type": "stream",
     "text": [
      "Original Array:  [[10 11 12 13]\n",
      " [14 15 16 17]\n",
      " [18 19 20 21]\n",
      " [22 23 24 25]]\n",
      "Add 5 to the each element of the array:  [[15 16 17 18]\n",
      " [19 20 21 22]\n",
      " [23 24 25 26]\n",
      " [27 28 29 30]]\n",
      "Subtract 5 from each element of the array:  [[ 5  6  7  8]\n",
      " [ 9 10 11 12]\n",
      " [13 14 15 16]\n",
      " [17 18 19 20]]\n",
      "Multiply 5 to each element of the array:  [[ 50  55  60  65]\n",
      " [ 70  75  80  85]\n",
      " [ 90  95 100 105]\n",
      " [110 115 120 125]]\n",
      "Divide each element of the array by 5:  [[2.  2.2 2.4 2.6]\n",
      " [2.8 3.  3.2 3.4]\n",
      " [3.6 3.8 4.  4.2]\n",
      " [4.4 4.6 4.8 5. ]]\n",
      "Modulus of each element by 5:  [[0 1 2 3]\n",
      " [4 0 1 2]\n",
      " [3 4 0 1]\n",
      " [2 3 4 0]]\n"
     ]
    }
   ],
   "source": [
    "arr = np.arange(10, 26).reshape(4, 4)\n",
    "print('Original Array: ', arr)\n",
    "\n",
    "# addition ( + )\n",
    "print('Add 5 to the each element of the array: ', arr + 5)\n",
    "\n",
    "# subtraction ( - )\n",
    "print('Subtract 5 from each element of the array: ', arr -5)\n",
    "\n",
    "# multiplication ( * )\n",
    "print('Multiply 5 to each element of the array: ', arr * 5)\n",
    "\n",
    "# division ( / )\n",
    "print('Divide each element of the array by 5: ', arr / 5)\n",
    "\n",
    "# modulus( % )\n",
    "print('Modulus of each element by 5: ', arr % 5)"
   ]
  },
  {
   "cell_type": "markdown",
   "id": "54e5ca5f-2cc5-4e6b-86fd-00765a197ab4",
   "metadata": {},
   "source": [
    "2. Write a NumPy program to get true division of the element-wise array inputs.\r\n"
   ]
  },
  {
   "cell_type": "code",
   "execution_count": 25,
   "id": "b0e4c890-b686-4000-bf3c-15266a2a0b25",
   "metadata": {},
   "outputs": [
    {
     "name": "stdout",
     "output_type": "stream",
     "text": [
      "Original Array:  [0 1 2 3 4 5 6 7 8 9]\n",
      "True Division:  [0.         0.33333333 0.66666667 1.         1.33333333 1.66666667\n",
      " 2.         2.33333333 2.66666667 3.        ]\n"
     ]
    }
   ],
   "source": [
    "# np.true_divide(array, divident) : This function perform true division of array with the divident\n",
    "arr = np.arange(10)\n",
    "print('Original Array: ', arr)\n",
    "\n",
    "print('True Division: ', np.true_divide(arr, 3))"
   ]
  },
  {
   "cell_type": "markdown",
   "id": "c92f17a0-0477-4ed2-8392-70f7732c2364",
   "metadata": {},
   "source": [
    "3. Write a NumPy program to get the powers of an array values element-wise."
   ]
  },
  {
   "cell_type": "code",
   "execution_count": 27,
   "id": "9e4fb9f0-4515-4a0b-91ca-7afc6b8ff6dd",
   "metadata": {},
   "outputs": [
    {
     "name": "stdout",
     "output_type": "stream",
     "text": [
      "Original Array:  [0 1 2 3 4 5 6 7 8 9]\n",
      "Powers of the array Values:  [  0   1   8  27  64 125 216 343 512 729]\n"
     ]
    }
   ],
   "source": [
    "arr = np.arange(10)\n",
    "print('Original Array: ', arr)\n",
    "\n",
    "# np.power(array, power) : this method raises the power of each element of the array and returns it.\n",
    "print('Powers of the array Values: ', np.power(arr, 3))"
   ]
  },
  {
   "cell_type": "markdown",
   "id": "0f1ec4b7-99a2-4ed7-a86c-f3f4d21cbee9",
   "metadata": {},
   "source": [
    "4. Write a NumPy program to calculate the absolute value element-wise.\r\n",
    "\r\n"
   ]
  },
  {
   "cell_type": "code",
   "execution_count": 30,
   "id": "ee9d5ebe-5bb4-4438-a33f-d1d435e34939",
   "metadata": {},
   "outputs": [
    {
     "name": "stdout",
     "output_type": "stream",
     "text": [
      "Original Array:  [-10  -9  -8  -7  -6  -5  -4  -3  -2  -1   0   1   2   3   4   5   6   7\n",
      "   8   9]\n",
      "Absolute of array:  [10  9  8  7  6  5  4  3  2  1  0  1  2  3  4  5  6  7  8  9]\n"
     ]
    }
   ],
   "source": [
    "arr = np.arange(-10, 10)\n",
    "print('Original Array: ', arr)\n",
    "\n",
    "# np.absolute(array) : This method generates absolute values of the array.\n",
    "print('Absolute of array: ', np.absolute(arr))"
   ]
  },
  {
   "cell_type": "markdown",
   "id": "735773e0-a328-4d28-a5fd-6956a39d7c20",
   "metadata": {},
   "source": [
    "5. Write a NumPy program to round array elements to the given number of decimals.\r\n"
   ]
  },
  {
   "cell_type": "code",
   "execution_count": 34,
   "id": "79241a8c-64e7-4d1c-b3fc-81f375e579ee",
   "metadata": {},
   "outputs": [
    {
     "name": "stdout",
     "output_type": "stream",
     "text": [
      "Original array:  [0.38109309 0.63961808 0.63655941 0.02747325 0.42059844 0.14247801\n",
      " 0.74266299 0.55201185 0.63987314 0.52890663]\n",
      "Array rounded to 2:  [0.38 0.64 0.64 0.03 0.42 0.14 0.74 0.55 0.64 0.53]\n"
     ]
    }
   ],
   "source": [
    "arr = np.random.random(10)\n",
    "print('Original array: ', arr)\n",
    "\n",
    "# np.round(array, rounding_no): This function rounds each element of the array to that digit after decimal specified in rounding_no.\n",
    "print('Array rounded to 2 digits: ', np.round(arr, 2))"
   ]
  },
  {
   "cell_type": "markdown",
   "id": "5997217c-3676-4089-8c18-581074aef385",
   "metadata": {},
   "source": [
    "6. Write a NumPy program to round elements of the array to the nearest integer.\r\n"
   ]
  },
  {
   "cell_type": "code",
   "execution_count": 35,
   "id": "72073f32-27e8-44dd-ab72-c7560123cce9",
   "metadata": {},
   "outputs": [
    {
     "name": "stdout",
     "output_type": "stream",
     "text": [
      "Original array:  [0.31589696 0.42540307 0.77497105 0.77629354 0.63306794 0.31934245\n",
      " 0.88363093 0.6996887  0.17800524 0.65260518]\n",
      "Nearest Integers:  [0. 0. 1. 1. 1. 0. 1. 1. 0. 1.]\n"
     ]
    }
   ],
   "source": [
    "arr = np.random.random(10)\n",
    "print('Original array: ', arr)\n",
    "\n",
    "# np.rint(array) : This method round elements of the array to the nearest integer.\n",
    "print('Nearest Integers: ', np.rint(arr))"
   ]
  },
  {
   "cell_type": "markdown",
   "id": "1c0bf371-8a98-4ebf-9eae-be5df61974a4",
   "metadata": {},
   "source": [
    "7. Write a NumPy program to get the floor, ceiling and truncated values of the elements of a numpy array.\n"
   ]
  },
  {
   "cell_type": "code",
   "execution_count": 37,
   "id": "b47723de-c561-4ec5-945b-c1c427d6c04a",
   "metadata": {},
   "outputs": [
    {
     "name": "stdout",
     "output_type": "stream",
     "text": [
      "Original array:  [0.83299345 0.67244822 0.45988169 0.5668836  0.94129598 0.85093375\n",
      " 0.04316281 0.65130943 0.26506264 0.83850538]\n",
      "floor values:  [0. 0. 0. 0. 0. 0. 0. 0. 0. 0.]\n",
      "ceil values:  [1. 1. 1. 1. 1. 1. 1. 1. 1. 1.]\n",
      "truncated values:  [0. 0. 0. 0. 0. 0. 0. 0. 0. 0.]\n"
     ]
    }
   ],
   "source": [
    "arr = np.random.random(10)\n",
    "print('Original array: ', arr)\n",
    "\n",
    "# np.floor(array) : This function returns the floor value of each element of an array.\n",
    "print('floor values: ', np.floor(arr))\n",
    "\n",
    "# np.ceil(array) : This function returns the ceil value of each element of an array.\n",
    "print('ceil values: ', np.ceil(arr))\n",
    "\n",
    "# np.trunc(array) : this function returns the truncated values of the elements of an array.\n",
    "print('truncated values: ', np.trunc(arr))"
   ]
  },
  {
   "cell_type": "markdown",
   "id": "0e228d22-b707-48e3-ae4d-471b8bf29461",
   "metadata": {},
   "source": [
    "8. Write a NumPy program to multiply a 5x3 matrix by a 3x2 matrix and create a real matrix product.\n"
   ]
  },
  {
   "cell_type": "code",
   "execution_count": 40,
   "id": "e9972b2d-3610-4912-b44d-f04fe91fba16",
   "metadata": {},
   "outputs": [
    {
     "name": "stdout",
     "output_type": "stream",
     "text": [
      "Matrix1:  [[20 19 15]\n",
      " [16 21 12]\n",
      " [20 16 15]\n",
      " [19 19 19]\n",
      " [18 18 20]]\n",
      "Matrix2:  [[14 16]\n",
      " [13 12]\n",
      " [12 13]]\n",
      "Real matrix product:  [[707 743]\n",
      " [641 664]\n",
      " [668 707]\n",
      " [741 779]\n",
      " [726 764]]\n"
     ]
    }
   ],
   "source": [
    "matrix1 = np.random.randint(12, 22, size=(5, 3))\n",
    "matrix2 = np.random.randint(12, 22, size=(3, 2))\n",
    "print('Matrix1: ', matrix1)\n",
    "print('Matrix2: ', matrix2)\n",
    "\n",
    "# np.dot(matrix1, matrix2) : This method returns a real matrix product.\n",
    "print('Real matrix product: ', np.dot(matrix1, matrix2))"
   ]
  },
  {
   "cell_type": "markdown",
   "id": "f88c980e-7256-417e-94fd-fc2f95cb1ffe",
   "metadata": {},
   "source": [
    "9. Write a NumPy program to multiply a matrix by another matrix of complex numbers and create a new matrix of complex numbers."
   ]
  },
  {
   "cell_type": "code",
   "execution_count": 43,
   "id": "0a2f97b2-4821-4260-9d17-91c5b36e34b9",
   "metadata": {},
   "outputs": [
    {
     "name": "stdout",
     "output_type": "stream",
     "text": [
      "complex matrix product:  (-18+68j)\n"
     ]
    }
   ],
   "source": [
    "mat1 = np.array([1+2j, 3+4j])\n",
    "mat2 = np.array([5+6j, 7+8j])\n",
    "\n",
    "# np.vdot(matrix1, matrix2) : This method returns a vector matrix product.\n",
    "print('complex matrix product: ', np.vdot(mat1, mat2))"
   ]
  },
  {
   "cell_type": "markdown",
   "id": "505ab1a6-41ce-49e0-a722-31d71da13c17",
   "metadata": {},
   "source": [
    "10. Write a NumPy program to generate inner, outer, and cross products of matrices.\n"
   ]
  },
  {
   "cell_type": "code",
   "execution_count": 44,
   "id": "ebe2a56a-4222-431a-a751-ff6e2b84e155",
   "metadata": {},
   "outputs": [
    {
     "name": "stdout",
     "output_type": "stream",
     "text": [
      "Matrix1:  [[21 16]\n",
      " [15 12]]\n",
      "\n",
      "Matrix2:  [[14 15]\n",
      " [21 12]]\n",
      "\n",
      "Inner product:  [[534 633]\n",
      " [390 459]]\n",
      "\n",
      "Outer product:  [[294 315 441 252]\n",
      " [224 240 336 192]\n",
      " [210 225 315 180]\n",
      " [168 180 252 144]]\n",
      "\n",
      "Cross product:  [ 91 -72]\n"
     ]
    }
   ],
   "source": [
    "arr1 = np.random.randint(12, 22, size=(2, 2))\n",
    "print('Matrix1: ', arr1)\n",
    "\n",
    "arr2 = np.random.randint(12, 22, size=(2, 2))\n",
    "print('\\nMatrix2: ', arr2)\n",
    "\n",
    "# np.inner(matrix1, matrix2): this function returns the inner product of the two matrices specified.\n",
    "print('\\nInner product: ', np.inner(arr1, arr2))\n",
    "\n",
    "# np.outer(matrix1, matrix2) : this function returns the outer product of the two matrices specified.\n",
    "print('\\nOuter product: ', np.outer(arr1, arr2))\n",
    "\n",
    "# np.cross(matrix1, matrix2) : this function returns the cross product of the two matrices specified.\n",
    "print('\\nCross product: ', np.cross(arr1, arr2))"
   ]
  },
  {
   "cell_type": "markdown",
   "id": "69ea29e7-f953-4f17-9138-dcdb8e8d4215",
   "metadata": {},
   "source": [
    "11. Write a NumPy program to find the roots of the following polynomials.\r\n"
   ]
  },
  {
   "cell_type": "code",
   "execution_count": 50,
   "id": "5cace8df-42fc-4fe4-9ba3-d8d97ced3732",
   "metadata": {},
   "outputs": [
    {
     "name": "stdout",
     "output_type": "stream",
     "text": [
      "Roots of the polynomial 7x^3 + 3x^2 - 12x + 15 = 0:  [-1.91167636+0.j          0.74155247+0.75566584j  0.74155247-0.75566584j]\n"
     ]
    }
   ],
   "source": [
    "# np.roots(array) : This method returns the roots of a polynomial.\n",
    "# let we have polynomial: 7x^3 + 3x^2 - 12x + 15 = 0\n",
    "# np.roots([7, 3, -12, 15]) will give the roots of this polynomial. The array that we pass contains the coefficients of the polynomial\n",
    "\n",
    "print('Roots of the polynomial 7x^3 + 3x^2 - 12x + 15 = 0: ', np.roots([7, 3, -12, 15]))"
   ]
  },
  {
   "cell_type": "markdown",
   "id": "ea0b2178-22ba-4a5f-bf52-25c534823ccc",
   "metadata": {},
   "source": [
    "12. Write a NumPy program to compute the following polynomial values.\r\n"
   ]
  },
  {
   "cell_type": "code",
   "execution_count": 51,
   "id": "a027571d-3cd6-4b4d-9940-307afe605b83",
   "metadata": {},
   "outputs": [
    {
     "name": "stdout",
     "output_type": "stream",
     "text": [
      "polynomial value when x = 2:  6\n"
     ]
    }
   ],
   "source": [
    "# np.polyval(array, x_value) : This function computes f(x_value) and returns. The array contains coefficients of the polynomial.\n",
    "print('polynomial value when x = 2: ', np.polyval([1, -2, 6], 2))"
   ]
  },
  {
   "cell_type": "markdown",
   "id": "8f2629df-7cb9-47c5-8993-5f6772327e46",
   "metadata": {},
   "source": [
    "12. Write a NumPy program to add one polynomial to another, subtract one polynomial from another, multiply one polynomial by another and divide one polynomial by another.\r\n"
   ]
  },
  {
   "cell_type": "code",
   "execution_count": 56,
   "id": "c822a7c6-1e1a-48cd-8ba9-7965f04c1949",
   "metadata": {},
   "outputs": [
    {
     "name": "stdout",
     "output_type": "stream",
     "text": [
      "Polynomial Addition:  [5 7 9]\n",
      "\n",
      "Polynomial Subtraction:  [-3 -3 -3]\n",
      "\n",
      "Polynomial Multiplication:  [ 4 13 28 27 18]\n",
      "\n",
      "Polynomial division:  (array([0.25]), array([0.75, 1.5 ]))\n"
     ]
    }
   ],
   "source": [
    "# np.polyadd(array1, array2) : this function add the two polymials. Here arrays contain the coefficients.\n",
    "print('Polynomial Addition: ', np.polyadd([1, 2, 3], [4, 5, 6]))\n",
    "\n",
    "# np.polysub(array1, array2) : this function subtract polynomial2 from polynomial1. Here arrays contain the coefficients.\n",
    "print('\\nPolynomial Subtraction: ', np.polysub([1, 2, 3], [4, 5, 6]))\n",
    "\n",
    "# np.polymul(array1, array2) : this function multiplies polynomial1 with polynomial2. Here arrays contain the coefficients.\n",
    "print('\\nPolynomial Multiplication: ', np.polymul([1, 2, 3], [4, 5, 6]))\n",
    "\n",
    "# np.polydiv(array1, array2) : this function divides polynomial1 by polynomial2. Here arrays contain the coefficients.\n",
    "print('\\nPolynomial division: ', np.polydiv([1, 2, 3], [4, 5, 6]))"
   ]
  },
  {
   "cell_type": "markdown",
   "id": "3d7b3754-4502-40a6-873e-99edc7a2ded6",
   "metadata": {},
   "source": [
    "13. Write a NumPy program to calculate mean across dimension, in a 2D numpy array.\n"
   ]
  },
  {
   "cell_type": "code",
   "execution_count": 60,
   "id": "b0663f68-a5c0-40fd-8380-8ea159c358a8",
   "metadata": {},
   "outputs": [
    {
     "name": "stdout",
     "output_type": "stream",
     "text": [
      "Original Array:  [[9 7 6]\n",
      " [4 1 3]\n",
      " [0 5 0]]\n",
      "\n",
      "Mean in cols:  [4.33333333 4.33333333 3.        ]\n",
      "\n",
      "Mean in rows:  [7.33333333 2.66666667 1.66666667]\n"
     ]
    }
   ],
   "source": [
    "arr = np.random.randint(12, size=(3, 3))\n",
    "print('Original Array: ', arr)\n",
    "\n",
    "# np.mean(array, axis) : This function returns the mean of array as per the axis mentioned.\n",
    "# if axis = 0, goes for cols\n",
    "print('\\nMean in cols: ', np.mean(arr, axis=0))\n",
    "\n",
    "# if axis = 1, goes for rows\n",
    "print('\\nMean in rows: ', np.mean(arr, axis=1))"
   ]
  },
  {
   "cell_type": "markdown",
   "id": "5a45a623-c1c6-4515-b0dc-4b845277dd92",
   "metadata": {},
   "source": [
    "14. Write a NumPy program to create a random array with 1000 elements and compute the average, variance, standard deviation of the array elements."
   ]
  },
  {
   "cell_type": "code",
   "execution_count": 63,
   "id": "5f4666ca-1e4e-4228-9b18-0f08d270445e",
   "metadata": {},
   "outputs": [
    {
     "name": "stdout",
     "output_type": "stream",
     "text": [
      "\n",
      "Average:  0.4917013251008242\n",
      "\n",
      "Variance:  0.08754286892558438\n",
      "\n",
      "Standard Deviation:  0.295876441991559\n"
     ]
    }
   ],
   "source": [
    "arr = np.random.random(1000)\n",
    "# print('Original Array: ', arr)\n",
    "\n",
    "# average is obtained using np.mean(array, axis).\n",
    "print('\\nAverage: ', np.mean(arr))\n",
    "\n",
    "# np.var(array, axis) : This method returns the variance of the array.\n",
    "print('\\nVariance: ', np.var(arr))\n",
    "\n",
    "# np.std(array, axis) : This method returns the standard deviation of the array.l\n",
    "print('\\nStandard Deviation: ', np.std(arr))"
   ]
  },
  {
   "cell_type": "markdown",
   "id": "1e2277da-e03c-4a4c-b191-affd32172b05",
   "metadata": {},
   "source": [
    "15. Write a NumPy program to compute the trigonometric sine, cosine and tangent array of angles given in degrees."
   ]
  },
  {
   "cell_type": "code",
   "execution_count": 70,
   "id": "e9b151dc-5a08-447a-a3f1-96fb5fd1ba70",
   "metadata": {},
   "outputs": [
    {
     "name": "stdout",
     "output_type": "stream",
     "text": [
      "Array of degrees:  [ 15  30  45  60  90 120 150 180]\n",
      "\n",
      "Sin values:  [2.58819045e-01 5.00000000e-01 7.07106781e-01 8.66025404e-01\n",
      " 1.00000000e+00 8.66025404e-01 5.00000000e-01 1.22464680e-16]\n",
      "\n",
      "Cos values:  [ 9.65925826e-01  8.66025404e-01  7.07106781e-01  5.00000000e-01\n",
      "  6.12323400e-17 -5.00000000e-01 -8.66025404e-01 -1.00000000e+00]\n",
      "\n",
      "Tan values:  [ 2.67949192e-01  5.77350269e-01  1.00000000e+00  1.73205081e+00\n",
      "  1.63312394e+16 -1.73205081e+00 -5.77350269e-01 -1.22464680e-16]\n"
     ]
    }
   ],
   "source": [
    "# create an array for angles given in degrees.\n",
    "arr = np.array([15, 30, 45, 60, 90, 120, 150, 180])\n",
    "print('Array of degrees: ', arr)\n",
    "\n",
    "# np.pi = This is the pi value. to convert \n",
    "# np.pi/180 converts the degree value to radian value.\n",
    "\n",
    "# np.sin(array) : This function gives the sin values for each element in the array.\n",
    "print('\\nSin values: ', np.sin(arr * np.pi/180) )\n",
    "\n",
    "# np.cos(array) : This function gives the cos values for each element in the array.\n",
    "print('\\nCos values: ', np.cos(arr * np.pi/180))\n",
    "\n",
    "# np.tan(array) : This function gives the tan values for each element in the array.\n",
    "print('\\nTan values: ', np.tan(arr * np.pi/180))"
   ]
  },
  {
   "cell_type": "markdown",
   "id": "dad80af1-c4c1-4b69-b34b-141749d73d24",
   "metadata": {},
   "source": [
    "16. Write a NumPy program to calculate inverse sine, inverse cosine, and inverse tangent for all elements in a given array.\r\n"
   ]
  },
  {
   "cell_type": "code",
   "execution_count": 72,
   "id": "9b1959c6-a2eb-4da1-a493-0e385939c4c3",
   "metadata": {},
   "outputs": [
    {
     "name": "stdout",
     "output_type": "stream",
     "text": [
      "Original Array:  [0.66462791 0.7200709  0.48285037 0.24181494 0.30489084 0.91552921\n",
      " 0.60517749 0.1695493  0.32951266 0.69532918]\n",
      "\n",
      "Inverse Sin:  [41.65378585 46.06033407 28.8717304  13.99368425 17.75159649 66.28099425\n",
      " 37.24161525  9.76161561 19.23919876 44.0534545 ]\n",
      "\n",
      "Inverse Cos:  [48.34621415 43.93966593 61.1282696  76.00631575 72.24840351 23.71900575\n",
      " 52.75838475 80.23838439 70.76080124 45.9465455 ]\n",
      "\n",
      "Inverse Tan:  [33.60912139 35.75656239 25.77359085 13.59401747 16.95598341 42.47501313\n",
      " 31.1813823   9.62294572 18.23770604 34.81201626]\n"
     ]
    }
   ],
   "source": [
    "arr = np.random.rand(10)\n",
    "print('Original Array: ', arr)\n",
    "\n",
    "# np.arcsin(array) : This method returns the inverse sine values of elements.\n",
    "print('\\nInverse Sin: ', np.arcsin(arr) * 180/np.pi)\n",
    "\n",
    "# np.arccos(array) : This method returns the inverse cosine values of elements.\n",
    "print('\\nInverse Cos: ', np.arccos(arr) * 180/np.pi)\n",
    "\n",
    "# np.arctan(array) : This method returns the inverse tan values of elements.\n",
    "print('\\nInverse Tan: ', np.arctan(arr) * 180/np.pi)"
   ]
  },
  {
   "cell_type": "markdown",
   "id": "1999a692-cc13-4134-b323-a3a415bd579a",
   "metadata": {},
   "source": [
    "17. Write a NumPy program to calculate cumulative sum of the elements along a given axis, sum over rows for each of the 3 columns and sum over columns for each of the 2 rows of a given 3x3 array."
   ]
  },
  {
   "cell_type": "code",
   "execution_count": null,
   "id": "4d383505-9c66-4a91-8097-72d7af88f064",
   "metadata": {},
   "outputs": [],
   "source": [
    "arr = np.random.randint(12, 22, size=(3, 3))\n",
    "print('Original Array: ', arr)\n",
    "\n",
    "# np.cumsum(array, axis) : this function gives the cumulative sum of the elements along a given axis.\n",
    "# if axis = 0, cumsum of cols is computed\n",
    "print('\\nCumulative Sum along cols: ', np.cumsum(arr, axis=0))\n",
    "\n",
    "# if axis = 1, cumsum of rows is computed\n",
    "print('\\nCumulative Sum along rows: ', np.cumsum(arr, axis=1))"
   ]
  },
  {
   "cell_type": "markdown",
   "id": "17944da9-53c9-44ba-987a-ecc47d4d30ec",
   "metadata": {},
   "source": [
    "18. Write a NumPy program to calculate cumulative product of the elements along a given axis, sum over rows for each of the 3 columns and product over columns for each of the 2 rows of a given 3x3 array."
   ]
  },
  {
   "cell_type": "code",
   "execution_count": 76,
   "id": "80a47288-d383-422b-877d-ea42f2d11fe9",
   "metadata": {},
   "outputs": [
    {
     "name": "stdout",
     "output_type": "stream",
     "text": [
      "Original Array:  [[18 14 12]\n",
      " [18 21 12]\n",
      " [18 19 13]]\n",
      "\n",
      "Cumulative Product along cols:  [[  18   14   12]\n",
      " [ 324  294  144]\n",
      " [5832 5586 1872]]\n",
      "\n",
      "Cumulative Product along rows:  [[  18  252 3024]\n",
      " [  18  378 4536]\n",
      " [  18  342 4446]]\n"
     ]
    }
   ],
   "source": [
    "arr = np.random.randint(12, 22, size=(3, 3))\n",
    "print('Original Array: ', arr)\n",
    "\n",
    "# np.cumprod(array, axis) : this function gives the cumulative product of the elements along a given axis.\n",
    "# if axis = 0, cumprod of cols is computed\n",
    "print('\\nCumulative Product along cols: ', np.cumprod(arr, axis=0))\n",
    "\n",
    "# if axis = 1, cumprod of rows is computed\n",
    "print('\\nCumulative Product along rows: ', np.cumprod(arr, axis=1))"
   ]
  },
  {
   "cell_type": "markdown",
   "id": "82cc9226-44c6-49de-93d5-4a824e239bbb",
   "metadata": {},
   "source": [
    "19. Write a NumPy program to calculate the difference between neighboring elements, element-wise of a given array."
   ]
  },
  {
   "cell_type": "code",
   "execution_count": 79,
   "id": "dd27df02-ba38-4f9f-ba90-d70f297a4bb8",
   "metadata": {},
   "outputs": [
    {
     "name": "stdout",
     "output_type": "stream",
     "text": [
      "Original Array:  [20 15 21 13 12 12 21 20 13 18]\n",
      "\n",
      "Element Wise Difference:  [-5  6 -8 -1  0  9 -1 -7  5]\n"
     ]
    }
   ],
   "source": [
    "arr = np.random.randint(12, 22, 10)\n",
    "print('Original Array: ', arr)\n",
    "\n",
    "# np.diff(array) : this function returns the difference between neighboring elements, element-wise.\n",
    "print('\\nElement Wise Difference: ', np.diff(arr))"
   ]
  },
  {
   "cell_type": "markdown",
   "id": "443c97a7-5714-4652-849c-387ebb73dc3b",
   "metadata": {},
   "source": [
    "20. Write a NumPy program to compute e^x, element-wise of a given array.\r\n"
   ]
  },
  {
   "cell_type": "code",
   "execution_count": 80,
   "id": "7a00ebb1-ba18-4a29-a670-65bea708f83d",
   "metadata": {},
   "outputs": [
    {
     "name": "stdout",
     "output_type": "stream",
     "text": [
      "Original Array:  [16 12 19 13 18 13 19 12 19 12]\n",
      "\n",
      " e^x :  [8.88611052e+06 1.62754791e+05 1.78482301e+08 4.42413392e+05\n",
      " 6.56599691e+07 4.42413392e+05 1.78482301e+08 1.62754791e+05\n",
      " 1.78482301e+08 1.62754791e+05]\n"
     ]
    }
   ],
   "source": [
    "arr = np.random.randint(12, 22, 10)\n",
    "print('Original Array: ', arr)\n",
    "\n",
    "# np.exp(array) : This function computes e^x, element wise of a given array.\n",
    "print('\\n e^x : ', np.exp(arr))"
   ]
  },
  {
   "cell_type": "markdown",
   "id": "4bef2b28-1fb0-447c-a654-69bb432b5c35",
   "metadata": {},
   "source": [
    "21. Write a NumPy program to calculate 2p for all elements in a given array."
   ]
  },
  {
   "cell_type": "code",
   "execution_count": 81,
   "id": "2d7bdfe0-b975-4547-b055-179142fca173",
   "metadata": {},
   "outputs": [
    {
     "name": "stdout",
     "output_type": "stream",
     "text": [
      "Original Array:  [19 16 18 19 19 17 13 15 14 15]\n",
      "\n",
      " 2^p:  [524288.  65536. 262144. 524288. 524288. 131072.   8192.  32768.  16384.\n",
      "  32768.]\n"
     ]
    }
   ],
   "source": [
    "arr = np.random.randint(12, 22, 10)\n",
    "print('Original Array: ', arr)\n",
    "\n",
    "# np.exp2(array) : This function computes 2^p, element wise of a given array.\n",
    "print('\\n 2^p: ', np.exp2(arr))"
   ]
  },
  {
   "cell_type": "markdown",
   "id": "663062ec-1335-4f4f-a3ef-bd1606f25f89",
   "metadata": {},
   "source": [
    "22. Write a NumPy program to compute natural, base 10, and base 2 logarithms for all elements in a given array."
   ]
  },
  {
   "cell_type": "code",
   "execution_count": 82,
   "id": "942b3f20-fd1b-4d85-a6d9-16aed95663d4",
   "metadata": {},
   "outputs": [
    {
     "name": "stdout",
     "output_type": "stream",
     "text": [
      "Original Array:  [21 19 17 17 19 20 19 15 19 13]\n",
      "\n",
      "Natural Logarithm:  [3.04452244 2.94443898 2.83321334 2.83321334 2.94443898 2.99573227\n",
      " 2.94443898 2.7080502  2.94443898 2.56494936]\n",
      "\n",
      "Base 10 logarithm:  [1.32221929 1.2787536  1.23044892 1.23044892 1.2787536  1.30103\n",
      " 1.2787536  1.17609126 1.2787536  1.11394335]\n",
      "\n",
      "Base 2 logarithm:  [4.39231742 4.24792751 4.08746284 4.08746284 4.24792751 4.32192809\n",
      " 4.24792751 3.9068906  4.24792751 3.70043972]\n"
     ]
    }
   ],
   "source": [
    "arr = np.random.randint(12, 22, 10)\n",
    "print('Original Array: ', arr)\n",
    "\n",
    "# np.log(array) : finds out the natural logarithm\n",
    "print('\\nNatural Logarithm: ', np.log(arr))\n",
    "\n",
    "# np.log10(array) : finds the logarithm of base 10\n",
    "print('\\nBase 10 logarithm: ', np.log10(arr))\n",
    "\n",
    "# np.log2(array) : finds the logarithm of base 2\n",
    "print('\\nBase 2 logarithm: ', np.log2(arr))"
   ]
  },
  {
   "cell_type": "markdown",
   "id": "58e9447e-af72-4297-af00-355222f53d66",
   "metadata": {},
   "source": [
    "23. Write a NumPy program to compute the reciprocal for all elements in a given array.\r",
    ":"
   ]
  },
  {
   "cell_type": "code",
   "execution_count": 90,
   "id": "38f260db-6a02-4ae4-acf2-9adbf8e8f845",
   "metadata": {},
   "outputs": [
    {
     "name": "stdout",
     "output_type": "stream",
     "text": [
      "Original Array:  [13 18 16 21 16 14 17 16 20 14]\n",
      "\n",
      "Reciprocals:  [0.07692308 0.05555556 0.0625     0.04761905 0.0625     0.07142857\n",
      " 0.05882353 0.0625     0.05       0.07142857]\n"
     ]
    }
   ],
   "source": [
    "arr = np.random.randint(12, 22, 10)\n",
    "print('Original Array: ', arr)\n",
    "\n",
    "# np.reciprocal(array) : This function returns the reciprocal of each element of an array.\n",
    "reciprocals = 1/arr\n",
    "\n",
    "print('\\nReciprocals: ', reciprocals)"
   ]
  },
  {
   "cell_type": "code",
   "execution_count": null,
   "id": "36e56fe2-93ba-4e72-9704-6e97dcc5f1dc",
   "metadata": {},
   "outputs": [],
   "source": []
  }
 ],
 "metadata": {
  "kernelspec": {
   "display_name": "Python 3 (ipykernel)",
   "language": "python",
   "name": "python3"
  },
  "language_info": {
   "codemirror_mode": {
    "name": "ipython",
    "version": 3
   },
   "file_extension": ".py",
   "mimetype": "text/x-python",
   "name": "python",
   "nbconvert_exporter": "python",
   "pygments_lexer": "ipython3",
   "version": "3.11.7"
  }
 },
 "nbformat": 4,
 "nbformat_minor": 5
}
