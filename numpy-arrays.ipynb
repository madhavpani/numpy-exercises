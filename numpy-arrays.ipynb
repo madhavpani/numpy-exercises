{
 "cells": [
  {
   "cell_type": "code",
   "execution_count": 1,
   "id": "54ad561c-5444-410b-bd33-965707d302f3",
   "metadata": {},
   "outputs": [],
   "source": [
    "# Import the library numpy with alias np\n",
    "import numpy as np"
   ]
  },
  {
   "cell_type": "markdown",
   "id": "990e59b4-a0d6-42f4-bd25-b3cdedf694fc",
   "metadata": {},
   "source": [
    "1. Write a NumPy program to print the NumPy version on your system.\r\n"
   ]
  },
  {
   "cell_type": "code",
   "execution_count": 3,
   "id": "5361f3c2-349b-46f1-b184-c3b2855117de",
   "metadata": {},
   "outputs": [
    {
     "name": "stdout",
     "output_type": "stream",
     "text": [
      "Numpy Version:  1.26.4\n"
     ]
    }
   ],
   "source": [
    "# np.__version__ : This gives us the version of numpy that we are using\n",
    "print('Numpy Version: ', np.__version__)"
   ]
  },
  {
   "cell_type": "markdown",
   "id": "6b196fc8-f5ba-4ceb-af29-4b471c7b467a",
   "metadata": {},
   "source": [
    "2. Write a NumPy program to convert a list of numeric values into a one-dimensional NumPy array.\r\n",
    "Expected Output:\r\n",
    "Original List: [12.23, 13.32, 100, 36.32]\r\n",
    "One-dimensional NumPy array: [ 12.23 13.32 100. 36.32]"
   ]
  },
  {
   "cell_type": "code",
   "execution_count": 9,
   "id": "010a02b3-c1f4-4c76-a9bc-63b9a988b6ad",
   "metadata": {},
   "outputs": [
    {
     "name": "stdout",
     "output_type": "stream",
     "text": [
      "Original List:  [12.23, 12.32, 100, 36.32]\n",
      "Numpy Array:  [ 12.23  12.32 100.    36.32]\n"
     ]
    }
   ],
   "source": [
    "# create the list as given in question\n",
    "original_list = [12.23, 12.32, 100, 36.32]\n",
    "print('Original List: ', origina_list)\n",
    "\n",
    "# np.array(iterable) : This method is used to create ndarray from the specified iterable.\n",
    "arr = np.array(original_list)\n",
    "print('Numpy Array: ', arr)"
   ]
  },
  {
   "cell_type": "markdown",
   "id": "14a4724b-6fb7-4435-b161-61072f57a96f",
   "metadata": {},
   "source": [
    "3.Write a NumPy program to create a 3x3 matrix with values ranging from 2 to 10.\r\n",
    "Expected Output:\r\n",
    "[[ 2 3 4]\r\n",
    "[ 5 6 7]\r\n",
    "[ 8 9 10]]"
   ]
  },
  {
   "cell_type": "code",
   "execution_count": 13,
   "id": "fc28d49b-caf9-4c38-acdf-92c5265d85a7",
   "metadata": {},
   "outputs": [
    {
     "name": "stdout",
     "output_type": "stream",
     "text": [
      "[[ 2  3  4]\n",
      " [ 5  6  7]\n",
      " [ 8  9 10]]\n"
     ]
    }
   ],
   "source": [
    "# np.arange(start, stop, step) : This method creates an ndarray within a given range from 'start' to 'stop' as specified with default 'step' = 1.\n",
    "# array.reshape(shape) : This method reshape's an array to the specified shape.\n",
    "arr = np.arange(2, 11).reshape(3, 3)\n",
    "\n",
    "print(arr)"
   ]
  },
  {
   "cell_type": "markdown",
   "id": "551ec1bf-368c-4b99-8f2c-c6d4a99e1fa1",
   "metadata": {},
   "source": [
    "4. Write a NumPy program to create a null vector of size 10 and update the sixth value to 11.\r\n",
    "[ 0. 0. 0. 0. 0. 0. 0. 0. 0. 0.]\r\n",
    "Update sixth value to 11\r\n",
    "[ 0. 0. 0. 0. 0. 0. 11. 0. 0. 0.]"
   ]
  },
  {
   "cell_type": "code",
   "execution_count": 19,
   "id": "53fd8daf-7e71-44ba-9aae-dee64d652a49",
   "metadata": {},
   "outputs": [
    {
     "name": "stdout",
     "output_type": "stream",
     "text": [
      "[ 0.  0.  0.  0.  0.  0. 11.  0.  0.  0.]\n"
     ]
    }
   ],
   "source": [
    "# np.zeros(shape) : This method creates an ndarray with elements as zero as per the specified shape.\n",
    "arr = np.zeros(10)\n",
    "\n",
    "# To assign sixth value to 11, we need to access the index = 6, because array indexing starts from 0.\n",
    "arr[6] = 11\n",
    "\n",
    "print(arr)"
   ]
  },
  {
   "cell_type": "markdown",
   "id": "2a92a46e-3473-4152-8f1e-e01f369746bd",
   "metadata": {},
   "source": [
    "5. Write a NumPy program to create an array with values ranging from 12 to 38.\r\n",
    "Expected Output:\r\n",
    "[12 13 14 15 16 17 18 19 20 21 22 23 24 25 26 27 28 29 30 31 32 33 34 35 36 37]"
   ]
  },
  {
   "cell_type": "code",
   "execution_count": 20,
   "id": "fc327676-cff6-4404-ae93-f57c0f2dc69d",
   "metadata": {},
   "outputs": [
    {
     "name": "stdout",
     "output_type": "stream",
     "text": [
      "[12 13 14 15 16 17 18 19 20 21 22 23 24 25 26 27 28 29 30 31 32 33 34 35\n",
      " 36 37]\n"
     ]
    }
   ],
   "source": [
    "# np.arange(start, stop, step) : This method creates an ndarray within a given range from 'start' to 'stop' as specified with default 'step' = 1.\n",
    "arr = np.arange(12, 38)\n",
    "print(arr)"
   ]
  },
  {
   "cell_type": "markdown",
   "id": "68c94243-2e89-43b2-b62d-3d0e0abf177d",
   "metadata": {},
   "source": [
    "6. Write a NumPy program to reverse an array (the first element becomes the last).\n",
    "Original array:\n",
    "[12 13 14 15 16 17 18 19 20 21 22 23 24 25 26 27 28 29 30 31 32 33 34 35 36 37]\n",
    "Reverse array:\n",
    "[37 36 35 34 33 32 31 30 29 28 27 26 25 24 23 22 21 20 19 18 17 16 15 14 13 12]"
   ]
  },
  {
   "cell_type": "code",
   "execution_count": 21,
   "id": "d2f59b95-b228-4681-931b-51d46bc4df8a",
   "metadata": {},
   "outputs": [
    {
     "name": "stdout",
     "output_type": "stream",
     "text": [
      "Original Array:  [12 13 14 15 16 17 18 19 20 21 22 23 24 25 26 27 28 29 30 31 32 33 34 35\n",
      " 36 37]\n",
      "Reverse array:  [37 36 35 34 33 32 31 30 29 28 27 26 25 24 23 22 21 20 19 18 17 16 15 14\n",
      " 13 12]\n"
     ]
    }
   ],
   "source": [
    "# np.arange(start, stop, step) : This method creates an ndarray within a given range from 'start' to 'stop' as specified with default 'step' = 1.\n",
    "arr = np.arange(12, 38)\n",
    "print('Original Array: ', arr)\n",
    "\n",
    "# to reverse an array, use advance indexing like arr[::-1]\n",
    "print('Reverse array: ',arr[::-1])"
   ]
  },
  {
   "cell_type": "markdown",
   "id": "1d3c3c14-a365-4cad-a63c-492e4a938bc0",
   "metadata": {},
   "source": [
    "7. Write a NumPy program to convert an array to a floating type.\r\n",
    "Sample output:\r\n",
    "Original array\r\n",
    "[1, 2, 3, 4]\r\n",
    "Array converted to a float type:\r\n",
    "[ 1. 2. 3. 4.]"
   ]
  },
  {
   "cell_type": "code",
   "execution_count": 24,
   "id": "851bff6b-de80-4417-9f71-15522f5e927a",
   "metadata": {},
   "outputs": [
    {
     "name": "stdout",
     "output_type": "stream",
     "text": [
      "[1. 2. 3. 4.]\n"
     ]
    }
   ],
   "source": [
    "# np.array(iterable) : This method creates an array out of the iterable specified.\n",
    "# by using dtype='float', we can convert the array to a float type, which default\n",
    "arr = np.array([1,2,3,4], dtype='float')\n",
    "\n",
    "print(arr)"
   ]
  },
  {
   "cell_type": "markdown",
   "id": "2ac301af-20d1-47b2-b344-d939c550d51b",
   "metadata": {},
   "source": [
    "8. Write a NumPy program to create a 2D array with 1 on the border and 0 inside.\r\n",
    "Expected Output:\r\n",
    "Original array:\r\n",
    "[[ 1. 1. 1. 1. 1.]\r\n",
    "...................\r\n",
    "[ 1. 1. 1. 1. 1.]]\r\n",
    "1 on the border and 0 inside in the array\r\n",
    "[[ 1. 1. 1. 1. 1.]\r\n",
    "...................\r\n",
    "[ 1. 1. 1. 1. 1.]]"
   ]
  },
  {
   "cell_type": "code",
   "execution_count": 34,
   "id": "4208018a-ce51-4c0a-a8ce-2821e33d6120",
   "metadata": {},
   "outputs": [
    {
     "name": "stdout",
     "output_type": "stream",
     "text": [
      "Origina Array:  [[1. 1. 1. 1. 1.]\n",
      " [1. 1. 1. 1. 1.]\n",
      " [1. 1. 1. 1. 1.]\n",
      " [1. 1. 1. 1. 1.]\n",
      " [1. 1. 1. 1. 1.]]\n",
      "Expected Array:  [[1. 1. 1. 1. 1.]\n",
      " [1. 0. 0. 0. 1.]\n",
      " [1. 0. 0. 0. 1.]\n",
      " [1. 0. 0. 0. 1.]\n",
      " [1. 1. 1. 1. 1.]]\n"
     ]
    }
   ],
   "source": [
    "# np.ones(shape) : This method creates an array of specified shape with elements as ones.\n",
    "arr = np.ones((5,5))\n",
    "print('Origina Array: ', arr)\n",
    "\n",
    "# Using advanced indixing, assign value zero like arr[1:-1, 1: -1] = 0\n",
    "arr[1:-1,1:-1] = 0\n",
    "\n",
    "print('Expected Array: ', arr)"
   ]
  },
  {
   "cell_type": "markdown",
   "id": "675de2b8-034d-48cb-894e-b32952d7b610",
   "metadata": {},
   "source": [
    "9. Write a NumPy program to add a border (filled with 0's) around an existing array.\r\n",
    "Expected Output:\r\n",
    "Original array:\r\n",
    "[[ 1. 1. 1.]\r\n",
    "[ 1. 1. 1.]\r\n",
    "[ 1. 1. 1.]]\r\n",
    "1 on the border and 0 inside in the array\r\n",
    "[[ 0. 0. 0. 0. 0.]\r\n",
    "...........\r\n",
    "[ 0. 0. 0. 0. 0.]]"
   ]
  },
  {
   "cell_type": "code",
   "execution_count": 37,
   "id": "3c6a1a0c-dbba-4866-9c4d-b6e3ed9f7977",
   "metadata": {},
   "outputs": [
    {
     "name": "stdout",
     "output_type": "stream",
     "text": [
      "Original Array:  [[1. 1. 1.]\n",
      " [1. 1. 1.]\n",
      " [1. 1. 1.]]\n",
      "Zero bordered Array:  [[0. 0. 0. 0. 0.]\n",
      " [0. 1. 1. 1. 0.]\n",
      " [0. 1. 1. 1. 0.]\n",
      " [0. 1. 1. 1. 0.]\n",
      " [0. 0. 0. 0. 0.]]\n"
     ]
    }
   ],
   "source": [
    "# np.ones(shape) : This method creates an array of specified shape with elements as ones.\n",
    "arr = np.ones((3,3))\n",
    "print('Original Array: ', arr)\n",
    "\n",
    "# np.pad(array, pad_width=1, mode='constant', constant_values=0): The np.pad function is used to pad the input array specified with a border of specified width and values. \n",
    "# In this case, pad_width=1 adds a border of width 1 around the array. The mode='constant' specifies that the padding should be done with constant values, and\n",
    "# constant_values=0 indicates that the constant value for padding should be 0.\n",
    "arr = np.pad(arr, pad_width=1, mode='constant', constant_values=0)\n",
    "\n",
    "print('Zero bordered Array: ', arr)"
   ]
  },
  {
   "cell_type": "markdown",
   "id": "9ac7b949-ba00-4f0c-b32d-751d02171b19",
   "metadata": {},
   "source": [
    "10. Write a NumPy program to create an 8x8 matrix and fill it with a checkerboard pattern.\r\n",
    "Checkerboard pattern:\r\n",
    "[[0 1 0 1 0 1 0 1]\r\n",
    "..........\r\n",
    "[0 1 0 1 0 1 0 1]\r\n",
    "[1 0 1 0 1 0 1 0]]"
   ]
  },
  {
   "cell_type": "code",
   "execution_count": 46,
   "id": "40a5c966-2feb-4ba1-a44b-0f94b133f22a",
   "metadata": {},
   "outputs": [
    {
     "name": "stdout",
     "output_type": "stream",
     "text": [
      "Checkerboard Pattern:  [[1. 0. 1. 0. 1. 0. 1. 0.]\n",
      " [0. 1. 0. 1. 0. 1. 0. 1.]\n",
      " [1. 0. 1. 0. 1. 0. 1. 0.]\n",
      " [0. 1. 0. 1. 0. 1. 0. 1.]\n",
      " [1. 0. 1. 0. 1. 0. 1. 0.]\n",
      " [0. 1. 0. 1. 0. 1. 0. 1.]\n",
      " [1. 0. 1. 0. 1. 0. 1. 0.]\n",
      " [0. 1. 0. 1. 0. 1. 0. 1.]]\n"
     ]
    }
   ],
   "source": [
    "# np.ones(shape) : This method creates an array of specified shape with elements as ones.\n",
    "arr = np.ones((8, 8))\n",
    "# print('Original Array: ', arr)\n",
    "\n",
    "# To generate Checkerboard pattern, use advanced Indxing like: arr[::2, 1::2] = 0 and arr[1::2, ::2] = 0\n",
    "arr[::2, 1::2] = 0\n",
    "arr[1::2, ::2] = 0\n",
    "\n",
    "print('Checkerboard Pattern: ', arr)"
   ]
  },
  {
   "cell_type": "markdown",
   "id": "7af3ad91-2f51-4ac6-8d8a-1ba5b6d9d93c",
   "metadata": {},
   "source": [
    "11. Write a NumPy program to convert a list and tuple into arrays.\r\n",
    "List to array:\r\n",
    "[1 2 3 4 5 6 7 8]\r\n",
    "Tuple to array:\r\n",
    "[[8 4 6]\r\n",
    "[1 2 3]]"
   ]
  },
  {
   "cell_type": "code",
   "execution_count": 47,
   "id": "3540f951-5cf1-45c9-8d3e-003be843a39b",
   "metadata": {},
   "outputs": [
    {
     "name": "stdout",
     "output_type": "stream",
     "text": [
      "List to Array:  [1 2 3 4 5 6 7 8]\n",
      "Tuple to Array:  [[8 4 6]\n",
      " [1 2 3]]\n"
     ]
    }
   ],
   "source": [
    "# Use np.array(iterable) to create an array of iterables specified like list or tuple.\n",
    "list = [1, 2, 3, 4, 5, 6, 7, 8]\n",
    "tuple = ((8, 4, 6), (1, 2, 3))\n",
    "\n",
    "print('List to Array: ', np.array(list))\n",
    "print('Tuple to Array: ', np.array(tuple))"
   ]
  },
  {
   "cell_type": "markdown",
   "id": "5fa3a90a-07c0-4254-8dd0-3d7518d20fa9",
   "metadata": {},
   "source": [
    "12. Write a NumPy program to append values to the end of an array.\r\n",
    "Expected Output:\r\n",
    "Original array:\r\n",
    "[10, 20, 30]\r\n",
    "After append values to the end of the array:\r\n",
    "[10 20 30 40 50 60 70 80 90]"
   ]
  },
  {
   "cell_type": "code",
   "execution_count": 49,
   "id": "7274a66b-37f2-490c-8124-f45d6aa27820",
   "metadata": {},
   "outputs": [
    {
     "name": "stdout",
     "output_type": "stream",
     "text": [
      "Original Array:  [10 20 30]\n",
      "Appended Array:  [10 20 30 40 50 60 70 80 90]\n"
     ]
    }
   ],
   "source": [
    "# create an array of 10, 20, and 30 using np.array(iterable) method.\n",
    "arr1 = np.array([10, 20, 30])\n",
    "print('Original Array: ', arr1)\n",
    "\n",
    "# np.append(array, appending_element/s) : This method is used to append the elements from 'appending_element/s'  to the specified 'array'\n",
    "arr2 = np.append(arr1, [40, 50, 60, 70, 80, 90])\n",
    "print('Appended Array: ', arr2)"
   ]
  },
  {
   "cell_type": "markdown",
   "id": "042ebdea-a31b-441a-a98c-25cf6375d6d9",
   "metadata": {},
   "source": [
    "13. Write a NumPy program to create an empty and full array.\r\n",
    "Expected Output:\r\n",
    "[ 6.93270651e-310 1.59262180e-316 6.93270559e-310 6.93270665e-310]\r\n",
    "[ 6.93270667e-310 6.93270671e-310 6.93270668e-310 6.93270483e-310]\r\n",
    "[ 6.93270668e-310 6.93270671e-310 6.93270370e-310 6.93270488e-310]]\r\n",
    "[[6 6 6]\r\n",
    "[6 6 6]\r\n",
    "[6 6 6]]"
   ]
  },
  {
   "cell_type": "code",
   "execution_count": 3,
   "id": "96c507e2-5169-47c7-a45f-79ec1abd6f5d",
   "metadata": {},
   "outputs": [
    {
     "name": "stdout",
     "output_type": "stream",
     "text": [
      "[[6.23042070e-307 4.67296746e-307 1.69121096e-306 8.90095411e-307]\n",
      " [2.31423707e-306 7.56599807e-307 8.90104239e-307 3.11525958e-307]\n",
      " [1.69118108e-306 9.34608432e-307 1.42410974e-306 1.69119330e-306]]\n",
      "[[6 6 6]\n",
      " [6 6 6]\n",
      " [6 6 6]]\n"
     ]
    }
   ],
   "source": [
    "# np.empty(shape) : This method creates an empty array of specified shape.\n",
    "empty_array = np.empty((3, 4))\n",
    "print(empty_array)\n",
    "\n",
    "# np.full(shape, element) : This method creates an array of specified shape with only one element i.e. specified.\n",
    "full_array = np.full((3, 3), 6)\n",
    "print(full_array)"
   ]
  },
  {
   "cell_type": "markdown",
   "id": "957a1afe-c431-4518-b1b8-f53f7b1df64b",
   "metadata": {},
   "source": [
    "14. Write a NumPy program to convert Centigrade degrees into Fahrenheit degrees. Centigrade values are stored in a NumPy array.\n",
    "Values in Centigrade degrees:\r\n",
    "[-17.78 -11.11 7.34 1.11 37.73 0. ]\r\n",
    "Values in Fahrenheit degrees[-27.66 -23.95 -13.7  -17.16   3.18 -17.78]. ]73 0. ]"
   ]
  },
  {
   "cell_type": "code",
   "execution_count": 12,
   "id": "90506b98-c9e9-4b8d-acd7-743458666b09",
   "metadata": {},
   "outputs": [
    {
     "name": "stdout",
     "output_type": "stream",
     "text": [
      "Values in Centigrade degrees:  [-17.78 -11.11   7.34   1.11  37.73   0.  ]\n",
      "Values in Fahrenheit degrees:  [-27.66 -23.95 -13.7  -17.16   3.18 -17.78]\n"
     ]
    }
   ],
   "source": [
    "# create Fahrenheit Array to convert it into Centigrade Array\n",
    "centigrade_array = np.array([-17.78, -11.11, 7.34, 1.11, 37.73, 0. ])\n",
    "print('Values in Centigrade degrees: ', centigrade_array)\n",
    "\n",
    "# fahrenheit = (centigrade - 32) * 5/9\n",
    "# centigrade = (9/5 * fehrenheit) + 32\n",
    "\n",
    "# np.round(array, round_value) : This method rounds the elements of the array specified w.r.t round_value.\n",
    "fahrenheit_array = np.round((centigrade_array - 32) * 5/9, 2)\n",
    "\n",
    "print('Values in Fahrenheit degrees: ', fahrenheit_array)"
   ]
  },
  {
   "cell_type": "markdown",
   "id": "114d07ef-13c0-467b-9b77-201df6a67e1c",
   "metadata": {},
   "source": [
    "15. Write a NumPy program to find the real and imaginary parts of an array of complex numbers.\r\n",
    "Expected Output:\r\n",
    "Original array [ 1.00000000+0.j 0.70710678+0.70710678j]\r\n",
    "Real part of the array:\r\n",
    "[ 1. 0.70710678]\r\n",
    "Imaginary part of the array:\r\n",
    "[ 0. 0.70710678]"
   ]
  },
  {
   "cell_type": "code",
   "execution_count": 17,
   "id": "3f56be32-2315-4ade-a749-47e7177c0567",
   "metadata": {},
   "outputs": [
    {
     "name": "stdout",
     "output_type": "stream",
     "text": [
      "Original Array:  [1.        +0.j         0.70710678+0.70710678j]\n",
      "Real part of the array:  [1.         0.70710678]\n",
      "Imaginary part of the array:  [0.         0.70710678]\n"
     ]
    }
   ],
   "source": [
    "# create a complen number array\n",
    "complex_array =  np.array([1.00000000+0.j, 0.70710678+0.70710678j])\n",
    "print('Original Array: ', complex_array)\n",
    "\n",
    "# array.real : This gives the real parts of the elements of a complex array\n",
    "print('Real part of the array: ', complex_array.real)\n",
    "\n",
    "# array.imag : This gives the imaginary parts of the elements of a complex array\n",
    "print('Imaginary part of the array: ', complex_array.imag)"
   ]
  },
  {
   "cell_type": "markdown",
   "id": "3fefae3d-efbc-4af9-ac0e-93709da39f1d",
   "metadata": {},
   "source": [
    "16. Write a NumPy program to find the number of elements in an array. It also finds the length of one array element in bytes and the total bytes consumed by the elements.\r\n",
    "Expected Output:\r\n",
    "Size of the array: 3\r\n",
    "Length of one array element in bytes: 8\r\n",
    "Total bytes consumed by the elements of the array: 24"
   ]
  },
  {
   "cell_type": "code",
   "execution_count": 21,
   "id": "8cf66bae-c37b-4afe-9af2-7c80a0fc131c",
   "metadata": {},
   "outputs": [
    {
     "name": "stdout",
     "output_type": "stream",
     "text": [
      "Size of the array:  3\n",
      "Length of one array element in bytes:  4\n",
      "Total bytes consumed by the array:  12\n"
     ]
    }
   ],
   "source": [
    "# array.size : This gives us the size of the array\n",
    "# lets create an array with np.arange(start, stop, step)\n",
    "arr = np.arange(1,4)\n",
    "print('Size of the array: ', arr.size)\n",
    "\n",
    "# array.itemsize : This gives the size of an array element in bytes\n",
    "print('Length of one array element in bytes: ', arr.itemsize)\n",
    "\n",
    "# Total bytes consumed = array.itemsize * array.size\n",
    "print('Total bytes consumed by the array: ', arr.itemsize * arr.size)"
   ]
  },
  {
   "cell_type": "markdown",
   "id": "30d95760-051a-49be-bd54-98b273f07342",
   "metadata": {},
   "source": [
    "17. Write a NumPy program to test whether each element of a 1-D array is also present in a second array.\r\n",
    "Expected Output:\r\n",
    "Array1: [ 0 10 20 40 60]\r\n",
    "Array2: [0, 40]\r\n",
    "Compare each element of array1 and array2\r\n",
    "[ True False False True False]"
   ]
  },
  {
   "cell_type": "code",
   "execution_count": 4,
   "id": "60174189-6bc5-4bdd-a26a-f6c573ae2d07",
   "metadata": {},
   "outputs": [
    {
     "name": "stdout",
     "output_type": "stream",
     "text": [
      "Array1:  [ 0 10 20 40 60]\n",
      "Array2:  [ 0 40]\n",
      "Comparision:  [ True False False  True False]\n"
     ]
    }
   ],
   "source": [
    "# create two arrays using np.array(iterable)\n",
    "arr1 = np.array([0, 10, 20, 40, 60])\n",
    "print('Array1: ', arr1)\n",
    "\n",
    "arr2 = np.array([0, 40])\n",
    "print('Array2: ', arr2)\n",
    "\n",
    "# np.in1d(array1, array2) : This method complares each element of array1 with array2 and returns True if found else false.\n",
    "print('Comparision: ', np.in1d(arr1, arr2))"
   ]
  },
  {
   "cell_type": "markdown",
   "id": "6da0029a-f62b-4a29-931f-ab75a2ded571",
   "metadata": {},
   "source": [
    "18. Write a NumPy program to find common values between two arrays.\r\n",
    "Expected Output:\r\n",
    "Array1: [ 0 10 20 40 60]\r\n",
    "Array2: [10, 30, 40]\r\n",
    "Common values between two arrays:\r\n",
    "[10 40]"
   ]
  },
  {
   "cell_type": "code",
   "execution_count": 6,
   "id": "3a49584f-7ccb-45d0-a351-974653a09085",
   "metadata": {},
   "outputs": [
    {
     "name": "stdout",
     "output_type": "stream",
     "text": [
      "Array1:  [ 0 10 20 40 60]\n",
      "Array2:  [10 30 40]\n",
      "Common Values:  [10 40]\n"
     ]
    }
   ],
   "source": [
    "# create two arrays using np.array(iterable)\n",
    "arr1 = np.array([0, 10, 20, 40, 60])\n",
    "print('Array1: ', arr1)\n",
    "\n",
    "arr2 = np.array([10, 30, 40])\n",
    "print('Array2: ', arr2)\n",
    "\n",
    "# np.intersect1d(array1, array2) : This method returns element of both arrays specified which are common.\n",
    "print('Common Values: ', np.intersect1d(arr1, arr2))"
   ]
  },
  {
   "cell_type": "markdown",
   "id": "ecbaa264-fc65-495a-84ce-cef594fa81e3",
   "metadata": {},
   "source": [
    "19. Write a NumPy program to get the unique elements of an array.\r\n",
    "Expected Output:\r\n",
    "Original array:\r\n",
    "[10 10 20 20 30 30]\r\n",
    "Unique elements of the above array:\r\n",
    "[10 20 30]\r\n",
    "Original array:\r\n",
    "[[1 1]\r\n",
    "[2 3]]\r\n",
    "Unique elements of the above array:\r\n",
    "[1 2 3]"
   ]
  },
  {
   "cell_type": "code",
   "execution_count": 8,
   "id": "6d036881-71fb-49c1-959c-4581c734a31f",
   "metadata": {},
   "outputs": [
    {
     "name": "stdout",
     "output_type": "stream",
     "text": [
      "Original Array:  [10 10 20 20 30 30]\n",
      "Unique Elements:  [10 20 30]\n",
      "Original Array2:  [[1 1]\n",
      " [2 3]]\n",
      "Unique Elements:  [1 2 3]\n"
     ]
    }
   ],
   "source": [
    "# creatte an array using np.array(iterable)\n",
    "Original_Array = np.array([10, 10, 20, 20, 30, 30])\n",
    "print('Original Array: ', Original_Array)\n",
    "\n",
    "# np.unique(array) : this method gives us the unique values in the array specified\n",
    "print('Unique Elements: ', np.unique(Original_Array))\n",
    "\n",
    "original_array2 = np.array([[1, 1], [2, 3]])\n",
    "print('Original Array2: ', original_array2)\n",
    "\n",
    "print('Unique Elements: ', np.unique(original_array2))"
   ]
  },
  {
   "cell_type": "markdown",
   "id": "a8534197-3580-4603-813d-cee52a4eb641",
   "metadata": {},
   "source": [
    "20. Write a NumPy program to find the set difference between two arrays. The set difference will return sorted, distinct values in array1 that are not in array2.\r\n",
    "Expected Output:\r\n",
    "Array1: [ 0 10 20 40 60 80]\r\n",
    "Array2: [10, 30, 40, 50, 70, 90]\r\n",
    "Set difference between two arrays:\r\n",
    "[ 0 20 60 80]"
   ]
  },
  {
   "cell_type": "code",
   "execution_count": 9,
   "id": "724a28b8-160c-47c1-a7c1-719f4cf4282e",
   "metadata": {},
   "outputs": [
    {
     "name": "stdout",
     "output_type": "stream",
     "text": [
      "Array1:  [ 0 10 20 40 60 80]\n",
      "Array2:  [10 30 40 50 70 90]\n",
      "Set Difference:  [ 0 20 60 80]\n"
     ]
    }
   ],
   "source": [
    "# create two arrays with np.array(iterable)\n",
    "arr1 = np.array([0, 10, 20, 40, 60, 80])\n",
    "print('Array1: ', arr1)\n",
    "\n",
    "arr2 = np.array([10, 30, 40, 50, 70, 90])\n",
    "print('Array2: ', arr2)\n",
    "\n",
    "# np.setdiff1d(array1, array2) : This method returns the set difference between array1 and array2: i.e. array1 - array2\n",
    "print('Set Difference: ', np.setdiff1d(arr1, arr2))"
   ]
  },
  {
   "cell_type": "markdown",
   "id": "de61dc13-5d95-45fe-a763-7c5cc676243d",
   "metadata": {},
   "source": [
    "21. Write a NumPy program to find the set exclusive-or of two arrays. Set exclusive-or will return sorted, distinct values in only one (not both) of the input arrays.\r\n",
    "Array1: [ 0 10 20 40 60 80]\r\n",
    "Array2: [10, 30, 40, 50, 70]\r\n",
    "Unique values that are in only one (not both) of the input arrays:\r\n",
    "[ 0 20 30 50 60 70 80]"
   ]
  },
  {
   "cell_type": "code",
   "execution_count": 10,
   "id": "56590965-c055-4e69-8b03-b044918c819d",
   "metadata": {},
   "outputs": [
    {
     "name": "stdout",
     "output_type": "stream",
     "text": [
      "Array1:  [ 0 10 20 40 60 80]\n",
      "Array2:  [10 30 40 50 70]\n",
      "Unique values:  [ 0 20 30 50 60 70 80]\n"
     ]
    }
   ],
   "source": [
    "# create two arrays with np.array(iterable)\n",
    "arr1 = np.array([0, 10, 20, 40, 60, 80])\n",
    "print('Array1: ', arr1)\n",
    "\n",
    "arr2 = np.array([10, 30, 40, 50, 70])\n",
    "print('Array2: ', arr2)\n",
    "\n",
    "# np.setxor1d(array1, array2) : Returns the set exclusive-or between the specified arrays.\n",
    "print('Unique values: ', np.setxor1d(arr1, arr2))"
   ]
  },
  {
   "cell_type": "markdown",
   "id": "0b50aa14-597d-4476-a04f-299cb555d8b7",
   "metadata": {},
   "source": [
    "22. Write a NumPy program to find the union of two arrays. Union will return a unique, sorted array of values in each of the two input arrays.\r\n",
    "Array1: [ 0 10 20 40 60 80]\r\n",
    "Array2: [10, 30, 40, 50, 70]\r\n",
    "Unique sorted array of values that are in either of the two input arrays:\r\n",
    "[ 0 10 20 30 40 50 60 70 80]"
   ]
  },
  {
   "cell_type": "code",
   "execution_count": 11,
   "id": "e25128d3-e85d-415d-ab2c-83c48fc7ba7a",
   "metadata": {},
   "outputs": [
    {
     "name": "stdout",
     "output_type": "stream",
     "text": [
      "Array1:  [ 0 10 20 40 60 80]\n",
      "Array2:  [10 30 40 50 70]\n",
      "Union Array:  [ 0 10 20 30 40 50 60 70 80]\n"
     ]
    }
   ],
   "source": [
    "# create two arrays with np.array(iterable)\n",
    "arr1 = np.array([0, 10, 20, 40, 60, 80])\n",
    "print('Array1: ', arr1)\n",
    "\n",
    "arr2 = np.array([10, 30, 40, 50, 70])\n",
    "print('Array2: ', arr2)\n",
    "\n",
    "# np.union1d(array1, array2) : This method returns the union of two arrays specified.\n",
    "print('Union Array: ', np.union1d(arr1, arr2))"
   ]
  },
  {
   "cell_type": "markdown",
   "id": "6fe4899f-e8b4-4c32-8b55-14f4efb9d22a",
   "metadata": {},
   "source": [
    "23. Write a NumPy program to test whether all elements in an array evaluate to True.\r\n",
    "Note: 0 evaluates to False in NumPy."
   ]
  },
  {
   "cell_type": "code",
   "execution_count": 17,
   "id": "d6a90eb1-e999-47ee-989e-02ac49622a2d",
   "metadata": {},
   "outputs": [
    {
     "name": "stdout",
     "output_type": "stream",
     "text": [
      "Original Array:  [12  0 22 11  1 21 10  2 20]\n",
      "Evaluation:  False\n"
     ]
    }
   ],
   "source": [
    "# create an array using np.array(iter)\n",
    "arr = np.array([12, 0, 22, 11, 1, 21, 10, 2, 20])\n",
    "print('Original Array: ', arr)\n",
    "\n",
    "# np.all(array) : This method returns false if any element is 0 or nan. Else it will return True.\n",
    "print('Evaluation: ', np.all(arr))"
   ]
  },
  {
   "cell_type": "markdown",
   "id": "b8bbeffe-a7d8-450e-b9c0-72454137dcbb",
   "metadata": {},
   "source": [
    "24. Write a NumPy program to test whether any array element along a given axis evaluates to True.\r\n",
    "Note: 0 evaluates to False in NumPy."
   ]
  },
  {
   "cell_type": "code",
   "execution_count": 18,
   "id": "9f8e3f81-1298-4314-8ce2-40e0207a36f6",
   "metadata": {},
   "outputs": [
    {
     "name": "stdout",
     "output_type": "stream",
     "text": [
      "Original Array:  [12  0 22 11  1 21 10  2 20]\n",
      "Evaluation:  True\n"
     ]
    }
   ],
   "source": [
    "# create an array using np.array(iter)\n",
    "arr = np.array([12, 0, 22, 11, 1, 21, 10, 2, 20])\n",
    "print('Original Array: ', arr)\n",
    "\n",
    "# np.any(array) : This method returns True if any element is non-zero element. Else False.\n",
    "print('Evaluation: ', np.any(arr))"
   ]
  },
  {
   "cell_type": "markdown",
   "id": "8e76d4f4-207a-4684-9a62-32acf4d1f3f8",
   "metadata": {},
   "source": [
    "25. Write a NumPy program to construct an array by repeating.\r\n",
    "\r\n",
    "Sample array: [1, 2, 3, 4]\r\n",
    "Expected Output:\r\n",
    "Original array\r\n",
    "[1, 2, 3, 4]\r\n",
    "Repeating 2 times\r\n",
    "[1 2 3 4 1 2 3 4]\r\n",
    "Repeating 3 times\r\n",
    "[1 2 3 4 1 2 3 4 1 2 3 4]"
   ]
  },
  {
   "cell_type": "code",
   "execution_count": 22,
   "id": "eb665e32-f286-4c47-92e5-84fc9597482f",
   "metadata": {},
   "outputs": [
    {
     "name": "stdout",
     "output_type": "stream",
     "text": [
      "Original Array:  [1 2 3 4]\n",
      "Repeating 2 times:  [1 2 3 4 1 2 3 4]\n",
      "Repeating 3 times:  [1 2 3 4 1 2 3 4 1 2 3 4]\n"
     ]
    }
   ],
   "source": [
    "# create the given array\n",
    "sample_array = np.array([1, 2, 3, 4])\n",
    "print('Original Array: ', sample_array)\n",
    "\n",
    "# np.tile(array, n) : This method returns an array repeated n times as specified.\n",
    "print('Repeating 2 times: ', np.tile(sample_array, 2))\n",
    "\n",
    "# Repeating 3 times..\n",
    "print('Repeating 3 times: ', np.tile(sample_array, 3))"
   ]
  },
  {
   "cell_type": "markdown",
   "id": "4ca197d8-8fe7-425f-9ef5-724d987e1688",
   "metadata": {},
   "source": [
    "26.Write a NumPy program to repeat array elements.\r\n",
    "Expected Output:\r\n",
    "[3 3 3 3]\r\n",
    "[1 1 2 2 3 3 4 4]"
   ]
  },
  {
   "cell_type": "code",
   "execution_count": 24,
   "id": "5bee375e-b085-41ef-ab63-158712255e95",
   "metadata": {},
   "outputs": [
    {
     "name": "stdout",
     "output_type": "stream",
     "text": [
      "[3 3 3 3]\n",
      "[1 1 2 2 3 3 4 4]\n"
     ]
    }
   ],
   "source": [
    "# np.repeat(array, n): This method repeats each element in the array n times as specified.\n",
    "arr1 = np.array([3])\n",
    "print(np.repeat(arr1, 4))\n",
    "\n",
    "arr2 = np.array([1, 2, 3, 4])\n",
    "print(np.repeat(arr2, 2))"
   ]
  },
  {
   "cell_type": "markdown",
   "id": "4e8f5dc9-e4d9-4899-a58f-0ac41bd3a585",
   "metadata": {},
   "source": [
    "27. Write a NumPy program to find the indices of the maximum and minimum values along the given axis of an array.\r\n",
    "Original array: [1 2 3 4 5 6]\r\n",
    "Maximum Values: 5\r\n",
    "Minimum Values: 0"
   ]
  },
  {
   "cell_type": "code",
   "execution_count": 29,
   "id": "f1f4b8ef-02c0-4048-85a7-0909feee9b1f",
   "metadata": {},
   "outputs": [
    {
     "name": "stdout",
     "output_type": "stream",
     "text": [
      "Original Array:  [1 2 3 4 5 6]\n",
      "Maximum Values:  5\n",
      "Minimum Values:  0\n"
     ]
    }
   ],
   "source": [
    "arr = np.array([1, 2, 3, 4, 5, 6])\n",
    "print('Original Array: ', arr)\n",
    "\n",
    "# np.argmax(array) : This method returns the index of maximum element in the array specified.\n",
    "print('Maximum Values: ', np.argmax(arr))\n",
    "\n",
    "# np.argmin(array) : This method returns the index of minimum element in the array specified.\n",
    "print('Minimum Values: ', np.argmin(arr))"
   ]
  },
  {
   "cell_type": "markdown",
   "id": "efba909c-642e-4e78-a2cb-8057db716b04",
   "metadata": {},
   "source": [
    "28. Write a NumPy program to compare two arrays using NumPy.\r\n",
    "Array a: [1 2]\r\n",
    "Array b: [4 \n",
    "e True]5]"
   ]
  },
  {
   "cell_type": "code",
   "execution_count": 30,
   "id": "1219858d-62f2-4d35-bc32-1fddca43c058",
   "metadata": {},
   "outputs": [
    {
     "name": "stdout",
     "output_type": "stream",
     "text": [
      "arr1 > arr2:  [False False]\n",
      "arr1 >= arr2:  [False False]\n",
      "arr1 < arr2:  [ True  True]\n",
      "arr1 <= arr2:  [ True  True]\n"
     ]
    }
   ],
   "source": [
    "arr1 = np.array([1, 2])\n",
    "arr2 = np.array([4, 5])\n",
    "\n",
    "# '>' operation\n",
    "print('arr1 > arr2: ', arr1 > arr2)\n",
    "\n",
    "# '>=' operation\n",
    "print('arr1 >= arr2: ', arr1 >= arr2)\n",
    "\n",
    "# '<' operation\n",
    "print('arr1 < arr2: ', arr1 < arr2)\n",
    "\n",
    "# '<=' operation\n",
    "print('arr1 <= arr2: ', arr1 <= arr2)"
   ]
  },
  {
   "cell_type": "markdown",
   "id": "59f5d29d-f738-4db3-8497-a7dd46f8a281",
   "metadata": {},
   "source": [
    "29. Write a NumPy program to sort along the first and last axes of an array. Expected Output:\r\n",
    "Original array:\r\n",
    "[[4 6]\r\n",
    "[2 1]]\r\n",
    "Sort along the first axis:\r\n",
    "[[2 1]\r\n",
    "[4 6]]\r\n",
    "Sort along the last axis:\r\n",
    "[[1 2]\r\n",
    "[4 6]]\r\n"
   ]
  },
  {
   "cell_type": "code",
   "execution_count": 48,
   "id": "fd0b3829-9269-4907-92fb-b33d6f1a5cdb",
   "metadata": {},
   "outputs": [
    {
     "name": "stdout",
     "output_type": "stream",
     "text": [
      "Original Array:  [[4 6]\n",
      " [2 1]]\n",
      "Sort along the first axis:  [[2 1]\n",
      " [4 6]]\n",
      "Sort along the last axis:  [[1 2]\n",
      " [4 6]]\n"
     ]
    }
   ],
   "source": [
    "arr = np.array([[4, 6], [2, 1]])\n",
    "print('Original Array: ', arr)\n",
    "\n",
    "# np.sort(array, axis) : This method is used to sort the array w.r.t axis\n",
    "sorted_array1 = np.sort(arr, axis=0)\n",
    "print('Sort along the first axis: ', sorted_array1)\n",
    "\n",
    "sorted_array2 = np.sort(sorted_array1, axis=1)\n",
    "print('Sort along the last axis: ', sorted_array2)"
   ]
  },
  {
   "cell_type": "markdown",
   "id": "f5f61346-3f39-43e4-a02f-aa64b3e1cd74",
   "metadata": {},
   "source": [
    "30. Write a NumPy program to sort pairs of a first name and a last name and return their indices (first by last name, then by first name).\r\n",
    "first_names = (Betsey, Shelley, Lanell, Genesis, Margery)\r\n",
    "last_names = (Battle, Brien, Plotner, Stahl, Woolum)\r\n",
    "Expected Output:\r\n",
    "[1 3 2 4 0]"
   ]
  },
  {
   "cell_type": "code",
   "execution_count": 51,
   "id": "c95d61c1-ce76-430b-bbc1-0a7930426d91",
   "metadata": {},
   "outputs": [
    {
     "name": "stdout",
     "output_type": "stream",
     "text": [
      "[1 3 2 4 0]\n"
     ]
    }
   ],
   "source": [
    "first_names = ('Margery', 'Betsey', 'Shelley', 'Lanell', 'Genesis')\n",
    "last_names = ('Woolum', 'Battle', 'Plotner', 'Brien', 'Stahl')\n",
    "\n",
    "# np.lexsort(array1, array2) : This method sorts the elements of the specified arrays in dictionary order. This returns the array of indices that sorts the above\n",
    "indices = np.lexsort((first_names, last_names))\n",
    "print(indices)"
   ]
  },
  {
   "cell_type": "markdown",
   "id": "e35ba040-8b05-41da-b3d0-3bf2382ded30",
   "metadata": {},
   "source": [
    "Write a NumPy program to get the values and indices of the elements that are bigger than 10 in a given array.\r\n",
    "Original array:\r\n",
    "[[ 0 10 20]\r\n",
    "[20 30 40]]\r\n",
    "Values bigger than 10 = [20 20 30 40]\r\n",
    "Their indices are (array([0, 1, 1, 1]), array([2, 0, 1, 2]))"
   ]
  },
  {
   "cell_type": "code",
   "execution_count": 54,
   "id": "b18f781d-8d06-4ea1-9350-22d5a4480ddd",
   "metadata": {},
   "outputs": [
    {
     "name": "stdout",
     "output_type": "stream",
     "text": [
      "Original array:  [[ 0 10 20]\n",
      " [20 30 40]]\n",
      "Values bigger than 10:  [20 20 30 40]\n",
      "Indices are:  (array([0, 1, 1, 1], dtype=int64), array([2, 0, 1, 2], dtype=int64))\n"
     ]
    }
   ],
   "source": [
    "original_array = np.array([[0, 10, 20], [20, 30, 40]])\n",
    "print('Original array: ', original_array)\n",
    "\n",
    "# values bigger than 10 using advanced indexing..\n",
    "print('Values bigger than 10: ', original_array[original_array > 10])\n",
    "\n",
    "# np.nonzero(condition) : This method allows us to extract the indices of the elements which satisfies the condition.\n",
    "print('Indices are: ', np.nonzero(original_array > 10))"
   ]
  },
  {
   "cell_type": "markdown",
   "id": "c9f5ac43-60d3-49a3-9c27-2239861e0ad5",
   "metadata": {},
   "source": [
    "31. Write a NumPy program to create a contiguous flattened array.\r\n",
    "Original array:\r\n",
    "[[10 20 30]\r\n",
    "[20 40 50]]\r\n",
    "New flattened array:\r\n",
    "[10 20 30 20 40 50]"
   ]
  },
  {
   "cell_type": "code",
   "execution_count": 56,
   "id": "29fae2c0-76c9-4eb2-a0ab-4d41d4542c8e",
   "metadata": {},
   "outputs": [
    {
     "name": "stdout",
     "output_type": "stream",
     "text": [
      "Original Array:  [[10 20 30]\n",
      " [20 40 50]]\n",
      "New Flattened Array:  [10 20 30 20 40 50]\n"
     ]
    }
   ],
   "source": [
    "arr = np.array([[10, 20, 30], [20, 40, 50]])\n",
    "print('Original Array: ', arr)\n",
    "\n",
    "# np.ravel(array) : This method flattens an array given to it.\n",
    "print('New Flattened Array: ', np.ravel(arr))"
   ]
  },
  {
   "cell_type": "markdown",
   "id": "0cf049a3-a150-4ac3-8e40-8ce0b2f706a5",
   "metadata": {},
   "source": [
    "32. Write a NumPy program to create a new array of 3*5, filled with 2."
   ]
  },
  {
   "cell_type": "code",
   "execution_count": 61,
   "id": "236d3c8c-24ef-4639-81ea-9dc9e3ec8726",
   "metadata": {},
   "outputs": [
    {
     "name": "stdout",
     "output_type": "stream",
     "text": [
      "[[2 2 2 2 2]\n",
      " [2 2 2 2 2]\n",
      " [2 2 2 2 2]]\n"
     ]
    }
   ],
   "source": [
    "# np.full(shape, fill_value) : This method is used to create an array of specified 'shape' with one element specified as 'fill_value'.\n",
    "print(np.full(shape=(3, 5), fill_value=2))"
   ]
  },
  {
   "cell_type": "markdown",
   "id": "eb3bcc06-edcd-4002-9942-b03e2eaf71e3",
   "metadata": {},
   "source": [
    "33. Write a NumPy program to create an array of 10's with the same shape and type as the given array.\n",
    "Sample array: x = np.arange(4, dtype=np.int64)\n",
    "Expected Output:\n",
    "[10 10 10 10]"
   ]
  },
  {
   "cell_type": "code",
   "execution_count": 62,
   "id": "d1a1b4ec-fc85-479a-9cf1-6ba380d705e3",
   "metadata": {},
   "outputs": [
    {
     "name": "stdout",
     "output_type": "stream",
     "text": [
      "[10 10 10 10]\n"
     ]
    }
   ],
   "source": [
    "# np.full(shape, fill_value) : This method is used to create an array of specified 'shape' with one element specified as 'fill_value'.\n",
    "arr = np.arange(4, dtype=np.int64)\n",
    "print(np.full(arr.shape, fill_value=10))"
   ]
  },
  {
   "cell_type": "markdown",
   "id": "e97a0870-784e-4e82-9875-c20e75aa07f4",
   "metadata": {},
   "source": [
    "34. Write a NumPy program to create a 2-D array whose diagonal equals [4, 5, 6, 8] and 0's elsewhere.\r\n",
    "Expected Output:\r\n",
    "[[4 0 0 0]\r\n",
    "[0 5 0 0]\r\n",
    "[0 0 6 0]\r\n",
    "[0 0 0 8]]"
   ]
  },
  {
   "cell_type": "code",
   "execution_count": 67,
   "id": "3410cfd5-a30c-4877-b4e5-272731aa4846",
   "metadata": {},
   "outputs": [
    {
     "name": "stdout",
     "output_type": "stream",
     "text": [
      "[[4 0 0 0]\n",
      " [0 5 0 0]\n",
      " [0 0 6 0]\n",
      " [0 0 0 7]]\n"
     ]
    }
   ],
   "source": [
    "# np.diag(array) : This method is used to create a diagonal array with diagonal elements specified as array.\n",
    "print(np.diag([4, 5, 6, 7]))"
   ]
  },
  {
   "cell_type": "markdown",
   "id": "d88e9249-fe37-4d15-bcdf-55c7e5d1e75a",
   "metadata": {},
   "source": [
    "35. Write a NumPy program to create a 1-D array of 30 evenly spaced elements between 2.5 and 6.5, inclusive.\r\n",
    "Expected Output:\r\n",
    "[ 2.5 2.63793103 2.77586207 2.9137931 3.05172414 3.18965517\r\n",
    ".................\r\n",
    "5.81034483 5.94827586 6.0862069 6.22413793 6.36206897 6.5 ]"
   ]
  },
  {
   "cell_type": "code",
   "execution_count": 68,
   "id": "490cac6f-f326-46da-9aa6-3088515b08f2",
   "metadata": {},
   "outputs": [
    {
     "name": "stdout",
     "output_type": "stream",
     "text": [
      "[2.5        2.63793103 2.77586207 2.9137931  3.05172414 3.18965517\n",
      " 3.32758621 3.46551724 3.60344828 3.74137931 3.87931034 4.01724138\n",
      " 4.15517241 4.29310345 4.43103448 4.56896552 4.70689655 4.84482759\n",
      " 4.98275862 5.12068966 5.25862069 5.39655172 5.53448276 5.67241379\n",
      " 5.81034483 5.94827586 6.0862069  6.22413793 6.36206897 6.5       ]\n"
     ]
    }
   ],
   "source": [
    "# np.linspace(start, stop, size) : this method creates an array of specified size, evenly spaced between the range from start to stop.\n",
    "print(np.linspace(2.5, 6.5, 30))"
   ]
  },
  {
   "cell_type": "markdown",
   "id": "ee3b956f-166b-4197-926e-488bd988536c",
   "metadata": {},
   "source": [
    "36. Write a NumPy program to create a 1-D array of 20 elements spaced evenly on a log scale between 2. and 5., exclusive.\r\n",
    "Expected Output:\r\n",
    "[ 100. 141.25375446 199.5262315 281.83829313\r\n",
    "......................\r\n",
    "25118.8643151 35481.33892336 50118.72336273 70794.57843841]"
   ]
  },
  {
   "cell_type": "code",
   "execution_count": 71,
   "id": "66daff6d-ae74-4574-a00c-93807830e419",
   "metadata": {},
   "outputs": [
    {
     "name": "stdout",
     "output_type": "stream",
     "text": [
      "[  100.           141.25375446   199.5262315    281.83829313\n",
      "   398.10717055   562.34132519   794.32823472  1122.0184543\n",
      "  1584.89319246  2238.72113857  3162.27766017  4466.83592151\n",
      "  6309.5734448   8912.50938134 12589.25411794 17782.79410039\n",
      " 25118.8643151  35481.33892336 50118.72336273 70794.57843841]\n"
     ]
    }
   ],
   "source": [
    "# np.logspace(start, stop, size, endpoint) : This method generated log scale of specified size, from range start to stop, and if endpoint=True (default) which includes stop.\n",
    "print(np.logspace(2, 5, 20, endpoint=False))"
   ]
  },
  {
   "cell_type": "markdown",
   "id": "7448f64e-a334-45c9-8769-bda6ddaff4c4",
   "metadata": {},
   "source": [
    "37. Write a NumPy program to create an array like the one below.\r\n",
    "Expected Output\n",
    "[[ 0.  0.  0.]                                                         \r\n",
    " [ 1.  0.  0.]                                                         \r\n",
    " [ 1.  1.  0.]                                                         \r\n",
    " [ 1.  1.  1.]]:"
   ]
  },
  {
   "cell_type": "code",
   "execution_count": 74,
   "id": "24d15f55-a25d-490f-bd8d-c5d350f4f2eb",
   "metadata": {},
   "outputs": [
    {
     "name": "stdout",
     "output_type": "stream",
     "text": [
      "[[0. 0. 0.]\n",
      " [1. 0. 0.]\n",
      " [1. 1. 0.]\n",
      " [1. 1. 1.]]\n"
     ]
    }
   ],
   "source": [
    "# np.tri(rows, cols, diagonal_shift) : This method creates a triangular array of elements 1. diagonal_shift specifies the shift of diagonal elements.\n",
    "print(np.tri(4, 3, -1))"
   ]
  },
  {
   "cell_type": "markdown",
   "id": "fafb2f5c-1f13-496f-91d6-5f9eb24d96d9",
   "metadata": {},
   "source": [
    "38. Write a NumPy program to create an array like the one below.\r\n",
    "Expected Output:\r\n",
    "[[ 2 3 4]\r\n",
    "[ 5 6 7]\r\n",
    "[ 0 9 10]\r\n",
    "[ 0 0 13]]"
   ]
  },
  {
   "cell_type": "code",
   "execution_count": 77,
   "id": "9a5e5453-8dc0-4cd5-b761-8a3401889e3f",
   "metadata": {},
   "outputs": [
    {
     "name": "stdout",
     "output_type": "stream",
     "text": [
      "[[ 2  3  4]\n",
      " [ 5  6  7]\n",
      " [ 0  9 10]\n",
      " [ 0  0 13]]\n"
     ]
    }
   ],
   "source": [
    "# np.triu(array, diagonal_shift): This method creates an upper triangle with elements in array. \n",
    "print(np.triu(np.arange(2, 14).reshape(4, 3), -1))"
   ]
  },
  {
   "cell_type": "markdown",
   "id": "c3750ec2-1741-4352-b929-cc8a0190bc9b",
   "metadata": {},
   "source": [
    "39. Write a NumPy program to collapse a 3-D array into a one-dimensional array.\r\n",
    "Expected Output:\r\n",
    "3-D array:\r\n",
    "[[ 1. 0. 0.]\r\n",
    "[ 0. 1. 0.]\r\n",
    "[ 0. 0. 1.]]\r\n",
    "One dimension array:\r\n",
    "[ 1. 0. 0. 0. 1. 0. 0. 0. 1.]"
   ]
  },
  {
   "cell_type": "code",
   "execution_count": null,
   "id": "cdcb32c6-bec2-476a-b4d7-2541bd182190",
   "metadata": {},
   "outputs": [],
   "source": [
    "# np.ravel(array) : This method flattens the array specified to 1D array.\n",
    "# np.eye(shape) : This method creates an identity array.\n",
    "arr = np.eye(3)\n",
    "print('Original Array: ', arr)\n",
    "\n",
    "print('1D array: ', np.ravel(arr))"
   ]
  },
  {
   "cell_type": "markdown",
   "id": "a428fb18-cacd-485e-8544-23ba16c35a82",
   "metadata": {},
   "source": [
    "40. Write a NumPy program to find the 4th element of a specified array.\r\n",
    "Expected Output:\r\n",
    "[[ 2 4 6]\r\n",
    "[ 6 8 10]]\r\n",
    "Forth e1ement of the array:\r\n",
    "6"
   ]
  },
  {
   "cell_type": "code",
   "execution_count": 82,
   "id": "262f7c49-7243-4b10-be62-6ef2a1d9f46d",
   "metadata": {},
   "outputs": [
    {
     "name": "stdout",
     "output_type": "stream",
     "text": [
      "Original Array:  [[ 2  4  6]\n",
      " [ 6  8 10]]\n",
      "Fourth Element:  6\n"
     ]
    }
   ],
   "source": [
    "arr = np.array([[2, 4, 6], [6, 8, 10]])\n",
    "print('Original Array: ', arr)\n",
    "\n",
    "# array.flat(index) : This method returns the element at specified index when the array is flattened.\n",
    "print('Fourth Element: ', arr.flat[3])"
   ]
  },
  {
   "cell_type": "markdown",
   "id": "e53e21c9-9c18-4750-96f4-1371872fc33a",
   "metadata": {},
   "source": [
    "41. Write a NumPy program to change two array axes.\n",
    "Sample array: [[1 2 3]]\n",
    "Expected Output:\n",
    "[[1]\n",
    "[2]\n",
    "[3]]"
   ]
  },
  {
   "cell_type": "code",
   "execution_count": 85,
   "id": "1b4eac7d-dc36-40fb-a269-71370504e656",
   "metadata": {},
   "outputs": [
    {
     "name": "stdout",
     "output_type": "stream",
     "text": [
      "Sample array:  [[1 2 3]]\n",
      "Swapped Axes:  [[1]\n",
      " [2]\n",
      " [3]]\n"
     ]
    }
   ],
   "source": [
    "# np.swapaxes(array, axis1, axis2) : this method swaps the axis1 with axis2 in the specified array.\n",
    "arr = np.array([[1, 2, 3]])\n",
    "print('Sample array: ', arr)\n",
    "\n",
    "# here axes1 = 0, which denotes rows and axes2 = 1, which denotes cols.\n",
    "print('Swapped Axes: ', np.swapaxes(arr, 0, 1))"
   ]
  },
  {
   "cell_type": "markdown",
   "id": "a723ec4e-88a4-40ec-8607-2d9870070482",
   "metadata": {},
   "source": [
    "42. Write a NumPy program to move array axes to alternate positions. Other axes remain in their original order.\r\n",
    "Expected Output:\r\n",
    "(3, 4, 2)\r\n",
    "(4, 2, 3)"
   ]
  },
  {
   "cell_type": "code",
   "execution_count": 7,
   "id": "a4120777-7bac-4211-8e74-8494b097758b",
   "metadata": {},
   "outputs": [
    {
     "name": "stdout",
     "output_type": "stream",
     "text": [
      "Original Axes:  (2, 3, 4)\n",
      "Moved Axes1:  (3, 4, 2)\n",
      "Moved Axes2:  (4, 2, 3)\n"
     ]
    }
   ],
   "source": [
    "arr = np.zeros((2, 3, 4))\n",
    "print('Original Axes: ', arr.shape)\n",
    "\n",
    "# np.moveaxis(array, source_axis, destination_axis) : This method is used to move source axis to destination.\n",
    "# here source axis = 0, which moves to the place of destination axis i.e. -1\n",
    "moved_axes = np.moveaxis(arr, 0, -1).shape\n",
    "print('Moved Axes1: ', moved_axes)\n",
    "\n",
    "print('Moved Axes2: ', np.moveaxis(arr.reshape(moved_axes), 0, -1).shape)"
   ]
  },
  {
   "cell_type": "markdown",
   "id": "f9960ac0-5f23-4186-b0f3-84667834eff9",
   "metadata": {},
   "source": [
    "43. Write a NumPy program to move the specified axis backwards, until it lies in a given position.\r\n",
    "Move the following 3rd array axes to first position.\r\n",
    "(2,3,4,5)\r\n",
    "Sample Expected Output:\r\n",
    "(2, 5, 3, 4)"
   ]
  },
  {
   "cell_type": "code",
   "execution_count": 10,
   "id": "0577bf99-5a08-4b61-bcd5-61ef65932ddd",
   "metadata": {},
   "outputs": [
    {
     "name": "stdout",
     "output_type": "stream",
     "text": [
      "Original Axes:  (2, 3, 4, 5)\n",
      "Moved Axes:  (2, 5, 3, 4)\n"
     ]
    }
   ],
   "source": [
    "arr = np.zeros((2, 3, 4, 5))\n",
    "print('Original Axes: ', arr.shape)\n",
    "\n",
    "# np.moveaxis(array, source_axis, destination_axis) : This method is used to move source axis to destination.\n",
    "# here source axis = 5 in index 3, which moves to the place of destination axis i.e. 3 in index 1\n",
    "moved_axes = np.moveaxis(arr, 3, 1).shape\n",
    "print('Moved Axes: ', moved_axes)"
   ]
  },
  {
   "cell_type": "markdown",
   "id": "27fd1a9d-66d5-43dd-a9be-2fd788f50052",
   "metadata": {},
   "source": [
    "44. Write a NumPy program to insert a new axis within a 2-D array.\r\n",
    "2-D array of shape (3, 4).\r\n",
    "Expected Output:\r\n",
    "New shape will be will be (3, 1, 4)."
   ]
  },
  {
   "cell_type": "code",
   "execution_count": 14,
   "id": "9528c58b-f41a-4739-a184-a431b029e94f",
   "metadata": {},
   "outputs": [
    {
     "name": "stdout",
     "output_type": "stream",
     "text": [
      "Original Shape:  (3, 4)\n",
      "New Shape:  (3, 1, 4)\n"
     ]
    }
   ],
   "source": [
    "arr = np.zeros((3, 4))\n",
    "print('Original Shape: ', arr.shape)\n",
    "\n",
    "# np.expand_dims(array, axis) : This method will add the new axis specified to the array specified.\n",
    "print('New Shape: ', np.expand_dims(arr, axis=1).shape)"
   ]
  },
  {
   "cell_type": "markdown",
   "id": "bdf828fe-adf8-4d01-90ea-efbd7b688b20",
   "metadata": {},
   "source": [
    "45. Write a NumPy program to remove single-dimensional entries from a specified shape.\r\n",
    "Specified shape: (3, 1, 4)\r\n",
    "Expected Output: (3, 4)"
   ]
  },
  {
   "cell_type": "code",
   "execution_count": 15,
   "id": "f4d43902-83ea-496d-be1f-5d1b2196dd73",
   "metadata": {},
   "outputs": [
    {
     "name": "stdout",
     "output_type": "stream",
     "text": [
      "Original Shape:  (3, 1, 4)\n",
      "New Shape:  (3, 4)\n"
     ]
    }
   ],
   "source": [
    "arr = np.zeros((3, 1, 4))\n",
    "print('Original Shape: ', arr.shape)\n",
    "\n",
    "# np.squeeze(array) : this method will remove the single dimenstion entries from the array.\n",
    "print('New Shape: ', np.squeeze(arr).shape)"
   ]
  },
  {
   "cell_type": "markdown",
   "id": "eda0bbad-667a-496f-91e9-b19a28613af9",
   "metadata": {},
   "source": [
    "46. Write a NumPy program to concatenate two 2-dimensional arrays.\r\n",
    "Expected Output:\r\n",
    "Sample arrays: ([[0, 1, 3], [5, 7, 9]], [[0, 2, 4], [6, 8, 10]]\r\n",
    "Expected Output:\r\n",
    "[[ 0 1 3 0 2 4]\r\n",
    "[ 5 7 9 6 8 10]]"
   ]
  },
  {
   "cell_type": "code",
   "execution_count": 21,
   "id": "5cc8ba43-2197-4bd6-81f8-8576630a4ea8",
   "metadata": {},
   "outputs": [
    {
     "name": "stdout",
     "output_type": "stream",
     "text": [
      "Array1:  [[0 1 3]\n",
      " [5 7 9]]\n",
      "Array2:  [[ 0  2  4]\n",
      " [ 6  8 10]]\n",
      "Concatenated Array:  [[ 0  1  3  0  2  4]\n",
      " [ 5  7  9  6  8 10]]\n"
     ]
    }
   ],
   "source": [
    "arr1 = np.array([[0, 1, 3], [5, 7, 9]])\n",
    "arr2 = np.array([[0, 2, 4], [6, 8, 10]])\n",
    "print('Array1: ', arr1)\n",
    "print('Array2: ', arr2)\n",
    "\n",
    "# np.concatenate((array1, array2), axis) : This method will concatenate array2 with array1 in specified axis.\n",
    "print('Concatenated Array: ', np.concatenate((arr1, arr2), axis=1))"
   ]
  },
  {
   "cell_type": "markdown",
   "id": "3673543a-bffe-4eb5-bb4b-d303e18be9f4",
   "metadata": {},
   "source": [
    "47. Write a NumPy program to convert 1-D arrays as columns into a 2-D array.\r\n",
    "Sample array: (10,20,30), (40,50,60)\r\n",
    "Expected Output:\r\n",
    "[[10 40]\r\n",
    "[20 50]\r\n",
    "[30 60]]"
   ]
  },
  {
   "cell_type": "code",
   "execution_count": 26,
   "id": "1e7f1359-816a-44e1-bc55-da1199982f70",
   "metadata": {},
   "outputs": [
    {
     "name": "stdout",
     "output_type": "stream",
     "text": [
      "Array1:  [10 20 30]\n",
      "Array2:  [40 50 60]\n",
      "Output Array:  [[10 40]\n",
      " [20 50]\n",
      " [30 60]]\n"
     ]
    }
   ],
   "source": [
    "arr1 = np.array([10, 20, 30])\n",
    "arr2 = np.array([40, 50, 60])\n",
    "print('Array1: ', arr1)\n",
    "print('Array2: ', arr2)\n",
    "\n",
    "# np.column_stack(array1, array2) : This method will create a stack of arrays in vertical order.\n",
    "print('Output Array: ', np.column_stack((arr1, arr2)))"
   ]
  },
  {
   "cell_type": "markdown",
   "id": "46abdc70-aeae-4c7d-babb-6fcb5b585aff",
   "metadata": {},
   "source": [
    "48. Write a NumPy program to convert (in sequence depth wise (along the third axis)) two 1-D arrays into a 2-D array.\r\n",
    "Sample array: (10,20,30), (40,50,60)\r\n",
    "Expected Output:\r\n",
    "[[[10 40]]\r\n",
    "[[20 50]]\r\n",
    "[[30 60]]]"
   ]
  },
  {
   "cell_type": "code",
   "execution_count": 28,
   "id": "8340d8dc-4c98-4a44-a32b-295bde1f8513",
   "metadata": {},
   "outputs": [
    {
     "name": "stdout",
     "output_type": "stream",
     "text": [
      "Array1:  [[10]\n",
      " [20]\n",
      " [30]]\n",
      "Array2:  [[40]\n",
      " [50]\n",
      " [60]]\n",
      "Depth stack:  [[[10 40]]\n",
      "\n",
      " [[20 50]]\n",
      "\n",
      " [[30 60]]]\n"
     ]
    }
   ],
   "source": [
    "# The np.dstack() :This method is used to stack the two arrays in depth-wise along the third axis.\n",
    "arr1 = np.array([[10], [20], [30]])\n",
    "arr2 = np.array([[40], [50], [60]])\n",
    "print('Array1: ', arr1)\n",
    "print('Array2: ', arr2)\n",
    "\n",
    "print('Depth stack: ', np.dstack((arr1, arr2)))"
   ]
  },
  {
   "cell_type": "markdown",
   "id": "92d075db-23b4-4134-8bb2-5262c2bf8d52",
   "metadata": {},
   "source": [
    "49.Write a NumPy program to split an array of 14 elements into 3 arrays, each with 2, 4, and 8 elements in the original order.\r\n",
    "Expected Output:\r\n",
    "Original array: [ 1 2 3 4 5 6 7 8 9 10 11 12 13 14]\r\n",
    "After splitting:\r\n",
    "[array([1, 2]), array([3, 4, 5, 6]), array([ 7, 8, 9, 10, 11, 12, 13, 14])]"
   ]
  },
  {
   "cell_type": "code",
   "execution_count": 30,
   "id": "2be80123-2344-480d-8966-c0e483eed894",
   "metadata": {},
   "outputs": [
    {
     "name": "stdout",
     "output_type": "stream",
     "text": [
      "Original Array:  [ 1  2  3  4  5  6  7  8  9 10 11 12 13 14]\n"
     ]
    },
    {
     "data": {
      "text/plain": [
       "[array([1, 2]), array([3, 4, 5, 6]), array([ 7,  8,  9, 10, 11, 12, 13, 14])]"
      ]
     },
     "execution_count": 30,
     "metadata": {},
     "output_type": "execute_result"
    }
   ],
   "source": [
    "arr = np.arange(1, 15)\n",
    "print('Original Array: ', arr)\n",
    "\n",
    "# np.split(array, Positions) : This method is used to split the array at the specified positions.\n",
    "np.split(arr, [2, 6])"
   ]
  },
  {
   "cell_type": "markdown",
   "id": "3805432d-00fb-441b-995b-516152d2eaea",
   "metadata": {},
   "source": [
    "50. Write  a NumPy program that splits an array of shape 4x4 into two arrays along the second axis.\r\n",
    "Sample array :\r\n",
    "[[ 0 1 2 3]\r\n",
    "........\r\n",
    "[12 13 14 15]]\r\n",
    "Expected Output:\r\n",
    "[array([[ 0, 1],\r\n",
    "[ 4, 5],\r\n",
    "[ 8, 9],\r\n",
    "[12, 13]]), array([[ 2, 3],\r\n",
    "[ 6, 7],\r\n",
    "[10, 11],\r\n",
    "[14, 15]]), array([], shape=(4, 0), dtype=int64)]"
   ]
  },
  {
   "cell_type": "code",
   "execution_count": 37,
   "id": "c388f3df-60db-4e18-98a4-52469a6a3d73",
   "metadata": {},
   "outputs": [
    {
     "name": "stdout",
     "output_type": "stream",
     "text": [
      "Original Array:  [[ 0  1  2  3]\n",
      " [ 4  5  6  7]\n",
      " [ 8  9 10 11]\n",
      " [12 13 14 15]]\n"
     ]
    },
    {
     "data": {
      "text/plain": [
       "[array([[ 0,  1],\n",
       "        [ 4,  5],\n",
       "        [ 8,  9],\n",
       "        [12, 13]]),\n",
       " array([[ 2,  3],\n",
       "        [ 6,  7],\n",
       "        [10, 11],\n",
       "        [14, 15]]),\n",
       " array([], shape=(4, 0), dtype=int32)]"
      ]
     },
     "execution_count": 37,
     "metadata": {},
     "output_type": "execute_result"
    }
   ],
   "source": [
    "arr = np.arange(16).reshape(4, 4)\n",
    "print('Original Array: ', arr)\n",
    "\n",
    "# np.hsplit(array, positions) : This method is used to split the specified array in horizontally at specified positions\n",
    "np.hsplit(arr, [2, 4])"
   ]
  },
  {
   "cell_type": "markdown",
   "id": "50c9c678-7969-45dd-9eae-39b8bab2482e",
   "metadata": {},
   "source": [
    "51. Write a NumPy program to get the number of non-zero elements in an array.\r\n",
    "Expected Output:\r\n",
    "Original array:\r\n",
    "[[ 0 10 20]\r\n",
    "[20 30 40]]\r\n",
    "Number of non zero elements in the above array:\r\n",
    "5"
   ]
  },
  {
   "cell_type": "code",
   "execution_count": 38,
   "id": "0df9143c-35c7-470f-9fe4-5ea205efd835",
   "metadata": {},
   "outputs": [
    {
     "name": "stdout",
     "output_type": "stream",
     "text": [
      "Number of non zero elements in the array:  5\n"
     ]
    }
   ],
   "source": [
    "arr = np.array([[0, 10, 20], [20, 30, 40]])\n",
    "# np.count_nonzero(array) : This method counts the number of non-zero elements in the array specified.\n",
    "\n",
    "print('Number of non zero elements in the array: ', np.count_nonzero(arr))"
   ]
  },
  {
   "cell_type": "markdown",
   "id": "6a944b8b-6fc7-442b-834a-e510d8be53e7",
   "metadata": {},
   "source": [
    "52. Write a NumPy program to create a vector of size 10 with values ranging from 0 to 1, both excluded.\n",
    "Expected Output:\n",
    "[ 0.09090909 0.18181818 0.27272727 0.36363636 0.45454545 0.54545455\n",
    "0.63636364 0.72727273 0.81818182 0.90909091]"
   ]
  },
  {
   "cell_type": "code",
   "execution_count": 42,
   "id": "1bbaf748-1fd0-4204-83c1-300b3ceea8d0",
   "metadata": {},
   "outputs": [
    {
     "name": "stdout",
     "output_type": "stream",
     "text": [
      "Array:  [0.09090909 0.18181818 0.27272727 0.36363636 0.45454545 0.54545455\n",
      " 0.63636364 0.72727273 0.81818182 0.90909091]\n"
     ]
    }
   ],
   "source": [
    "arr = np.linspace(0, 1, 12, endpoint=True)[1:-1]\n",
    "print('Array: ', arr)"
   ]
  },
  {
   "cell_type": "markdown",
   "id": "77c79c6a-a1ab-4250-82f5-834cbdc7e68f",
   "metadata": {},
   "source": [
    "53. Write a NumPy program (using numpy) to sum all the multiples of 3 or 5 below 100.\r",
    "Sample array: \r\n",
    "[ 3 5 6 9 10 12 15 18 20 21 24 25 27 30 33 35 36 39 40 42 45 48 50 51 54\r\n",
    "55 57 60 63 65 66 69 70 72 75 78 80 81 84 85 87 90 93 95 96   9]\r\n",
    "2318"
   ]
  },
  {
   "cell_type": "code",
   "execution_count": 4,
   "id": "df641457-fdd3-450c-8d8c-7621f2a46ff6",
   "metadata": {},
   "outputs": [
    {
     "name": "stdout",
     "output_type": "stream",
     "text": [
      "Original Array:  [ 3  5  6  9 10 12 15 18 20 21 24 25 27 30 33 35 36 39 40 42 45 48 50 51\n",
      " 54 55 57 60 63 65 66 69 70 72 75 78 80 81 84 85 87 90 93 95 96 99]\n",
      "Sum of all Multiples:  2318\n"
     ]
    }
   ],
   "source": [
    "# By using Advance Indexing we can solve the problem\n",
    "arr = np.arange(1, 100)\n",
    "\n",
    "# The below code filters those elements which are multiples of 3 or 5\n",
    "arr = arr[(arr % 3 == 0)|(arr % 5 == 0)]\n",
    "print('Original Array: ', arr)\n",
    "\n",
    "# np.sum(array) : This method return the sum of all elements in the array.\n",
    "print('Sum of all Multiples: ', np.sum(arr))"
   ]
  },
  {
   "cell_type": "markdown",
   "id": "d92f009c-f03d-41cd-84f1-904c5d2ccb1b",
   "metadata": {},
   "source": [
    "54. Write a NumPy program to create and display every element of a NumPy array in Fortran order.\r\n",
    "Expected Output:\r\n",
    "Elements of the array in Fortan array:\r\n",
    "0 4 8 1 5 9 2 6 10 3 7 11"
   ]
  },
  {
   "cell_type": "code",
   "execution_count": 6,
   "id": "1dfbb25d-aac1-44a6-889e-4d51bb24f603",
   "metadata": {},
   "outputs": [
    {
     "name": "stdout",
     "output_type": "stream",
     "text": [
      "0 4 8 1 5 9 2 6 10 3 7 11 "
     ]
    }
   ],
   "source": [
    "arr = np.arange(12).reshape(3, 4)\n",
    "\n",
    "# for Fortran order, just simply specify order='F' in np.nditer(array, order='F')\n",
    "for i in np.nditer(arr, order='F'):\n",
    "    print(i, end=' ')"
   ]
  },
  {
   "cell_type": "markdown",
   "id": "8badeddb-83da-4bb3-ab3e-63b17bce3157",
   "metadata": {},
   "source": [
    "55. Write a NumPy program to create an array of (3, 4) shapes and convert the array elements into smaller chunks."
   ]
  },
  {
   "cell_type": "code",
   "execution_count": 9,
   "id": "1ecfcdfd-e47b-4196-bc91-5f1074e66bfe",
   "metadata": {},
   "outputs": [
    {
     "name": "stdout",
     "output_type": "stream",
     "text": [
      "[0 4 8]\n",
      "[1 5 9]\n",
      "[ 2  6 10]\n",
      "[ 3  7 11]\n"
     ]
    }
   ],
   "source": [
    "arr = np.arange(12).reshape(3, 4)\n",
    "\n",
    "for i in np.nditer(arr, flags=['external_loop'], order='F'):\n",
    "    print(i)"
   ]
  },
  {
   "cell_type": "markdown",
   "id": "d089f1d9-612f-4b79-bc3d-587bfd8e1955",
   "metadata": {},
   "source": [
    "56. Write a NumPy program to create a record array from a (flat) list of arrays.\n",
    "Sample arrays: [1,2,3,4], ['Red', 'Green', 'White', 'Orange'], [12.20,15,20,40]\n",
    "Expected Output:\n",
    "(1, 'Red', 12.2)\n",
    "(2, 'Green', 15.0)\n",
    "(3, 'White', 20.0)"
   ]
  },
  {
   "cell_type": "code",
   "execution_count": 12,
   "id": "db043a43-2baf-4988-8531-c1ed381278dd",
   "metadata": {},
   "outputs": [
    {
     "name": "stdout",
     "output_type": "stream",
     "text": [
      "[(1, 'Red', 12.2) (2, 'Green', 15. ) (3, 'White', 20. )\n",
      " (4, 'Orange', 40. )]\n"
     ]
    }
   ],
   "source": [
    "# np.core.records.fromarrays([array1, array2, array3, ....],names=[title1, title2, title3, ...]) : This method creates the records from the array elements.\n",
    "arr1 = np.array([1, 2, 3, 4])\n",
    "arr2 = np.array(['Red', 'Green', 'White', 'Orange'])\n",
    "arr3 = np.array([12.20, 15, 20, 40])\n",
    "\n",
    "print(np.core.records.fromarrays([arr1, arr2, arr3], names=['X', 'Y', 'Z']))"
   ]
  },
  {
   "cell_type": "markdown",
   "id": "12040765-73c6-467e-bd16-1533ec35b0e3",
   "metadata": {},
   "source": [
    "57. Write a NumPy program to convert a NumPy array into a Python list structure.\r\n",
    "Expected Output:\r\n",
    "Original array elements:\r\n",
    "[[0 1]\r\n",
    "[2 3]\r\n",
    "[4 5]]\r\n",
    "Array to list:\r\n",
    "[[0, 1], [2, 3], [4, 5]]"
   ]
  },
  {
   "cell_type": "code",
   "execution_count": 14,
   "id": "b9f753fd-46cd-4db2-8da8-8f0233e27530",
   "metadata": {},
   "outputs": [
    {
     "name": "stdout",
     "output_type": "stream",
     "text": [
      "Original Array Elements:  [[0 1]\n",
      " [2 3]\n",
      " [4 5]]\n",
      "Array to List:  [[0, 1], [2, 3], [4, 5]]\n"
     ]
    }
   ],
   "source": [
    "arr = np.array([[0, 1], [2, 3], [4, 5]])\n",
    "print('Original Array Elements: ', arr)\n",
    "\n",
    "# array.tolist() : This method converts the array to list.\n",
    "print('Array to List: ',arr.tolist())"
   ]
  },
  {
   "cell_type": "markdown",
   "id": "ec1e92a6-d41a-4c6e-a186-e18a3a42e525",
   "metadata": {},
   "source": [
    "58. Write a NumPy program to access an array by column."
   ]
  },
  {
   "cell_type": "code",
   "execution_count": 17,
   "id": "88bed581-57c1-4918-878e-f8b140987a25",
   "metadata": {},
   "outputs": [
    {
     "name": "stdout",
     "output_type": "stream",
     "text": [
      "Original Array:  [[0 1 2]\n",
      " [3 4 5]\n",
      " [6 7 8]]\n",
      "Col1:  [0 3 6]\n",
      "Col2:  [1 4 7]\n",
      "Col3:  [2 5 8]\n"
     ]
    }
   ],
   "source": [
    "arr = np.arange(9).reshape(3, 3)\n",
    "print('Original Array: ', arr)\n",
    "# Using Advanced Indexing to access the array by column.\n",
    "print('Col1: ',arr[:, 0])\n",
    "print('Col2: ',arr[:, 1])\n",
    "print('Col3: ',arr[:, 2])"
   ]
  },
  {
   "cell_type": "markdown",
   "id": "adbec84e-52c6-4a34-9ebf-61cfcf296a8a",
   "metadata": {},
   "source": [
    "59. Write a NumPy program to convert a NumPy array of floating values to a numpy array of integer values.\r\n",
    "Expected Output:\r\n",
    "Original array elements:\r\n",
    "[[ 12. 12.51]\r\n",
    "[ 2.34 7.98]\r\n",
    "[ 25.23 36.5 ]]\r\n",
    "Convert float values to intger values:\r\n",
    "[[12 12]\r\n",
    "[ 2 7]\r\n",
    "[25 36]]"
   ]
  },
  {
   "cell_type": "code",
   "execution_count": 19,
   "id": "afcdef9e-5afb-4646-b190-da7ea6720124",
   "metadata": {},
   "outputs": [
    {
     "name": "stdout",
     "output_type": "stream",
     "text": [
      "Original Array:  [[12.   12.51]\n",
      " [ 2.34  7.98]\n",
      " [25.23 36.5 ]]\n",
      "Integer Array:  [[12 12]\n",
      " [ 2  7]\n",
      " [25 36]]\n"
     ]
    }
   ],
   "source": [
    "# create the array\n",
    "arr = np.array([[12. , 12.51], [2.34, 7.98], [25.23, 36.5]])\n",
    "print('Original Array: ', arr)\n",
    "\n",
    "# array.astype(int) : This method will convert the above floating point array to integer array.\n",
    "print('Integer Array: ', arr.astype(int))"
   ]
  },
  {
   "cell_type": "markdown",
   "id": "4af3dfc7-2add-4c3b-9864-b1aa6b3f3da3",
   "metadata": {},
   "source": [
    "60. Write a NumPy program to create a NumPy array of 10 integers from a generator."
   ]
  },
  {
   "cell_type": "code",
   "execution_count": 20,
   "id": "8cd0722f-c740-447b-b9c0-d49cc7690592",
   "metadata": {},
   "outputs": [
    {
     "name": "stdout",
     "output_type": "stream",
     "text": [
      "[0 1 2 3 4 5 6 7 8 9]\n"
     ]
    }
   ],
   "source": [
    "# np.fromiter(iterable, dtype) : this method generates an array from an iterable.\n",
    "print(np.fromiter((i for i in range(10)), dtype='int'))"
   ]
  },
  {
   "cell_type": "markdown",
   "id": "0f1292c2-4cb0-4ede-a6ef-2b4661c1b5e0",
   "metadata": {},
   "source": [
    "61. Write a NumPy program to add an extra column to a NumPy array.\r\n",
    "\r\n",
    "Expected Output:\r\n",
    "[[ 10 20 30 100]\r\n",
    "[ 40 50 60 200]]"
   ]
  },
  {
   "cell_type": "code",
   "execution_count": 25,
   "id": "96e0dbc0-1f06-4b4c-8ac2-b9295ca47227",
   "metadata": {},
   "outputs": [
    {
     "name": "stdout",
     "output_type": "stream",
     "text": [
      "Original Array:  [[10 20 30]\n",
      " [40 50 60]]\n",
      "Array to append:  [[100]\n",
      " [200]]\n",
      "Appended Array:  [[ 10  20  30 100]\n",
      " [ 40  50  60 200]]\n"
     ]
    }
   ],
   "source": [
    "arr = np.array([[10, 20, 30], [40, 50, 60]])\n",
    "print('Original Array: ', arr)\n",
    "arr2 = np.array([[100], [200]])\n",
    "print('Array to append: ', arr2)\n",
    "\n",
    "# np.append(array1, array2, axis) : This method will append the array2 to array1 in the specified axis. Here axis=1, for column wise appending\n",
    "print('Appended Array: ', np.append(arr, arr2, axis=1))"
   ]
  },
  {
   "cell_type": "markdown",
   "id": "6cca968c-3e5f-4444-b329-7f823e954e7f",
   "metadata": {},
   "source": [
    "62. Write a NumPy program to replace all elements of NumPy array that are greater than the specified array.\r\n",
    "\r\n",
    "Expected Output:\r\n",
    "Original array:\r\n",
    "[[ 0.42436315 0.48558583 0.32924763]\r\n",
    "[ 0.7439979 0.58220701 0.38213418]\r\n",
    "[ 0.5097581 0.34528799 0.1563123 ]]\r\n",
    "Replace all elements of the said array with .5 which are greater than. 5\r\n",
    "[[ 0.42436315 0.48558583 0.32924763]\r\n",
    "[ 0.5 0.5 0.38213418]\r\n",
    "[ 0.5 0.34528799 0.1563123 ]]"
   ]
  },
  {
   "cell_type": "code",
   "execution_count": 29,
   "id": "9cc483b6-b6be-4175-ae1f-ee151e812060",
   "metadata": {},
   "outputs": [
    {
     "name": "stdout",
     "output_type": "stream",
     "text": [
      "Original Array:  [[0.42436315 0.48558583 0.32924763]\n",
      " [0.7439979  0.58220701 0.38213418]\n",
      " [0.5097581  0.34528799 0.1563123 ]]\n",
      "Replaced Array:  [[0.42436315 0.48558583 0.32924763]\n",
      " [0.5        0.5        0.38213418]\n",
      " [0.5        0.34528799 0.1563123 ]]\n"
     ]
    }
   ],
   "source": [
    "arr = np.array([[0.42436315, 0.48558583, 0.32924763],[0.7439979, 0.58220701, 0.38213418],[0.5097581, 0.34528799, 0.1563123]])\n",
    "print('Original Array: ', arr)\n",
    "\n",
    "# we can use Advanced Indexing here..\n",
    "arr[arr > .5] = .5\n",
    "print('Replaced Array: ', arr)"
   ]
  },
  {
   "cell_type": "markdown",
   "id": "69cd5950-ad3d-4a89-87fb-313c694a67d4",
   "metadata": {},
   "source": [
    "63. Write a NumPy program to remove specific elements from a NumPy array.\r\n",
    "\r\n",
    "Expected Output:\r\n",
    "Original array:\r\n",
    "[ 10 20 30 40 50 60 70 80 90 100]\r\n",
    "Delete first, fourth and fifth elements:\r\n",
    "[ 20 30 60 70 80 90 100]"
   ]
  },
  {
   "cell_type": "code",
   "execution_count": 32,
   "id": "4570f986-d9e8-4fb6-915e-37e470be3a68",
   "metadata": {},
   "outputs": [
    {
     "name": "stdout",
     "output_type": "stream",
     "text": [
      "Original Array:  [ 10  20  30  40  50  60  70  80  90 100]\n",
      "Removed Array:  [ 20  30  60  70  80  90 100]\n"
     ]
    }
   ],
   "source": [
    "arr = np.arange(10, 101, 10)\n",
    "print('Original Array: ', arr)\n",
    "\n",
    "# np.delete(array, index_list) : This method deletes those elements from the array specified which are in index_list\n",
    "print('Removed Array: ', np.delete(arr, [0, 3, 4]))"
   ]
  },
  {
   "cell_type": "markdown",
   "id": "2eea90fd-8d5d-472c-afd1-8207b2de843a",
   "metadata": {},
   "source": [
    "64. Write a NumPy program to select indices satisfying multiple conditions in a NumPy array.\r\n",
    "Sample array :\r\n",
    "a = np.array([97, 101, 105, 111, 117])\r\n",
    "b = np.array(['a','e','i','o','u'])\r\n",
    "Note: Select the elements from the second array corresponding to elements in the first array that are greater than 100 and less than 110\r\n",
    "Expected Output:\r\n",
    "Original arrays\r\n",
    "[ 97 101 105 111 117]\r\n",
    "['a' 'e' 'i' 'o' 'u']\r\n",
    "Elements from the second array corresponding to elements in the first\r\n",
    "array that are greater than 100 and less than 110:\r\n",
    "['e' 'i']"
   ]
  },
  {
   "cell_type": "code",
   "execution_count": 40,
   "id": "e185bf04-9b61-432a-a7a6-3923c7085392",
   "metadata": {},
   "outputs": [
    {
     "name": "stdout",
     "output_type": "stream",
     "text": [
      "Array1:  [ 97 101 105 111 117]\n",
      "Array2:  ['a' 'e' 'i' 'o' 'u']\n",
      "Corresponding elements:  ['e' 'i']\n"
     ]
    }
   ],
   "source": [
    "arr1 = np.array([97, 101, 105, 111, 117])\n",
    "arr2 = np.array(['a', 'e', 'i', 'o', 'u'])\n",
    "print('Array1: ', arr1)\n",
    "print('Array2: ', arr2)\n",
    "\n",
    "# Using Advanced Indexing as done below: \n",
    "print('Corresponding elements: ',arr2[(arr1 > 100) & (arr1 < 110)])"
   ]
  },
  {
   "cell_type": "markdown",
   "id": "98ec0d08-4129-405d-bdba-e3a1afe21ab8",
   "metadata": {},
   "source": [
    "65. Write a NumPy program to get the magnitude of a vector in NumPy.\n",
    "Expected Output:\n",
    "Original array:\n",
    "[1 2 3 4 5]\n",
    "Magnitude of the vector:\n",
    "7.4161984871"
   ]
  },
  {
   "cell_type": "code",
   "execution_count": 41,
   "id": "73be1d6c-b039-41c8-a995-b5be0616b045",
   "metadata": {},
   "outputs": [
    {
     "name": "stdout",
     "output_type": "stream",
     "text": [
      "Magnitude:  7.416198487095663\n"
     ]
    }
   ],
   "source": [
    "# Calculating the magnitude (L2 norm) of the vector 'x' using np.linalg.norm() function\n",
    "arr = np.arange(1, 6)\n",
    "\n",
    "# The L2 norm is the square root of the sum of the squared elements in the array.\n",
    "magnitude = np.linalg.norm(arr)\n",
    "\n",
    "print('Magnitude: ', magnitude)"
   ]
  },
  {
   "cell_type": "markdown",
   "id": "84df3a17-63ed-401b-8f16-568f1a4cf57f",
   "metadata": {},
   "source": [
    "66. Write a NumPy program to count the frequency of distinct values in a NumPy array.\r\n",
    "Expected Output:\r\n",
    "Original array:\r\n",
    "[10 10 20 10 20 20 20 30 30 50 40 40]\r\n",
    "Frequency of unique values of the said array:\r\n",
    "[[10 20 30 40 50]\r\n",
    "[ 3 4 2 2 1]]"
   ]
  },
  {
   "cell_type": "code",
   "execution_count": 46,
   "id": "d263f9b2-2b3e-4bc0-8600-cbb2256461f0",
   "metadata": {},
   "outputs": [
    {
     "name": "stdout",
     "output_type": "stream",
     "text": [
      "Original Array:  [10 10 20 10 20 20 20 30 30 50 40 40]\n",
      "Frequency of unique values:  [[10 20 30 40 50]\n",
      " [ 3  4  2  2  1]]\n"
     ]
    }
   ],
   "source": [
    "arr = np.array([10, 10, 20, 10, 20, 20, 20, 30, 30, 50, 40, 40])\n",
    "print('Original Array: ', arr)\n",
    "\n",
    "# np.unique(array, return_count=True) : this method returns the unique elements and their count in the array\n",
    "unique_elements, frequency = np.unique(arr, return_counts=True)\n",
    "\n",
    "# np.asarray(tuple_of_arrays) : This method combines the arrays into a single array.\n",
    "print('Frequency of unique values: ',np.asarray((unique_elements, frequency)))"
   ]
  },
  {
   "cell_type": "markdown",
   "id": "b1b32f4e-2827-4fda-97ae-f979b3285b30",
   "metadata": {},
   "source": [
    "67. Write a NumPy program to divide each row by a vector element.\r\n",
    "Expected Output:\r\n",
    "Original array:\r\n",
    "[[20 20 20]\r\n",
    "[30 30 30]\r\n",
    "[40 40 40]]\r\n",
    "Vector:\r\n",
    "[20 30 40]\r\n",
    "[[ 1. 1. 1.]\r\n",
    "[ 1. 1. 1.]\r\n",
    "[ 1. 1. 1.]]"
   ]
  },
  {
   "cell_type": "code",
   "execution_count": 49,
   "id": "4c21e5e6-17e7-45f8-913c-072b70c2466f",
   "metadata": {},
   "outputs": [
    {
     "name": "stdout",
     "output_type": "stream",
     "text": [
      "Array:  [[20 20 20]\n",
      " [30 30 30]\n",
      " [40 40 40]]\n",
      "Vector:  [20 30 40]\n",
      "[[1. 1. 1.]\n",
      " [1. 1. 1.]\n",
      " [1. 1. 1.]]\n"
     ]
    }
   ],
   "source": [
    "arr = np.array([[20,20,20],[30,30,30],[40,40,40]])\n",
    "print('Array: ', arr)\n",
    "vector = np.array([20, 30, 40])\n",
    "print('Vector: ', vector)\n",
    "\n",
    "print(arr/vector[:, None])"
   ]
  },
  {
   "cell_type": "markdown",
   "id": "64e10b45-dccd-43fa-93b4-eb73dbbfe6e7",
   "metadata": {},
   "source": [
    "68. Write a NumPy program to sum and compute the product of a numpy array of elements.\r\n",
    "Expected Output:\r\n",
    "Original array:\r\n",
    "[ 10. 20. 30.]\r\n",
    "Sum of the array elements:\r\n",
    "60.0\r\n",
    "Product of the array elements:\r\n",
    "6000.0"
   ]
  },
  {
   "cell_type": "code",
   "execution_count": 50,
   "id": "63dfcd63-be7c-4713-ae88-0c5bd27a63c3",
   "metadata": {},
   "outputs": [
    {
     "name": "stdout",
     "output_type": "stream",
     "text": [
      "Array:  [10. 20. 30.]\n",
      "Sum of the array elements:  60.0\n",
      "Product of the array elements:  6000.0\n"
     ]
    }
   ],
   "source": [
    "arr = np.array([10.,20.,30.])\n",
    "# np.sum(array) : Returns the sum of all the elements\n",
    "# np.prod(array) : Returns the product of all the elements.\n",
    "print('Array: ', arr)\n",
    "print('Sum of the array elements: ', np.sum(arr))\n",
    "print('Product of the array elements: ', np.prod(arr))"
   ]
  },
  {
   "cell_type": "markdown",
   "id": "abf7d8cd-e623-444f-bf9a-0867cfaa3472",
   "metadata": {},
   "source": [
    "69. Write a NumPy program to take values from a source array and put them at specified indices of another array.\n",
    "Expected Output:\n",
    "[ 10. 10. 20. 30. 30.]\n",
    "Put 0 and 40 in first and fifth position of the above array\n",
    "Array x after put two values: [ 0. 10. 20. 30. 40.]"
   ]
  },
  {
   "cell_type": "code",
   "execution_count": 53,
   "id": "cc893f54-a61e-4af4-a925-16dee3854a4c",
   "metadata": {},
   "outputs": [
    {
     "name": "stdout",
     "output_type": "stream",
     "text": [
      "Array:  [10 10 20 30 30]\n",
      "Array to Replace:  [ 0 40]\n",
      "Replaced Array:  [ 0 10 20 30 40]\n"
     ]
    }
   ],
   "source": [
    "arr = np.array([10, 10, 20, 30, 30])\n",
    "print('Array: ', arr)\n",
    "arr2 = np.array([0, 40])\n",
    "print('Array to Replace: ', arr2)\n",
    "\n",
    "# array1.put(indices, array2) : This method will replace the array2 values in array1 with the specified indices.\n",
    "arr.put([0, 4], arr2)\n",
    "print('Replaced Array: ', arr)"
   ]
  },
  {
   "cell_type": "markdown",
   "id": "d855aa81-6e2d-4ec0-a0e9-87887d5b78fd",
   "metadata": {},
   "source": [
    "70. Write a NumPy program to access the last two columns of a multidimensional column. Original Array: [[1 2 3]\r\n",
    "[4 5 6]\r\n",
    "[7 8 9]]"
   ]
  },
  {
   "cell_type": "code",
   "execution_count": 5,
   "id": "282fa1c7-2d88-4eb5-b00a-578858b89baf",
   "metadata": {},
   "outputs": [
    {
     "name": "stdout",
     "output_type": "stream",
     "text": [
      "Original Array:  [[1 2 3]\n",
      " [4 5 6]\n",
      " [7 8 9]]\n",
      "Last Two cols:  [[2 3]\n",
      " [5 6]\n",
      " [8 9]]\n"
     ]
    }
   ],
   "source": [
    "arr = np.arange(1, 10).reshape(3, 3)\n",
    "print('Original Array: ', arr)\n",
    "\n",
    "# we can access last two cols using advanced indexing like done below.\n",
    "print('Last Two cols: ', arr[:,1:])"
   ]
  },
  {
   "cell_type": "markdown",
   "id": "9f9df2d6-a41c-4458-b88c-5d4291ba4afa",
   "metadata": {},
   "source": [
    "71. Write a NumPy program to count the occurrences of a specified item in a given NumPy array.:\r\n",
    "Original array:\r\n",
    "[10 20 20 20 20 0 20 30 30 30 0 0 20 20 0]"
   ]
  },
  {
   "cell_type": "code",
   "execution_count": 8,
   "id": "55d47d0f-8844-49f8-aa93-bbfeff1dd11f",
   "metadata": {},
   "outputs": [
    {
     "name": "stdout",
     "output_type": "stream",
     "text": [
      "Original Array:  [10 20 20 20 20  0 20 30 30 30  0  0 20 20  0]\n",
      "Count of 10:  1\n",
      "Count of 20:  7\n",
      "Count of 30:  3\n",
      "Count of 0:  4\n"
     ]
    }
   ],
   "source": [
    "arr = np.array([10, 20, 20, 20, 20, 0, 20, 30, 30, 30, 0, 0, 20, 20, 0])\n",
    "print('Original Array: ', arr)\n",
    "\n",
    "# np.count_nonzero(array == item) : this method returns the count of an item in array.\n",
    "print('Count of 10: ', np.count_nonzero(arr == 10))\n",
    "print('Count of 20: ', np.count_nonzero(arr == 20))\n",
    "print('Count of 30: ', np.count_nonzero(arr == 30))\n",
    "print('Count of 0: ', np.count_nonzero(arr == 0))"
   ]
  },
  {
   "cell_type": "markdown",
   "id": "2bebc620-4e6b-447e-aa5d-c5d1f7431929",
   "metadata": {},
   "source": [
    "72. Write a NumPy program to calculate percentiles for a sequence or single-dimensional NumPy array.\r\n"
   ]
  },
  {
   "cell_type": "code",
   "execution_count": 12,
   "id": "95f90f5a-dd20-40a9-9ec1-26a422c803bc",
   "metadata": {},
   "outputs": [
    {
     "name": "stdout",
     "output_type": "stream",
     "text": [
      "Array:  [1 2 3 4 5]\n",
      "50 percentile:  3.0\n",
      "22 percentile:  1.88\n",
      "12 percentile:  1.48\n"
     ]
    }
   ],
   "source": [
    "arr = np.arange(1, 6)\n",
    "print('Array: ', arr)\n",
    "\n",
    "# np.percentile(array, percentile_value) : This method returns the value obtained from array using percentile.\n",
    "print('50 percentile: ', np.percentile(arr, 50))\n",
    "print('22 percentile: ', np.percentile(arr, 22))\n",
    "print('12 percentile: ', np.percentile(arr, 12))"
   ]
  },
  {
   "cell_type": "markdown",
   "id": "dba19aac-dcfb-4775-996d-08d5cfaa2074",
   "metadata": {},
   "source": [
    "73. Write a NumPy program to find the indices of elements equal to zero in a NumPy array.\n",
    "Sample Output:\n",
    "Original array:\n",
    "[1 0 2 0 3 0 4 5 6 7 8]\n",
    "Indices of elements equal to zero of the said array:\n",
    "[1 3 5]"
   ]
  },
  {
   "cell_type": "code",
   "execution_count": 15,
   "id": "98254c9d-0c92-4307-85d7-5933fac8d8aa",
   "metadata": {},
   "outputs": [
    {
     "name": "stdout",
     "output_type": "stream",
     "text": [
      "Original Array:  [1 0 2 0 3 0 4 5 6 7 8]\n",
      "Indices of zero elements:  [1 3 5]\n"
     ]
    }
   ],
   "source": [
    "arr = np.array([1, 0, 2, 0, 3, 0, 4, 5, 6, 7, 8])\n",
    "print('Original Array: ', arr)\n",
    "\n",
    "# np.where(condition) : This returns the indices of the elements which satisfy the condition.\n",
    "print('Indices of zero elements: ', np.where(arr == 0)[0])"
   ]
  },
  {
   "cell_type": "code",
   "execution_count": null,
   "id": "ab17df37-cbd0-4f32-b5d9-660d2f354a46",
   "metadata": {},
   "outputs": [],
   "source": []
  }
 ],
 "metadata": {
  "kernelspec": {
   "display_name": "Python 3 (ipykernel)",
   "language": "python",
   "name": "python3"
  },
  "language_info": {
   "codemirror_mode": {
    "name": "ipython",
    "version": 3
   },
   "file_extension": ".py",
   "mimetype": "text/x-python",
   "name": "python",
   "nbconvert_exporter": "python",
   "pygments_lexer": "ipython3",
   "version": "3.11.7"
  }
 },
 "nbformat": 4,
 "nbformat_minor": 5
}
