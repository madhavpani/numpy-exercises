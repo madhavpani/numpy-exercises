{
 "cells": [
  {
   "cell_type": "code",
   "execution_count": 1,
   "id": "4b0013f8-4a4c-4a08-93ca-a46f668b5cd4",
   "metadata": {},
   "outputs": [],
   "source": [
    "# import the library numpy as np\n",
    "import numpy as np"
   ]
  },
  {
   "cell_type": "markdown",
   "id": "3487582a-bf6f-497a-bff9-e952021fcd75",
   "metadata": {},
   "source": [
    "1. Write a NumPy program to generate five random numbers from the normal distribution.\r",
    "1]"
   ]
  },
  {
   "cell_type": "code",
   "execution_count": 2,
   "id": "3728dde8-55dc-48cc-9ebc-afc55be2ae6f",
   "metadata": {},
   "outputs": [
    {
     "name": "stdout",
     "output_type": "stream",
     "text": [
      "Array:  [-0.11309482 -1.14272738  0.09960119  0.15524989  0.71626443]\n"
     ]
    }
   ],
   "source": [
    "# np.random.normal(mean, std, size) : This method generates an array of specified size with random numbers whose mean and standard deviation is specified.\n",
    "arr = np.random.normal(size=5)\n",
    "print('Array: ', arr)"
   ]
  },
  {
   "cell_type": "markdown",
   "id": "f382b0b9-2a88-442f-a265-5d8a6a4edbf8",
   "metadata": {},
   "source": [
    "2. Write a NumPy program to generate six random integers between 10 and 30."
   ]
  },
  {
   "cell_type": "code",
   "execution_count": 3,
   "id": "8d3524ef-c803-453c-b2ca-de8dd726be51",
   "metadata": {},
   "outputs": [
    {
     "name": "stdout",
     "output_type": "stream",
     "text": [
      "Array:  [20 27 21 16 20 29]\n"
     ]
    }
   ],
   "source": [
    "# np.random.randint(low, high, size) : This method generates random integers of specified size in range from low to high.\n",
    "arr = np.random.randint(10, 30, 6)\n",
    "print('Array: ', arr)"
   ]
  },
  {
   "cell_type": "markdown",
   "id": "585c2703-ff63-4db2-bbf0-503b84c385b1",
   "metadata": {},
   "source": [
    "3. Write a NumPy program to create a 3x3x3 array with random values."
   ]
  },
  {
   "cell_type": "code",
   "execution_count": 5,
   "id": "2ee6cc49-9c3d-4ef4-bde4-05001601f1b6",
   "metadata": {},
   "outputs": [
    {
     "name": "stdout",
     "output_type": "stream",
     "text": [
      "array:  [[[0.99755545 0.93970487 0.19040939]\n",
      "  [0.40749014 0.32657371 0.95060331]\n",
      "  [0.31316698 0.03866954 0.53320183]]\n",
      "\n",
      " [[0.1066338  0.94023233 0.67305623]\n",
      "  [0.15016226 0.13663274 0.26924472]\n",
      "  [0.09781205 0.1934168  0.85490508]]\n",
      "\n",
      " [[0.81616177 0.81868977 0.53486552]\n",
      "  [0.20209309 0.0242171  0.25733673]\n",
      "  [0.86727835 0.55591659 0.78565188]]]\n"
     ]
    }
   ],
   "source": [
    "# np.random.random(shape) : This method generates random numbers between 0 and 1 of specified shape.\n",
    "arr = np.random.random((3, 3, 3))\n",
    "print('array: ', arr)"
   ]
  },
  {
   "cell_type": "markdown",
   "id": "df654667-f2f1-427e-9ecf-a0e4da43c81b",
   "metadata": {},
   "source": [
    "4. Write a NumPy program to create a 5x5 array with random values and find the minimum and maximum values."
   ]
  },
  {
   "cell_type": "code",
   "execution_count": 7,
   "id": "48fd0f74-38b2-424f-a976-29d3952bb32d",
   "metadata": {},
   "outputs": [
    {
     "name": "stdout",
     "output_type": "stream",
     "text": [
      "array:  [[0.29935097 0.25358371 0.4440679  0.77949076 0.43297994]\n",
      " [0.73930476 0.74825361 0.17867052 0.9958229  0.54735623]\n",
      " [0.81284095 0.10228873 0.26759462 0.41715389 0.8645376 ]\n",
      " [0.6470091  0.15846267 0.62450256 0.63227072 0.77063894]\n",
      " [0.48194715 0.70402312 0.58117999 0.396211   0.98668964]]\n",
      "MInimum:  0.10228873439955921\n",
      "Maximum:  0.9958228990944301\n"
     ]
    }
   ],
   "source": [
    "# np.random.random(shape) : This method generates random numbers between 0 and 1 of specified shape.\n",
    "arr = np.random.random((5, 5))\n",
    "print('array: ', arr)\n",
    "\n",
    "# np.min(array) : This method gives the minimum value from the array.\n",
    "# np.max(array) : This method gives the maximum value from the array.\n",
    "print('MInimum: ', np.min(arr))\n",
    "print('Maximum: ', np.max(arr))"
   ]
  },
  {
   "cell_type": "markdown",
   "id": "78c9cd42-c469-4b10-96ae-5d89cac54590",
   "metadata": {},
   "source": [
    "5. Write a NumPy program to create a random 10x4 array and extract the first five rows of the array and store them into a variable."
   ]
  },
  {
   "cell_type": "code",
   "execution_count": 9,
   "id": "4b7957a3-7b54-4f04-94c0-f749e6794300",
   "metadata": {},
   "outputs": [
    {
     "name": "stdout",
     "output_type": "stream",
     "text": [
      "array:  [[0.80463139 0.48584526 0.1013007  0.82389441]\n",
      " [0.10272199 0.4763658  0.00115383 0.14615665]\n",
      " [0.54975831 0.69935722 0.73788116 0.87428206]\n",
      " [0.26045699 0.1490203  0.19620473 0.61391868]\n",
      " [0.60955843 0.76883388 0.06197198 0.61193112]\n",
      " [0.75608571 0.87201351 0.67095929 0.63405802]\n",
      " [0.51888815 0.10989711 0.02172754 0.01043581]\n",
      " [0.15919468 0.10084636 0.71871993 0.78927824]\n",
      " [0.63862385 0.11456721 0.83786835 0.43265136]\n",
      " [0.47611156 0.53881078 0.17893774 0.72505958]]\n",
      "First five rows:  [[0.80463139 0.48584526 0.1013007  0.82389441]\n",
      " [0.10272199 0.4763658  0.00115383 0.14615665]\n",
      " [0.54975831 0.69935722 0.73788116 0.87428206]\n",
      " [0.26045699 0.1490203  0.19620473 0.61391868]\n",
      " [0.60955843 0.76883388 0.06197198 0.61193112]]\n"
     ]
    }
   ],
   "source": [
    "# np.random.random(shape) : This method generates random numbers between 0 and 1 of specified shape.\n",
    "arr = np.random.random((10, 4))\n",
    "print('array: ', arr)\n",
    "\n",
    "# Advanced Indexing is used to take out the first five rows of the array.\n",
    "first_five_rows = arr[:5, :]\n",
    "print('First five rows: ', first_five_rows)"
   ]
  },
  {
   "cell_type": "markdown",
   "id": "c525fd37-a2e3-48a3-8a77-02a3b099ee8f",
   "metadata": {},
   "source": [
    "6. Write a NumPy program to shuffle numbers between 0 and 10 (inclusive)."
   ]
  },
  {
   "cell_type": "code",
   "execution_count": 12,
   "id": "bc2ea0ca-c77b-40a7-abc5-873b7cbb2478",
   "metadata": {},
   "outputs": [
    {
     "name": "stdout",
     "output_type": "stream",
     "text": [
      "Original Array:  [ 0  1  2  3  4  5  6  7  8  9 10]\n",
      "Shuffled Array:  [ 1  7  0  9  3  2 10  6  4  8  5]\n"
     ]
    }
   ],
   "source": [
    "# np.arange(start, stop, step) : this method creates an array in range from start to stop.\n",
    "arr = np.arange(11)\n",
    "print('Original Array: ', arr)\n",
    "\n",
    "# np.random.shuffle(array) : This method shuffles the specified array randomly.\n",
    "np.random.shuffle(arr)\n",
    "print('Shuffled Array: ', arr)"
   ]
  },
  {
   "cell_type": "markdown",
   "id": "c91fc3ef-f5e4-4721-ac5e-af11657b6b51",
   "metadata": {},
   "source": [
    "7. Write a NumPy program to normalize a 3x3 random matrix."
   ]
  },
  {
   "cell_type": "code",
   "execution_count": 15,
   "id": "a7740344-e435-413d-aef5-d1d0b2b5c80c",
   "metadata": {},
   "outputs": [
    {
     "name": "stdout",
     "output_type": "stream",
     "text": [
      "array:  [[0.2825456  0.97485899 0.86332341]\n",
      " [0.32924418 0.07977352 0.48501952]\n",
      " [0.29561566 0.71577581 0.37008231]]\n",
      "\n",
      "Normalised Array:  [[0.25740459 0.94971797 0.83818239]\n",
      " [0.30410317 0.05463251 0.45987851]\n",
      " [0.27047465 0.6906348  0.34494129]]\n"
     ]
    }
   ],
   "source": [
    "# np.random.random(shape) : This method generates random numbers between 0 and 1 of specified shape.\n",
    "arr = np.random.random((3, 3))\n",
    "print('array: ', arr)\n",
    "\n",
    "# min-max normalisation\n",
    "# np.min(array) : This method gives the minimum value from the array.\n",
    "# np.max(array) : This method gives the maximum value from the array.\n",
    "mini, maxi = np.min(arr), np.max(arr)\n",
    "\n",
    "arr = arr - mini/ mini + maxi\n",
    "print('\\nNormalised Array: ', arr)"
   ]
  },
  {
   "cell_type": "markdown",
   "id": "8ec1488d-58fb-4504-ae5f-05bfc6a76a11",
   "metadata": {},
   "source": [
    "8. Write a NumPy program to create a random vector of size 10 and sort it."
   ]
  },
  {
   "cell_type": "code",
   "execution_count": 33,
   "id": "b9d92969-8416-4842-a02a-cabc8ca22b21",
   "metadata": {},
   "outputs": [
    {
     "name": "stdout",
     "output_type": "stream",
     "text": [
      "Vector:  [0.28363607 0.20061206 0.42616823 0.37053867 0.70841533 0.30485953\n",
      " 0.43538696 0.46096871 0.83703786 0.21920499]\n",
      "\n",
      "Sorted Vector:  [0.20061206 0.21920499 0.28363607 0.30485953 0.37053867 0.42616823\n",
      " 0.43538696 0.46096871 0.70841533 0.83703786]\n"
     ]
    }
   ],
   "source": [
    "vector = np.random.random(10)\n",
    "print('Vector: ', vector)\n",
    "\n",
    "# np.sort(array) : This method sorts the array that we pass to it.\n",
    "print('\\nSorted Vector: ', np.sort(vector))"
   ]
  },
  {
   "cell_type": "markdown",
   "id": "17639b2b-a40a-4596-89a2-d28fd5b75dc6",
   "metadata": {},
   "source": [
    "9. Write a NumPy program to check two random arrays are equal or not.\n"
   ]
  },
  {
   "cell_type": "code",
   "execution_count": 36,
   "id": "346fe188-073d-4007-9d17-bf53cb85de25",
   "metadata": {},
   "outputs": [
    {
     "name": "stdout",
     "output_type": "stream",
     "text": [
      "Array1:  [0.79546469 0.14647602 0.66671961 0.34466121]\n",
      "\n",
      "Array2:  [0.63077308 0.77390731 0.85245247 0.68117924]\n",
      "\n",
      "Is_Array_Equal:  False\n"
     ]
    }
   ],
   "source": [
    "# np.allclose(array1, array2) : this method checks element wise in both the array and returns true if both are equal.\n",
    "arr1 = np.random.random(4)\n",
    "print('Array1: ', arr1)\n",
    "arr2 = np.random.random(4)\n",
    "print('\\nArray2: ', arr2)\n",
    "\n",
    "print('\\nIs_Array_Equal: ', np.allclose(arr1, arr2)) "
   ]
  },
  {
   "cell_type": "markdown",
   "id": "5b7640f8-a7e9-4809-b126-731325780355",
   "metadata": {},
   "source": [
    "10. Write a NumPy program to create random vector of size 15 and replace the maximum value by -1.\r\n"
   ]
  },
  {
   "cell_type": "code",
   "execution_count": 46,
   "id": "e4d9cba2-017e-4136-af80-4ede68f066d2",
   "metadata": {},
   "outputs": [
    {
     "name": "stdout",
     "output_type": "stream",
     "text": [
      "Vector:  [0.57776664 0.55554136 0.58762784 0.04922165 0.6704031  0.05819908\n",
      " 0.90903456 0.79814981 0.48656797 0.45832321 0.08356526 0.22904361\n",
      " 0.75307472 0.24649467 0.38225729]\n",
      "\n",
      "Max Replaced Vector:  [ 0.57776664  0.55554136  0.58762784  0.04922165  0.6704031   0.05819908\n",
      " -1.          0.79814981  0.48656797  0.45832321  0.08356526  0.22904361\n",
      "  0.75307472  0.24649467  0.38225729]\n"
     ]
    }
   ],
   "source": [
    "arr = np.random.random(15)\n",
    "print('Vector: ', arr)\n",
    "\n",
    "# np.argmax(array) : Returns the index of the maximum value in array.\n",
    "# Using Advanced Indexing for Assigning -1 to maximum.\n",
    "\n",
    "arr[np.argmax(arr)] = -1\n",
    "print('\\nMax Replaced Vector: ', arr)"
   ]
  },
  {
   "cell_type": "markdown",
   "id": "9dcc9f97-7d5a-451b-b56c-2e3b9dbdecdd",
   "metadata": {},
   "source": [
    "13. Write a NumPy program to find the most frequent value in an array."
   ]
  },
  {
   "cell_type": "code",
   "execution_count": 11,
   "id": "f2825819-c33a-4b4c-87da-7cf2641bdcce",
   "metadata": {},
   "outputs": [
    {
     "name": "stdout",
     "output_type": "stream",
     "text": [
      "Original Array:  [ 6 10  3  3  7 12 16  2  2  8  5 15  2 17  7  9 12  1 13  8]\n",
      "[0 1 3 2 0 1 1 2 2 1 1 0 2 1 0 1 1 1]\n",
      "Most Frequent Value In array:  2\n"
     ]
    }
   ],
   "source": [
    "# create a random integer array of size 20.\n",
    "arr = np.random.randint(22, size=20)\n",
    "print('Original Array: ', arr)\n",
    "\n",
    "# np.bincount(array): This function counts the number of occurrences of each non-negative integer in the array. It returns an array where the element \n",
    "#                at index i represents the count of the integer i in the input array.\n",
    "\n",
    "# .bincount(array).argmax() : This function finds the index of the maximum element in the output array\n",
    "print('Most Frequent Value In array: ', np.bincount(arr).argmax())"
   ]
  },
  {
   "cell_type": "markdown",
   "id": "c34ef147-5cb2-4f38-b1a4-c4d6d7149cde",
   "metadata": {},
   "source": [
    "14. Write a NumPy program to create a three-dimension array with shape (300,400,5) and set to a variable. Fill the array elements with values using unsigned integer (0 to 255).\n"
   ]
  },
  {
   "cell_type": "code",
   "execution_count": 15,
   "id": "9051defd-6f50-493c-95e3-ef5f94564ef0",
   "metadata": {},
   "outputs": [
    {
     "name": "stdout",
     "output_type": "stream",
     "text": [
      "Original Array:  [[[227  46 219 153  53]\n",
      "  [ 83 174 204  26 156]\n",
      "  [ 21 122 165 219  64]\n",
      "  ...\n",
      "  [170 230 176 127 130]\n",
      "  [220 187  45 179 245]\n",
      "  [ 58  47  86  11 229]]\n",
      "\n",
      " [[ 93 146 149 147 184]\n",
      "  [  0 139  19 254 115]\n",
      "  [223 142 135 142  71]\n",
      "  ...\n",
      "  [110 152  84 132 172]\n",
      "  [  1 225 106 139  12]\n",
      "  [ 88 113  95 102 102]]\n",
      "\n",
      " [[197 241 133 175 153]\n",
      "  [224   4 149 164  62]\n",
      "  [246 125  96 178 174]\n",
      "  ...\n",
      "  [159  81  36  49  21]\n",
      "  [250 227 131 205 132]\n",
      "  [165  97 117  93 234]]\n",
      "\n",
      " ...\n",
      "\n",
      " [[ 80 243 112  89  55]\n",
      "  [221 205  11 152 238]\n",
      "  [ 11 149 207 148  50]\n",
      "  ...\n",
      "  [185  43  99 177  92]\n",
      "  [244  22   9 190  13]\n",
      "  [226 203 124 115  18]]\n",
      "\n",
      " [[160  79  44  68 155]\n",
      "  [ 27 159  26 173 239]\n",
      "  [207 252  71   8 162]\n",
      "  ...\n",
      "  [200  17 160  51 129]\n",
      "  [ 13 220   9 204 134]\n",
      "  [ 43 203 225 147 159]]\n",
      "\n",
      " [[111 177  86  25  68]\n",
      "  [156 196  66 141 156]\n",
      "  [242  49 220 170 253]\n",
      "  ...\n",
      "  [224 146 222 110  74]\n",
      "  [  8 108 221 155 211]\n",
      "  [150  55   9 159 110]]]\n"
     ]
    }
   ],
   "source": [
    "# np.random.randint(low, high, size) = Creates an array of specified size in the given range low to high.\n",
    "# size = product of elements in shape.\n",
    "arr = np.random.randint(0, 255, size=(300,400,5))\n",
    "print('Original Array: ', arr)"
   ]
  },
  {
   "cell_type": "code",
   "execution_count": null,
   "id": "77d091ce-6c76-4e39-8195-bbe8f9d5fc36",
   "metadata": {},
   "outputs": [],
   "source": []
  }
 ],
 "metadata": {
  "kernelspec": {
   "display_name": "Python 3 (ipykernel)",
   "language": "python",
   "name": "python3"
  },
  "language_info": {
   "codemirror_mode": {
    "name": "ipython",
    "version": 3
   },
   "file_extension": ".py",
   "mimetype": "text/x-python",
   "name": "python",
   "nbconvert_exporter": "python",
   "pygments_lexer": "ipython3",
   "version": "3.11.7"
  }
 },
 "nbformat": 4,
 "nbformat_minor": 5
}
