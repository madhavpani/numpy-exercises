{
 "cells": [
  {
   "cell_type": "code",
   "execution_count": 1,
   "id": "2b34d537-d852-4180-a8bb-9ef61d53cadd",
   "metadata": {},
   "outputs": [],
   "source": [
    "# import numpy library with alias np\n",
    "import numpy as np"
   ]
  },
  {
   "cell_type": "markdown",
   "id": "563e61d1-74ab-42e4-8939-4c2f534bff56",
   "metadata": {},
   "source": [
    "1. Write a NumPy program to compute the multiplication of two given matrixes.\n"
   ]
  },
  {
   "cell_type": "code",
   "execution_count": 3,
   "id": "3e1f880a-f2c2-4a35-842a-fa5051a106f8",
   "metadata": {},
   "outputs": [
    {
     "name": "stdout",
     "output_type": "stream",
     "text": [
      "Matrix1:  [[1 2]\n",
      " [3 4]]\n",
      "Matrix2:  [[1 2]\n",
      " [3 4]]\n",
      "Matrix Multiplied:  [[ 7 10]\n",
      " [15 22]]\n"
     ]
    }
   ],
   "source": [
    "# np.dot(matrix1, matrix2) : This method returns a third matrix which is the product of the matrix1 and matrix2 which are passed as arguments.\n",
    "matrix1 = np.array([[1, 2], [3, 4]])\n",
    "matrix2 = np.array([[1, 2], [3, 4]])\n",
    "print('Matrix1: ', matrix1)\n",
    "print('Matrix2: ', matrix2)\n",
    "\n",
    "print('Matrix Multiplied: ', np.dot(matrix1, matrix2))"
   ]
  },
  {
   "cell_type": "markdown",
   "id": "b7b7773a-5365-45ab-90fa-2ed4b91ff46c",
   "metadata": {},
   "source": [
    "2. Write a NumPy program to compute the outer product of two given vectors.\n"
   ]
  },
  {
   "cell_type": "code",
   "execution_count": 4,
   "id": "374144f8-08cd-4108-8931-60a3834d02e9",
   "metadata": {},
   "outputs": [
    {
     "name": "stdout",
     "output_type": "stream",
     "text": [
      "Vector1:  [1 2]\n",
      "Vectro2:  [3 4]\n",
      "Outer Product:  [[3 4]\n",
      " [6 8]]\n"
     ]
    }
   ],
   "source": [
    "# Outer Product : It is the product between the elements of a cartesian product. e.g. let a = [1,2] and b = [3, 4]. Therefore the cartesian products are\n",
    "#                 (1, 3), (1, 4), (2, 3), (2, 4). Now the outer products are: 3, 4, 6, 8 ( since 1*3, 1*4, 2*3, 2*4 respectively).\n",
    "\n",
    "# np.outer(array1, array2) : this method creates the outer product between the two arrays that are passed as arguments.\n",
    "vector1 = np.array([1, 2])\n",
    "vector2 = np.array([3, 4])\n",
    "print('Vector1: ', vector1)\n",
    "print('Vectro2: ', vector2)\n",
    "\n",
    "print('Outer Product: ', np.outer(vector1, vector2))"
   ]
  },
  {
   "cell_type": "markdown",
   "id": "21f8df6b-3481-4109-a5db-cb761bd5b0a8",
   "metadata": {},
   "source": [
    "3. Write a NumPy program to compute the cross product of two given vectors.\r\n"
   ]
  },
  {
   "cell_type": "code",
   "execution_count": 6,
   "id": "6c3f15ac-b659-4520-ac30-6205f1282d8f",
   "metadata": {},
   "outputs": [
    {
     "name": "stdout",
     "output_type": "stream",
     "text": [
      "Array1:  [[0 1]\n",
      " [2 3]]\n",
      "Array2:  [[4 5]\n",
      " [6 7]]\n",
      "Cross Product:  [-4 -4]\n"
     ]
    }
   ],
   "source": [
    "# Cross Product: It is that one which we use in physics, where we get magnitude and direction. Negative sign indicates opposite direction.\n",
    "\n",
    "# np.cross(array1, array2) : This method generates the cross product of the two arrays that we pass as argument\n",
    "\n",
    "arr1 = np.arange(4).reshape(2, 2)\n",
    "arr2 = np.arange(4, 8).reshape(2, 2)\n",
    "print('Array1: ', arr1)\n",
    "print('Array2: ', arr2)\n",
    "\n",
    "print('Cross Product: ', np.cross(arr1, arr2))"
   ]
  },
  {
   "cell_type": "markdown",
   "id": "da5c13b3-326d-4443-a682-d5658ce72c2e",
   "metadata": {},
   "source": [
    "4. Write a NumPy program to compute the determinant of a given square array.\r\n"
   ]
  },
  {
   "cell_type": "code",
   "execution_count": 10,
   "id": "37bdbcab-fc63-4f45-a7f5-ad99b98a7b9f",
   "metadata": {},
   "outputs": [
    {
     "name": "stdout",
     "output_type": "stream",
     "text": [
      "Square Matrix:  [[0 1]\n",
      " [2 3]]\n",
      "Determinant:  -2.0\n"
     ]
    }
   ],
   "source": [
    "# np.linalg.det(matrix) : This method returns the determinant of a square matrix.\n",
    "# np.linalg : This module is used to solve linear algebra problems..\n",
    "square_matrix = np.arange(4).reshape(2, 2)\n",
    "print('Square Matrix: ', square_matrix)\n",
    "\n",
    "print('Determinant: ', np.linalg.det(square_matrix))"
   ]
  },
  {
   "cell_type": "markdown",
   "id": "fdd7985f-766c-447c-9dc2-b3466f5499ff",
   "metadata": {},
   "source": [
    "5. Write a NumPy program to compute the inner product of vectors for 1-D arrays (without complex conjugation) and in higher dimension."
   ]
  },
  {
   "cell_type": "code",
   "execution_count": 11,
   "id": "7f28efda-15ff-4bd7-8184-896450a6b928",
   "metadata": {},
   "outputs": [
    {
     "name": "stdout",
     "output_type": "stream",
     "text": [
      "Array1:  [1 4 6]\n",
      "Array2:  [2 4 8]\n",
      "Inner Product:  66\n"
     ]
    }
   ],
   "source": [
    "# Inner Product: It is the sum of zip products generated with the two arrays. e.g. a = [1, 4, 6] and b = [2, 4, 8] are two ndarray. The zips are\n",
    "#                (1, 2), (4, 4) and (6, 8), when we take sum of zip products we get: 2 + 16 + 48 = 66.\n",
    "# np.inner(array1, array2) : This will give the inner product.\n",
    "arr1 = np.array([1, 4, 6])\n",
    "arr2 = np.array([2, 4, 8])\n",
    "print('Array1: ', arr1)\n",
    "print('Array2: ', arr2)\n",
    "\n",
    "print('Inner Product: ', np.inner(arr1, arr2))"
   ]
  },
  {
   "cell_type": "markdown",
   "id": "6d1fecec-4e5a-4dff-9dcf-9d275acb333d",
   "metadata": {},
   "source": [
    "6. Write a NumPy program to compute the eigenvalues and right eigenvectors of a given square array.\r\n"
   ]
  },
  {
   "cell_type": "code",
   "execution_count": 12,
   "id": "52a86f7b-5705-4eef-a784-58f388dd7f79",
   "metadata": {},
   "outputs": [
    {
     "name": "stdout",
     "output_type": "stream",
     "text": [
      "Matrix:  [[ 1  2  3  4]\n",
      " [ 5  6  7  8]\n",
      " [ 9 10 11 12]\n",
      " [13 14 15 16]]\n",
      "Eigen Values:  [ 3.62093727e+01 -2.20937271e+00 -2.57831463e-15  5.57979826e-17]\n",
      "Eigen Vectors:  [[-0.15115432  0.72704996  0.51747505 -0.06588506]\n",
      " [-0.34923733  0.28320876 -0.82375673 -0.31743721]\n",
      " [-0.54732033 -0.16063243  0.09508831  0.83252961]\n",
      " [-0.74540333 -0.60447363  0.21119337 -0.44920733]]\n"
     ]
    }
   ],
   "source": [
    "# np.linalg.eig(matrix) : This method generates the eigen value and eigen vector.\n",
    "matrix = np.arange(1, 17).reshape(4, 4)\n",
    "print('Matrix: ', matrix)\n",
    "\n",
    "eigen_value, eigen_vector = np.linalg.eig(matrix)\n",
    "print('Eigen Values: ', eigen_value)\n",
    "print('Eigen Vectors: ', eigen_vector)"
   ]
  },
  {
   "cell_type": "markdown",
   "id": "c8df7ec9-e1d2-440e-bd84-1b78ec440a27",
   "metadata": {},
   "source": [
    "7. Write a NumPy program to compute the condition number of a given matrix.\r\n"
   ]
  },
  {
   "cell_type": "code",
   "execution_count": 13,
   "id": "3f9c2bfa-c314-43ab-92c3-aed99c96feb7",
   "metadata": {},
   "outputs": [
    {
     "name": "stdout",
     "output_type": "stream",
     "text": [
      "Matrix:  [[ 0  1  2  3]\n",
      " [ 4  5  6  7]\n",
      " [ 8  9 10 11]\n",
      " [12 13 14 15]]\n",
      "Condition Number of the Matrix:  8.942064346927267e+17\n"
     ]
    }
   ],
   "source": [
    "# Condition Number :  The condition number of a function with respect to an argument measures how much the output value of the function can change\n",
    "#                     for a small change in the input argument. This is used to measure how sensitive a function is to changes or errors in the input, \n",
    "#                     and how much error in the output results from an error in the input.In linear regression the condition number can be used as a \n",
    "#                     diagnostic for multicollinearity.\n",
    "\n",
    "# np.linalg.cond(matrix) : This will return the condition number of the matrix.\n",
    "\n",
    "matrix = np.arange(16).reshape(4, 4)\n",
    "print('Matrix: ', matrix)\n",
    "\n",
    "print('Condition Number of the Matrix: ', np.linalg.cond(matrix))"
   ]
  },
  {
   "cell_type": "markdown",
   "id": "ae621d9a-da13-4c18-bca2-8f03236c34cb",
   "metadata": {},
   "source": [
    "8. Write a NumPy program to find a matrix or vector norm.\n"
   ]
  },
  {
   "cell_type": "code",
   "execution_count": 15,
   "id": "c30f1607-d259-4d5c-8bf5-1c384fd04145",
   "metadata": {},
   "outputs": [
    {
     "name": "stdout",
     "output_type": "stream",
     "text": [
      "Vector:  [0 1 2 3 4 5 6 7 8]\n",
      "Matrix:  [[0 1 2]\n",
      " [3 4 5]\n",
      " [6 7 8]]\n",
      "Vector norm:  14.2828568570857\n",
      "Matrix norm:  14.2828568570857\n"
     ]
    }
   ],
   "source": [
    "# L2 Norm : It is the squareroot of sum of squares of each element in the vector or matrix.\n",
    "# np.linalg.norm(array) : This returns the l2 norm of the given array.\n",
    "\n",
    "matrix = np.arange(9).reshape(3, 3)\n",
    "vector = np.arange(9)\n",
    "print('Vector: ', vector)\n",
    "print('Matrix: ', matrix)\n",
    "\n",
    "print('Vector norm: ', np.linalg.norm(vector))\n",
    "print('Matrix norm: ', np.linalg.norm(matrix))"
   ]
  },
  {
   "cell_type": "markdown",
   "id": "c94bfb00-e8b7-47f6-8fa6-2d1ba0c06750",
   "metadata": {},
   "source": [
    "9. Write a NumPy program to compute the inverse of a given matrix.\r\n"
   ]
  },
  {
   "cell_type": "code",
   "execution_count": 17,
   "id": "926413c6-317e-46fa-b0ea-764b061b2af9",
   "metadata": {},
   "outputs": [
    {
     "name": "stdout",
     "output_type": "stream",
     "text": [
      "Array:  [[1 2]\n",
      " [3 4]]\n",
      "Inverse of the Array:  [[-2.   1. ]\n",
      " [ 1.5 -0.5]]\n"
     ]
    }
   ],
   "source": [
    "# np.linalg.inv(array) : This method returns the inverse of the passed array.\n",
    "arr = np.arange(1, 5).reshape(2, 2)\n",
    "print('Array: ', arr)\n",
    "\n",
    "print('Inverse of the Array: ', np.linalg.inv(arr))"
   ]
  },
  {
   "cell_type": "markdown",
   "id": "3e51e00c-bf7e-4f5e-b204-13cab723c979",
   "metadata": {},
   "source": [
    "10. Write a NumPy program to calculate the QR decomposition of a given matrix.\n"
   ]
  },
  {
   "cell_type": "code",
   "execution_count": 24,
   "id": "66622ba6-da59-4e3d-aabf-c6d43057a546",
   "metadata": {},
   "outputs": [
    {
     "name": "stdout",
     "output_type": "stream",
     "text": [
      "Original Matrix:  [[ 0  1  2  3]\n",
      " [ 4  5  6  7]\n",
      " [ 8  9 10 11]\n",
      " [12 13 14 15]]\n",
      "\n",
      "QR Decomposition of the matrix: \n",
      "\n",
      "Q matrix:  [[ 0.         -0.83666003  0.48308786  0.25812035]\n",
      " [-0.26726124 -0.47809144 -0.8365087   0.01591196]\n",
      " [-0.53452248 -0.11952286  0.22375381 -0.80618499]\n",
      " [-0.80178373  0.23904572  0.12966702  0.53215267]]\n",
      "\n",
      "R matrix:  [[-1.49666295e+01 -1.65701970e+01 -1.81737645e+01 -1.97773319e+01]\n",
      " [ 0.00000000e+00 -1.19522861e+00 -2.39045722e+00 -3.58568583e+00]\n",
      " [ 0.00000000e+00  0.00000000e+00 -1.71941189e-15 -5.80877984e-15]\n",
      " [ 0.00000000e+00  0.00000000e+00  0.00000000e+00 -9.19619468e-16]]\n"
     ]
    }
   ],
   "source": [
    "# QR decomposition : let say we have a Matrix A. Then we can decompose A into the product of two other matrice Q and R, where Q is an orthogonal matrix\n",
    "#                    and R is an upper triangular matrix. Therefor A = QR. For more details see the below output of the example.\n",
    "\n",
    "# np.linalg.qr(Matrix) : This method generates two other matrices Q and R.\n",
    "\n",
    "matrix = np.arange(16).reshape(4, 4)\n",
    "print('Original Matrix: ', matrix)\n",
    "\n",
    "print('\\nQR Decomposition of the matrix: ')\n",
    "print('\\nQ matrix: ', np.linalg.qr(matrix)[0])\n",
    "print('\\nR matrix: ', np.linalg.qr(matrix)[1])"
   ]
  },
  {
   "cell_type": "markdown",
   "id": "d1b66e57-2e05-42d5-9e1e-120b06ecb6df",
   "metadata": {},
   "source": [
    "11. Write a NumPy program to compute the sum of the diagonal element of a given array.\r\n"
   ]
  },
  {
   "cell_type": "code",
   "execution_count": 25,
   "id": "4a78904b-3daa-4e66-a6af-db15be1ac5ce",
   "metadata": {},
   "outputs": [
    {
     "name": "stdout",
     "output_type": "stream",
     "text": [
      "Matrix:  [[ 0  1  2  3]\n",
      " [ 4  5  6  7]\n",
      " [ 8  9 10 11]\n",
      " [12 13 14 15]]\n",
      "\n",
      "Trace of the Matrix:  30\n"
     ]
    }
   ],
   "source": [
    "# trace(matrix) : This is the sum of diagonal elements in a matrix.\n",
    "# np.trace(matrix) : This method is used to find the trace of the matrix.\n",
    "\n",
    "matrix = np.arange(16).reshape(4, 4)\n",
    "print('Matrix: ', matrix)\n",
    "\n",
    "print('\\nTrace of the Matrix: ', np.trace(matrix))"
   ]
  },
  {
   "cell_type": "code",
   "execution_count": null,
   "id": "403d4bf4-a52d-48d7-9207-3f629a186a8d",
   "metadata": {},
   "outputs": [],
   "source": []
  }
 ],
 "metadata": {
  "kernelspec": {
   "display_name": "Python 3 (ipykernel)",
   "language": "python",
   "name": "python3"
  },
  "language_info": {
   "codemirror_mode": {
    "name": "ipython",
    "version": 3
   },
   "file_extension": ".py",
   "mimetype": "text/x-python",
   "name": "python",
   "nbconvert_exporter": "python",
   "pygments_lexer": "ipython3",
   "version": "3.11.7"
  }
 },
 "nbformat": 4,
 "nbformat_minor": 5
}
