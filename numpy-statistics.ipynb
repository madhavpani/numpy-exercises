{
 "cells": [
  {
   "cell_type": "code",
   "execution_count": 91,
   "id": "376f733b-9fc1-4db2-83e7-a3dde90b4ae1",
   "metadata": {},
   "outputs": [],
   "source": [
    "# import the library numpy with alias np\n",
    "import numpy as np"
   ]
  },
  {
   "cell_type": "markdown",
   "id": "157df008-d629-4657-bb18-6241e307ceda",
   "metadata": {},
   "source": [
    "1. Write a Python program to find the maximum and minimum value of a given flattened array.\r\n"
   ]
  },
  {
   "cell_type": "code",
   "execution_count": 92,
   "id": "71665b5c-4bc6-4f90-8643-38e0c40b14f9",
   "metadata": {},
   "outputs": [
    {
     "name": "stdout",
     "output_type": "stream",
     "text": [
      "Original Array:  [17 15 20 20 14]\n",
      "\n",
      "Maximum:  20\n",
      "\n",
      "Minimum:  14\n"
     ]
    }
   ],
   "source": [
    "arr = np.random.randint(12, 22, 5)\n",
    "print('Original Array: ', arr)\n",
    "\n",
    "# np.max(array) : This method returns the maximum value in the array.\n",
    "print('\\nMaximum: ', np.max(arr))\n",
    "\n",
    "# np.min(array) : this method returns the minimum value in the array.\n",
    "print('\\nMinimum: ', np.min(arr))"
   ]
  },
  {
   "cell_type": "markdown",
   "id": "af916998-51e5-4a0b-9339-8fe615d16019",
   "metadata": {},
   "source": [
    "2. Write a NumPy program to get the minimum and maximum value of a given array along the second axis.\r\n"
   ]
  },
  {
   "cell_type": "code",
   "execution_count": 94,
   "id": "f8fd3eac-dfea-4e1e-82d4-3074ad43bd52",
   "metadata": {},
   "outputs": [
    {
     "name": "stdout",
     "output_type": "stream",
     "text": [
      "Original Array:  [[15 15 21 16]\n",
      " [12 15 18 14]\n",
      " [18 21 13 14]]\n",
      "\n",
      "Maximum along 2nd axis:  [21 18 21]\n",
      "\n",
      "Minimum along 2nd Axis:  [15 12 13]\n"
     ]
    }
   ],
   "source": [
    "arr = np.random.randint(12, 22, size=(3, 4))\n",
    "print('Original Array: ', arr)\n",
    "\n",
    "# np.max(array, axis) : This method returns the maximum value in the array along the given axis.\n",
    "print('\\nMaximum along 2nd axis: ', np.max(arr, axis=1))\n",
    "\n",
    "# np.min(array, axis) : This method returns the minimum value in the array along the given axis.\n",
    "print('\\nMinimum along 2nd Axis: ', np.min(arr, axis=1))"
   ]
  },
  {
   "cell_type": "markdown",
   "id": "6d15cc59-e9f7-40c7-ae93-d8a1086cfb73",
   "metadata": {},
   "source": [
    "3. Write a NumPy program to compute the 80th percentile for all elements in a given array along the second axis."
   ]
  },
  {
   "cell_type": "code",
   "execution_count": 95,
   "id": "f9a3a4dd-b27f-403d-9cdd-f93ae072a930",
   "metadata": {},
   "outputs": [
    {
     "name": "stdout",
     "output_type": "stream",
     "text": [
      "Original Array:  [[16 15 19 12]\n",
      " [21 14 12 18]\n",
      " [14 13 20 14]]\n",
      "\n",
      "80th percentiles:  [17.2 19.2 16.4]\n"
     ]
    }
   ],
   "source": [
    "arr = np.random.randint(12, 22, size=(3, 4))\n",
    "print('Original Array: ', arr)\n",
    "\n",
    "# np.percentile(array, percentile_value, axis) : This method computes the percentilel for all elements in a given array along the second axis.\n",
    "print('\\n80th percentiles: ', np.percentile(arr, 80, 1))"
   ]
  },
  {
   "cell_type": "markdown",
   "id": "9d597368-4022-4af2-a40b-2be90d8626ea",
   "metadata": {},
   "source": [
    "4. Write a NumPy program to compute the median of flattened given array."
   ]
  },
  {
   "cell_type": "code",
   "execution_count": 97,
   "id": "ac708e23-9241-4ca8-8258-1ca236da81b6",
   "metadata": {},
   "outputs": [
    {
     "name": "stdout",
     "output_type": "stream",
     "text": [
      "Original Array:  [18 15 14 20 15 14 19 16 12 18 16 16 13 14 14]\n",
      "\n",
      "Median:  15.0\n"
     ]
    }
   ],
   "source": [
    "arr = np.random.randint(12, 22, 15)\n",
    "print('Original Array: ', arr)\n",
    "\n",
    "# np.median(array) : This method returns the median of the array given.\n",
    "print('\\nMedian: ', np.median(arr))"
   ]
  },
  {
   "cell_type": "markdown",
   "id": "b8c48488-bca2-4110-8490-e7dbcf16163f",
   "metadata": {},
   "source": [
    "5. Write a NumPy program to compute the mean, standard deviation, and variance of a given array along the second axis.\n"
   ]
  },
  {
   "cell_type": "code",
   "execution_count": 101,
   "id": "6f2de0e3-cebe-49af-a010-f1cfd65e7506",
   "metadata": {},
   "outputs": [
    {
     "name": "stdout",
     "output_type": "stream",
     "text": [
      "Original Array:  [[13 13 15 19]\n",
      " [20 12 15 16]\n",
      " [21 19 19 14]\n",
      " [18 16 15 17]]\n",
      "\n",
      "Mean of the array:  16.375\n",
      "\n",
      "Standard Deviation of the array:  2.6427968139832467\n",
      "\n",
      "Variance of the array:  6.984375\n"
     ]
    }
   ],
   "source": [
    "arr = np.random.randint(12, 22, (4, 4))\n",
    "print('Original Array: ', arr)\n",
    "\n",
    "# np.mean(array) : Returns the mean of the array specified.\n",
    "print('\\nMean of the array: ', np.mean(arr))\n",
    "\n",
    "# np.std(array) : Returns the standard deviation of the array specified.\n",
    "print('\\nStandard Deviation of the array: ', np.std(arr))\n",
    "\n",
    "# np.var(array) : Returns the variance of the array specified.\n",
    "print('\\nVariance of the array: ', np.var(arr))"
   ]
  },
  {
   "cell_type": "markdown",
   "id": "aeb4a388-7d85-45b4-9f0e-3b147b1afeb9",
   "metadata": {},
   "source": [
    "6. Write a NumPy program to compute the covariance matrix of two given arrays.\r\n"
   ]
  },
  {
   "cell_type": "code",
   "execution_count": 102,
   "id": "bbb90b98-1d7c-41cf-a40e-1e194cfce6d9",
   "metadata": {},
   "outputs": [
    {
     "name": "stdout",
     "output_type": "stream",
     "text": [
      "Array1:  [16 21 20 13 13]\n",
      "\n",
      "Array2:  [16 16 19 21 20]\n",
      "\n",
      "Covariance Matrix:  [[14.3  -5.55]\n",
      " [-5.55  5.3 ]]\n"
     ]
    }
   ],
   "source": [
    "arr1 = np.random.randint(12, 22, 5)\n",
    "arr2 = np.random.randint(12, 22, 5)\n",
    "\n",
    "print('Array1: ', arr1)\n",
    "print('\\nArray2: ', arr2)\n",
    "\n",
    "# np.cov(array1, array2) : computes the covariance matrix of the two given arrays.\n",
    "print('\\nCovariance Matrix: ', np.cov(arr1, arr2))"
   ]
  },
  {
   "cell_type": "markdown",
   "id": "52408bb7-edf1-4ed7-81ef-024cab298ecd",
   "metadata": {},
   "source": [
    "7. Write a NumPy program to compute cross-correlation of two given arrays.\r\n"
   ]
  },
  {
   "cell_type": "code",
   "execution_count": 103,
   "id": "d28f7fa8-b75f-4632-bd25-05492ccf6649",
   "metadata": {},
   "outputs": [
    {
     "name": "stdout",
     "output_type": "stream",
     "text": [
      "Array1:  [18 17 14 19 16]\n",
      "\n",
      "Array2:  [14 21 17 15 12]\n",
      "\n",
      "Cross-Correlation:  [1324]\n"
     ]
    }
   ],
   "source": [
    "arr1 = np.random.randint(12, 22, 5)\n",
    "arr2 = np.random.randint(12, 22, 5)\n",
    "\n",
    "print('Array1: ', arr1)\n",
    "print('\\nArray2: ', arr2)\n",
    "\n",
    "# np.corr(array1, array2) : This function computes cross-correlation of two given arrays.\n",
    "print('\\nCross-Correlation: ', np.correlate(arr1, arr2))"
   ]
  },
  {
   "cell_type": "markdown",
   "id": "fb8bbb90-c40d-4648-944b-14d1e1bc7719",
   "metadata": {},
   "source": [
    "8. Write a NumPy program to compute pearson product-moment correlation coefficients of two given arrays.\r\n"
   ]
  },
  {
   "cell_type": "code",
   "execution_count": 105,
   "id": "e12a05fc-65c5-4d72-b42f-00197fa08153",
   "metadata": {},
   "outputs": [
    {
     "name": "stdout",
     "output_type": "stream",
     "text": [
      "Array1:  [21 13 20 12 14]\n",
      "\n",
      "Array2:  [18 17 19 17 13]\n",
      "\n",
      "Pearson product-moment correlation coefficients:  [[1.         0.55034954]\n",
      " [0.55034954 1.        ]]\n"
     ]
    }
   ],
   "source": [
    "arr1 = np.random.randint(12, 22, 5)\n",
    "arr2 = np.random.randint(12, 22, 5)\n",
    "\n",
    "print('Array1: ', arr1)\n",
    "print('\\nArray2: ', arr2)\n",
    "\n",
    "# np.corrcoef(array1, array2) : computes correlation coefficients of two given arrays.\n",
    "print('\\nPearson product-moment correlation coefficients: ', np.corrcoef(arr1, arr2))"
   ]
  },
  {
   "cell_type": "code",
   "execution_count": null,
   "id": "c680de22-0d61-4622-83fc-aa8ad9396783",
   "metadata": {},
   "outputs": [],
   "source": []
  }
 ],
 "metadata": {
  "kernelspec": {
   "display_name": "Python 3 (ipykernel)",
   "language": "python",
   "name": "python3"
  },
  "language_info": {
   "codemirror_mode": {
    "name": "ipython",
    "version": 3
   },
   "file_extension": ".py",
   "mimetype": "text/x-python",
   "name": "python",
   "nbconvert_exporter": "python",
   "pygments_lexer": "ipython3",
   "version": "3.11.7"
  }
 },
 "nbformat": 4,
 "nbformat_minor": 5
}
